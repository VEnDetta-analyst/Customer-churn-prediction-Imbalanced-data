{
 "cells": [
  {
   "cell_type": "code",
   "execution_count": 1,
   "metadata": {},
   "outputs": [],
   "source": [
    "import pandas as pd\n",
    "import tensorflow as tf\n",
    "from tensorflow import keras\n",
    "import matplotlib.pyplot as plt\n",
    "import numpy as np"
   ]
  },
  {
   "cell_type": "code",
   "execution_count": 2,
   "metadata": {},
   "outputs": [],
   "source": [
    "df=pd.read_csv(\"customer_churn.csv\")"
   ]
  },
  {
   "cell_type": "code",
   "execution_count": 3,
   "metadata": {},
   "outputs": [
    {
     "data": {
      "text/html": [
       "<div>\n",
       "<style scoped>\n",
       "    .dataframe tbody tr th:only-of-type {\n",
       "        vertical-align: middle;\n",
       "    }\n",
       "\n",
       "    .dataframe tbody tr th {\n",
       "        vertical-align: top;\n",
       "    }\n",
       "\n",
       "    .dataframe thead th {\n",
       "        text-align: right;\n",
       "    }\n",
       "</style>\n",
       "<table border=\"1\" class=\"dataframe\">\n",
       "  <thead>\n",
       "    <tr style=\"text-align: right;\">\n",
       "      <th></th>\n",
       "      <th>customerID</th>\n",
       "      <th>gender</th>\n",
       "      <th>SeniorCitizen</th>\n",
       "      <th>Partner</th>\n",
       "      <th>Dependents</th>\n",
       "      <th>tenure</th>\n",
       "      <th>PhoneService</th>\n",
       "      <th>MultipleLines</th>\n",
       "      <th>InternetService</th>\n",
       "      <th>OnlineSecurity</th>\n",
       "      <th>...</th>\n",
       "      <th>DeviceProtection</th>\n",
       "      <th>TechSupport</th>\n",
       "      <th>StreamingTV</th>\n",
       "      <th>StreamingMovies</th>\n",
       "      <th>Contract</th>\n",
       "      <th>PaperlessBilling</th>\n",
       "      <th>PaymentMethod</th>\n",
       "      <th>MonthlyCharges</th>\n",
       "      <th>TotalCharges</th>\n",
       "      <th>Churn</th>\n",
       "    </tr>\n",
       "  </thead>\n",
       "  <tbody>\n",
       "    <tr>\n",
       "      <th>0</th>\n",
       "      <td>7590-VHVEG</td>\n",
       "      <td>Female</td>\n",
       "      <td>0</td>\n",
       "      <td>Yes</td>\n",
       "      <td>No</td>\n",
       "      <td>1</td>\n",
       "      <td>No</td>\n",
       "      <td>No phone service</td>\n",
       "      <td>DSL</td>\n",
       "      <td>No</td>\n",
       "      <td>...</td>\n",
       "      <td>No</td>\n",
       "      <td>No</td>\n",
       "      <td>No</td>\n",
       "      <td>No</td>\n",
       "      <td>Month-to-month</td>\n",
       "      <td>Yes</td>\n",
       "      <td>Electronic check</td>\n",
       "      <td>29.85</td>\n",
       "      <td>29.85</td>\n",
       "      <td>No</td>\n",
       "    </tr>\n",
       "    <tr>\n",
       "      <th>1</th>\n",
       "      <td>5575-GNVDE</td>\n",
       "      <td>Male</td>\n",
       "      <td>0</td>\n",
       "      <td>No</td>\n",
       "      <td>No</td>\n",
       "      <td>34</td>\n",
       "      <td>Yes</td>\n",
       "      <td>No</td>\n",
       "      <td>DSL</td>\n",
       "      <td>Yes</td>\n",
       "      <td>...</td>\n",
       "      <td>Yes</td>\n",
       "      <td>No</td>\n",
       "      <td>No</td>\n",
       "      <td>No</td>\n",
       "      <td>One year</td>\n",
       "      <td>No</td>\n",
       "      <td>Mailed check</td>\n",
       "      <td>56.95</td>\n",
       "      <td>1889.5</td>\n",
       "      <td>No</td>\n",
       "    </tr>\n",
       "    <tr>\n",
       "      <th>2</th>\n",
       "      <td>3668-QPYBK</td>\n",
       "      <td>Male</td>\n",
       "      <td>0</td>\n",
       "      <td>No</td>\n",
       "      <td>No</td>\n",
       "      <td>2</td>\n",
       "      <td>Yes</td>\n",
       "      <td>No</td>\n",
       "      <td>DSL</td>\n",
       "      <td>Yes</td>\n",
       "      <td>...</td>\n",
       "      <td>No</td>\n",
       "      <td>No</td>\n",
       "      <td>No</td>\n",
       "      <td>No</td>\n",
       "      <td>Month-to-month</td>\n",
       "      <td>Yes</td>\n",
       "      <td>Mailed check</td>\n",
       "      <td>53.85</td>\n",
       "      <td>108.15</td>\n",
       "      <td>Yes</td>\n",
       "    </tr>\n",
       "    <tr>\n",
       "      <th>3</th>\n",
       "      <td>7795-CFOCW</td>\n",
       "      <td>Male</td>\n",
       "      <td>0</td>\n",
       "      <td>No</td>\n",
       "      <td>No</td>\n",
       "      <td>45</td>\n",
       "      <td>No</td>\n",
       "      <td>No phone service</td>\n",
       "      <td>DSL</td>\n",
       "      <td>Yes</td>\n",
       "      <td>...</td>\n",
       "      <td>Yes</td>\n",
       "      <td>Yes</td>\n",
       "      <td>No</td>\n",
       "      <td>No</td>\n",
       "      <td>One year</td>\n",
       "      <td>No</td>\n",
       "      <td>Bank transfer (automatic)</td>\n",
       "      <td>42.30</td>\n",
       "      <td>1840.75</td>\n",
       "      <td>No</td>\n",
       "    </tr>\n",
       "    <tr>\n",
       "      <th>4</th>\n",
       "      <td>9237-HQITU</td>\n",
       "      <td>Female</td>\n",
       "      <td>0</td>\n",
       "      <td>No</td>\n",
       "      <td>No</td>\n",
       "      <td>2</td>\n",
       "      <td>Yes</td>\n",
       "      <td>No</td>\n",
       "      <td>Fiber optic</td>\n",
       "      <td>No</td>\n",
       "      <td>...</td>\n",
       "      <td>No</td>\n",
       "      <td>No</td>\n",
       "      <td>No</td>\n",
       "      <td>No</td>\n",
       "      <td>Month-to-month</td>\n",
       "      <td>Yes</td>\n",
       "      <td>Electronic check</td>\n",
       "      <td>70.70</td>\n",
       "      <td>151.65</td>\n",
       "      <td>Yes</td>\n",
       "    </tr>\n",
       "  </tbody>\n",
       "</table>\n",
       "<p>5 rows × 21 columns</p>\n",
       "</div>"
      ],
      "text/plain": [
       "   customerID  gender  SeniorCitizen Partner Dependents  tenure PhoneService  \\\n",
       "0  7590-VHVEG  Female              0     Yes         No       1           No   \n",
       "1  5575-GNVDE    Male              0      No         No      34          Yes   \n",
       "2  3668-QPYBK    Male              0      No         No       2          Yes   \n",
       "3  7795-CFOCW    Male              0      No         No      45           No   \n",
       "4  9237-HQITU  Female              0      No         No       2          Yes   \n",
       "\n",
       "      MultipleLines InternetService OnlineSecurity  ... DeviceProtection  \\\n",
       "0  No phone service             DSL             No  ...               No   \n",
       "1                No             DSL            Yes  ...              Yes   \n",
       "2                No             DSL            Yes  ...               No   \n",
       "3  No phone service             DSL            Yes  ...              Yes   \n",
       "4                No     Fiber optic             No  ...               No   \n",
       "\n",
       "  TechSupport StreamingTV StreamingMovies        Contract PaperlessBilling  \\\n",
       "0          No          No              No  Month-to-month              Yes   \n",
       "1          No          No              No        One year               No   \n",
       "2          No          No              No  Month-to-month              Yes   \n",
       "3         Yes          No              No        One year               No   \n",
       "4          No          No              No  Month-to-month              Yes   \n",
       "\n",
       "               PaymentMethod MonthlyCharges  TotalCharges Churn  \n",
       "0           Electronic check          29.85         29.85    No  \n",
       "1               Mailed check          56.95        1889.5    No  \n",
       "2               Mailed check          53.85        108.15   Yes  \n",
       "3  Bank transfer (automatic)          42.30       1840.75    No  \n",
       "4           Electronic check          70.70        151.65   Yes  \n",
       "\n",
       "[5 rows x 21 columns]"
      ]
     },
     "execution_count": 3,
     "metadata": {},
     "output_type": "execute_result"
    }
   ],
   "source": [
    "df.head()"
   ]
  },
  {
   "cell_type": "code",
   "execution_count": 4,
   "metadata": {},
   "outputs": [
    {
     "data": {
      "text/plain": [
       "(7043, 21)"
      ]
     },
     "execution_count": 4,
     "metadata": {},
     "output_type": "execute_result"
    }
   ],
   "source": [
    "df.shape"
   ]
  },
  {
   "cell_type": "code",
   "execution_count": 5,
   "metadata": {},
   "outputs": [],
   "source": [
    "df.drop(\"customerID\",axis=\"columns\",inplace=True)"
   ]
  },
  {
   "cell_type": "code",
   "execution_count": 6,
   "metadata": {},
   "outputs": [
    {
     "data": {
      "text/plain": [
       "gender               object\n",
       "SeniorCitizen         int64\n",
       "Partner              object\n",
       "Dependents           object\n",
       "tenure                int64\n",
       "PhoneService         object\n",
       "MultipleLines        object\n",
       "InternetService      object\n",
       "OnlineSecurity       object\n",
       "OnlineBackup         object\n",
       "DeviceProtection     object\n",
       "TechSupport          object\n",
       "StreamingTV          object\n",
       "StreamingMovies      object\n",
       "Contract             object\n",
       "PaperlessBilling     object\n",
       "PaymentMethod        object\n",
       "MonthlyCharges      float64\n",
       "TotalCharges         object\n",
       "Churn                object\n",
       "dtype: object"
      ]
     },
     "execution_count": 6,
     "metadata": {},
     "output_type": "execute_result"
    }
   ],
   "source": [
    "df.dtypes"
   ]
  },
  {
   "cell_type": "code",
   "execution_count": 7,
   "metadata": {},
   "outputs": [
    {
     "data": {
      "text/plain": [
       "array(['29.85', '1889.5', '108.15', ..., '346.45', '306.6', '6844.5'],\n",
       "      dtype=object)"
      ]
     },
     "execution_count": 7,
     "metadata": {},
     "output_type": "execute_result"
    }
   ],
   "source": [
    "#Total charges is object\n",
    "df.TotalCharges.values"
   ]
  },
  {
   "cell_type": "code",
   "execution_count": 8,
   "metadata": {},
   "outputs": [
    {
     "data": {
      "text/plain": [
       "0       False\n",
       "1       False\n",
       "2       False\n",
       "3       False\n",
       "4       False\n",
       "        ...  \n",
       "7038    False\n",
       "7039    False\n",
       "7040    False\n",
       "7041    False\n",
       "7042    False\n",
       "Name: TotalCharges, Length: 7043, dtype: bool"
      ]
     },
     "execution_count": 8,
     "metadata": {},
     "output_type": "execute_result"
    }
   ],
   "source": [
    "#since there are some values which contain spaces\n",
    "pd.to_numeric(df.TotalCharges,errors=\"coerce\").isnull()"
   ]
  },
  {
   "cell_type": "code",
   "execution_count": 9,
   "metadata": {},
   "outputs": [
    {
     "data": {
      "text/plain": [
       "(11, 20)"
      ]
     },
     "execution_count": 9,
     "metadata": {},
     "output_type": "execute_result"
    }
   ],
   "source": [
    "df[pd.to_numeric(df.TotalCharges,errors=\"coerce\").isnull()].shape"
   ]
  },
  {
   "cell_type": "markdown",
   "metadata": {},
   "source": [
    "We are having 11 rows which are blank"
   ]
  },
  {
   "cell_type": "markdown",
   "metadata": {},
   "source": [
    "so out of 7043 rows we will drop 11 rows"
   ]
  },
  {
   "cell_type": "code",
   "execution_count": 10,
   "metadata": {},
   "outputs": [
    {
     "data": {
      "text/plain": [
       "(7032, 20)"
      ]
     },
     "execution_count": 10,
     "metadata": {},
     "output_type": "execute_result"
    }
   ],
   "source": [
    "df1=df[df.TotalCharges!=' ']\n",
    "df1.shape"
   ]
  },
  {
   "cell_type": "code",
   "execution_count": 12,
   "metadata": {},
   "outputs": [],
   "source": [
    "df1.TotalCharges=pd.to_numeric(df1.TotalCharges);"
   ]
  },
  {
   "cell_type": "code",
   "execution_count": 13,
   "metadata": {},
   "outputs": [
    {
     "data": {
      "text/plain": [
       "dtype('float64')"
      ]
     },
     "execution_count": 13,
     "metadata": {},
     "output_type": "execute_result"
    }
   ],
   "source": [
    "df1.TotalCharges.dtype"
   ]
  },
  {
   "cell_type": "markdown",
   "metadata": {},
   "source": [
    "Now it is float!"
   ]
  },
  {
   "cell_type": "code",
   "execution_count": 14,
   "metadata": {},
   "outputs": [
    {
     "data": {
      "text/plain": [
       "0        1\n",
       "1       34\n",
       "3       45\n",
       "6       22\n",
       "7       10\n",
       "        ..\n",
       "7037    72\n",
       "7038    24\n",
       "7039    72\n",
       "7040    11\n",
       "7042    66\n",
       "Name: tenure, Length: 5163, dtype: int64"
      ]
     },
     "execution_count": 14,
     "metadata": {},
     "output_type": "execute_result"
    }
   ],
   "source": [
    "#tenure of Customer who are leaving\n",
    "df1[df1.Churn=='No'].tenure"
   ]
  },
  {
   "cell_type": "markdown",
   "metadata": {},
   "source": [
    "Plot of customers who are leaving vs not leaving"
   ]
  },
  {
   "cell_type": "code",
   "execution_count": 16,
   "metadata": {},
   "outputs": [
    {
     "data": {
      "image/png": "[encoded data removed]",
      "text/plain": [
       "<Figure size 432x288 with 1 Axes>"
      ]
     },
     "metadata": {
      "needs_background": "light"
     },
     "output_type": "display_data"
    }
   ],
   "source": [
    "tenure_churn_no=df1[df1.Churn=='No'].tenure\n",
    "tenure_churn_yes=df1[df1.Churn=='Yes'].tenure\n",
    "plt.hist([tenure_churn_yes,tenure_churn_no],color=['green','red'],label=[\"Churn=Yes\",\"Churn==No\"])\n",
    "plt.xlabel(\"tenure\")\n",
    "plt.ylabel(\"No of Customers\")\n",
    "plt.legend();"
   ]
  },
  {
   "cell_type": "markdown",
   "metadata": {},
   "source": [
    "Customers who are for more years are not leaving the company"
   ]
  },
  {
   "cell_type": "markdown",
   "metadata": {},
   "source": [
    "To check for Monthly charges"
   ]
  },
  {
   "cell_type": "code",
   "execution_count": 17,
   "metadata": {},
   "outputs": [
    {
     "data": {
      "image/png": "[encoded data removed]",
      "text/plain": [
       "<Figure size 432x288 with 1 Axes>"
      ]
     },
     "metadata": {
      "needs_background": "light"
     },
     "output_type": "display_data"
    }
   ],
   "source": [
    "monthly_churn_no=df1[df1.Churn=='No'].MonthlyCharges\n",
    "monthly_churn_yes=df1[df1.Churn=='Yes'].MonthlyCharges\n",
    "\n",
    "plt.hist([monthly_churn_yes,monthly_churn_no],color=['green','red'],label=[\"Churn=Yes\",\"Churn==No\"]);\n",
    "plt.xlabel(\"monthly charges\")\n",
    "plt.ylabel(\"No of Customers\")\n",
    "plt.legend();"
   ]
  },
  {
   "cell_type": "markdown",
   "metadata": {},
   "source": [
    "We can see for all monthly charges maximum number of customers are leaving"
   ]
  },
  {
   "cell_type": "markdown",
   "metadata": {},
   "source": [
    "# Replacing categorical values to conitnuous"
   ]
  },
  {
   "cell_type": "code",
   "execution_count": 14,
   "metadata": {},
   "outputs": [],
   "source": [
    "def unique_column_values(df):\n",
    "     for column in df:\n",
    "        if df[column].dtypes=='object':\n",
    "             print(f'{column}:{df[column].unique()}')"
   ]
  },
  {
   "cell_type": "code",
   "execution_count": 15,
   "metadata": {},
   "outputs": [
    {
     "name": "stdout",
     "output_type": "stream",
     "text": [
      "gender:['Female' 'Male']\n",
      "Partner:['Yes' 'No']\n",
      "Dependents:['No' 'Yes']\n",
      "PhoneService:['No' 'Yes']\n",
      "MultipleLines:['No phone service' 'No' 'Yes']\n",
      "InternetService:['DSL' 'Fiber optic' 'No']\n",
      "OnlineSecurity:['No' 'Yes' 'No internet service']\n",
      "OnlineBackup:['Yes' 'No' 'No internet service']\n",
      "DeviceProtection:['No' 'Yes' 'No internet service']\n",
      "TechSupport:['No' 'Yes' 'No internet service']\n",
      "StreamingTV:['No' 'Yes' 'No internet service']\n",
      "StreamingMovies:['No' 'Yes' 'No internet service']\n",
      "Contract:['Month-to-month' 'One year' 'Two year']\n",
      "PaperlessBilling:['Yes' 'No']\n",
      "PaymentMethod:['Electronic check' 'Mailed check' 'Bank transfer (automatic)'\n",
      " 'Credit card (automatic)']\n",
      "Churn:['No' 'Yes']\n",
      "None\n"
     ]
    }
   ],
   "source": [
    "print(unique_column_values(df1))"
   ]
  },
  {
   "cell_type": "code",
   "execution_count": 17,
   "metadata": {},
   "outputs": [],
   "source": [
    "#replace no internet service with no\n",
    "df1.replace('No internet service','No',inplace=True)\n",
    "df1.replace('No phone service','No',inplace=True)"
   ]
  },
  {
   "cell_type": "code",
   "execution_count": 18,
   "metadata": {},
   "outputs": [
    {
     "name": "stdout",
     "output_type": "stream",
     "text": [
      "gender:['Female' 'Male']\n",
      "Partner:['Yes' 'No']\n",
      "Dependents:['No' 'Yes']\n",
      "PhoneService:['No' 'Yes']\n",
      "MultipleLines:['No' 'Yes']\n",
      "InternetService:['DSL' 'Fiber optic' 'No']\n",
      "OnlineSecurity:['No' 'Yes']\n",
      "OnlineBackup:['Yes' 'No']\n",
      "DeviceProtection:['No' 'Yes']\n",
      "TechSupport:['No' 'Yes']\n",
      "StreamingTV:['No' 'Yes']\n",
      "StreamingMovies:['No' 'Yes']\n",
      "Contract:['Month-to-month' 'One year' 'Two year']\n",
      "PaperlessBilling:['Yes' 'No']\n",
      "PaymentMethod:['Electronic check' 'Mailed check' 'Bank transfer (automatic)'\n",
      " 'Credit card (automatic)']\n",
      "Churn:['No' 'Yes']\n",
      "None\n"
     ]
    }
   ],
   "source": [
    "print(unique_column_values(df1))"
   ]
  },
  {
   "cell_type": "code",
   "execution_count": 19,
   "metadata": {},
   "outputs": [],
   "source": [
    "yes_no_columns=['Partner','Dependents','PhoneService','MultipleLines','OnlineSecurity','OnlineBackup','DeviceProtection','TechSupport','StreamingTV','StreamingMovies','PaperlessBilling','Churn']"
   ]
  },
  {
   "cell_type": "code",
   "execution_count": 20,
   "metadata": {},
   "outputs": [
    {
     "name": "stderr",
     "output_type": "stream",
     "text": [
      "C:\\Users\\VEDANG SAWANT\\anaconda3\\lib\\site-packages\\pandas\\core\\generic.py:6746: SettingWithCopyWarning: \n",
      "A value is trying to be set on a copy of a slice from a DataFrame\n",
      "\n",
      "See the caveats in the documentation: https://pandas.pydata.org/pandas-docs/stable/user_guide/indexing.html#returning-a-view-versus-a-copy\n",
      "  self._update_inplace(new_data)\n"
     ]
    }
   ],
   "source": [
    "for col in yes_no_columns:\n",
    "      df1[col].replace({'Yes':1,'No':0},inplace=True)"
   ]
  },
  {
   "cell_type": "code",
   "execution_count": 21,
   "metadata": {},
   "outputs": [
    {
     "name": "stdout",
     "output_type": "stream",
     "text": [
      "gender:['Female' 'Male']\n",
      "SeniorCitizen:[0 1]\n",
      "Partner:[1 0]\n",
      "Dependents:[0 1]\n",
      "tenure:[ 1 34  2 45  8 22 10 28 62 13 16 58 49 25 69 52 71 21 12 30 47 72 17 27\n",
      "  5 46 11 70 63 43 15 60 18 66  9  3 31 50 64 56  7 42 35 48 29 65 38 68\n",
      " 32 55 37 36 41  6  4 33 67 23 57 61 14 20 53 40 59 24 44 19 54 51 26 39]\n",
      "PhoneService:[0 1]\n",
      "MultipleLines:[0 1]\n",
      "InternetService:['DSL' 'Fiber optic' 'No']\n",
      "OnlineSecurity:[0 1]\n",
      "OnlineBackup:[1 0]\n",
      "DeviceProtection:[0 1]\n",
      "TechSupport:[0 1]\n",
      "StreamingTV:[0 1]\n",
      "StreamingMovies:[0 1]\n",
      "Contract:['Month-to-month' 'One year' 'Two year']\n",
      "PaperlessBilling:[1 0]\n",
      "PaymentMethod:['Electronic check' 'Mailed check' 'Bank transfer (automatic)'\n",
      " 'Credit card (automatic)']\n",
      "MonthlyCharges:[29.85 56.95 53.85 ... 63.1  44.2  78.7 ]\n",
      "TotalCharges:[  29.85 1889.5   108.15 ...  346.45  306.6  6844.5 ]\n",
      "Churn:[0 1]\n"
     ]
    }
   ],
   "source": [
    "for col in df1:\n",
    "    print(f'{col}:{df1[col].unique()}')"
   ]
  },
  {
   "cell_type": "code",
   "execution_count": 22,
   "metadata": {},
   "outputs": [],
   "source": [
    "df1['gender'].replace({'Female':1,'Male':0},inplace=True)"
   ]
  },
  {
   "cell_type": "code",
   "execution_count": 23,
   "metadata": {},
   "outputs": [
    {
     "data": {
      "text/plain": [
       "array([1, 0], dtype=int64)"
      ]
     },
     "execution_count": 23,
     "metadata": {},
     "output_type": "execute_result"
    }
   ],
   "source": [
    "df1.gender.unique()"
   ]
  },
  {
   "cell_type": "code",
   "execution_count": 24,
   "metadata": {},
   "outputs": [
    {
     "data": {
      "text/html": [
       "<div>\n",
       "<style scoped>\n",
       "    .dataframe tbody tr th:only-of-type {\n",
       "        vertical-align: middle;\n",
       "    }\n",
       "\n",
       "    .dataframe tbody tr th {\n",
       "        vertical-align: top;\n",
       "    }\n",
       "\n",
       "    .dataframe thead th {\n",
       "        text-align: right;\n",
       "    }\n",
       "</style>\n",
       "<table border=\"1\" class=\"dataframe\">\n",
       "  <thead>\n",
       "    <tr style=\"text-align: right;\">\n",
       "      <th></th>\n",
       "      <th>gender</th>\n",
       "      <th>SeniorCitizen</th>\n",
       "      <th>Partner</th>\n",
       "      <th>Dependents</th>\n",
       "      <th>tenure</th>\n",
       "      <th>PhoneService</th>\n",
       "      <th>MultipleLines</th>\n",
       "      <th>OnlineSecurity</th>\n",
       "      <th>OnlineBackup</th>\n",
       "      <th>DeviceProtection</th>\n",
       "      <th>...</th>\n",
       "      <th>InternetService_DSL</th>\n",
       "      <th>InternetService_Fiber optic</th>\n",
       "      <th>InternetService_No</th>\n",
       "      <th>Contract_Month-to-month</th>\n",
       "      <th>Contract_One year</th>\n",
       "      <th>Contract_Two year</th>\n",
       "      <th>PaymentMethod_Bank transfer (automatic)</th>\n",
       "      <th>PaymentMethod_Credit card (automatic)</th>\n",
       "      <th>PaymentMethod_Electronic check</th>\n",
       "      <th>PaymentMethod_Mailed check</th>\n",
       "    </tr>\n",
       "  </thead>\n",
       "  <tbody>\n",
       "    <tr>\n",
       "      <th>0</th>\n",
       "      <td>1</td>\n",
       "      <td>0</td>\n",
       "      <td>1</td>\n",
       "      <td>0</td>\n",
       "      <td>1</td>\n",
       "      <td>0</td>\n",
       "      <td>0</td>\n",
       "      <td>0</td>\n",
       "      <td>1</td>\n",
       "      <td>0</td>\n",
       "      <td>...</td>\n",
       "      <td>1</td>\n",
       "      <td>0</td>\n",
       "      <td>0</td>\n",
       "      <td>1</td>\n",
       "      <td>0</td>\n",
       "      <td>0</td>\n",
       "      <td>0</td>\n",
       "      <td>0</td>\n",
       "      <td>1</td>\n",
       "      <td>0</td>\n",
       "    </tr>\n",
       "    <tr>\n",
       "      <th>1</th>\n",
       "      <td>0</td>\n",
       "      <td>0</td>\n",
       "      <td>0</td>\n",
       "      <td>0</td>\n",
       "      <td>34</td>\n",
       "      <td>1</td>\n",
       "      <td>0</td>\n",
       "      <td>1</td>\n",
       "      <td>0</td>\n",
       "      <td>1</td>\n",
       "      <td>...</td>\n",
       "      <td>1</td>\n",
       "      <td>0</td>\n",
       "      <td>0</td>\n",
       "      <td>0</td>\n",
       "      <td>1</td>\n",
       "      <td>0</td>\n",
       "      <td>0</td>\n",
       "      <td>0</td>\n",
       "      <td>0</td>\n",
       "      <td>1</td>\n",
       "    </tr>\n",
       "    <tr>\n",
       "      <th>2</th>\n",
       "      <td>0</td>\n",
       "      <td>0</td>\n",
       "      <td>0</td>\n",
       "      <td>0</td>\n",
       "      <td>2</td>\n",
       "      <td>1</td>\n",
       "      <td>0</td>\n",
       "      <td>1</td>\n",
       "      <td>1</td>\n",
       "      <td>0</td>\n",
       "      <td>...</td>\n",
       "      <td>1</td>\n",
       "      <td>0</td>\n",
       "      <td>0</td>\n",
       "      <td>1</td>\n",
       "      <td>0</td>\n",
       "      <td>0</td>\n",
       "      <td>0</td>\n",
       "      <td>0</td>\n",
       "      <td>0</td>\n",
       "      <td>1</td>\n",
       "    </tr>\n",
       "    <tr>\n",
       "      <th>3</th>\n",
       "      <td>0</td>\n",
       "      <td>0</td>\n",
       "      <td>0</td>\n",
       "      <td>0</td>\n",
       "      <td>45</td>\n",
       "      <td>0</td>\n",
       "      <td>0</td>\n",
       "      <td>1</td>\n",
       "      <td>0</td>\n",
       "      <td>1</td>\n",
       "      <td>...</td>\n",
       "      <td>1</td>\n",
       "      <td>0</td>\n",
       "      <td>0</td>\n",
       "      <td>0</td>\n",
       "      <td>1</td>\n",
       "      <td>0</td>\n",
       "      <td>1</td>\n",
       "      <td>0</td>\n",
       "      <td>0</td>\n",
       "      <td>0</td>\n",
       "    </tr>\n",
       "    <tr>\n",
       "      <th>4</th>\n",
       "      <td>1</td>\n",
       "      <td>0</td>\n",
       "      <td>0</td>\n",
       "      <td>0</td>\n",
       "      <td>2</td>\n",
       "      <td>1</td>\n",
       "      <td>0</td>\n",
       "      <td>0</td>\n",
       "      <td>0</td>\n",
       "      <td>0</td>\n",
       "      <td>...</td>\n",
       "      <td>0</td>\n",
       "      <td>1</td>\n",
       "      <td>0</td>\n",
       "      <td>1</td>\n",
       "      <td>0</td>\n",
       "      <td>0</td>\n",
       "      <td>0</td>\n",
       "      <td>0</td>\n",
       "      <td>1</td>\n",
       "      <td>0</td>\n",
       "    </tr>\n",
       "    <tr>\n",
       "      <th>...</th>\n",
       "      <td>...</td>\n",
       "      <td>...</td>\n",
       "      <td>...</td>\n",
       "      <td>...</td>\n",
       "      <td>...</td>\n",
       "      <td>...</td>\n",
       "      <td>...</td>\n",
       "      <td>...</td>\n",
       "      <td>...</td>\n",
       "      <td>...</td>\n",
       "      <td>...</td>\n",
       "      <td>...</td>\n",
       "      <td>...</td>\n",
       "      <td>...</td>\n",
       "      <td>...</td>\n",
       "      <td>...</td>\n",
       "      <td>...</td>\n",
       "      <td>...</td>\n",
       "      <td>...</td>\n",
       "      <td>...</td>\n",
       "      <td>...</td>\n",
       "    </tr>\n",
       "    <tr>\n",
       "      <th>7038</th>\n",
       "      <td>0</td>\n",
       "      <td>0</td>\n",
       "      <td>1</td>\n",
       "      <td>1</td>\n",
       "      <td>24</td>\n",
       "      <td>1</td>\n",
       "      <td>1</td>\n",
       "      <td>1</td>\n",
       "      <td>0</td>\n",
       "      <td>1</td>\n",
       "      <td>...</td>\n",
       "      <td>1</td>\n",
       "      <td>0</td>\n",
       "      <td>0</td>\n",
       "      <td>0</td>\n",
       "      <td>1</td>\n",
       "      <td>0</td>\n",
       "      <td>0</td>\n",
       "      <td>0</td>\n",
       "      <td>0</td>\n",
       "      <td>1</td>\n",
       "    </tr>\n",
       "    <tr>\n",
       "      <th>7039</th>\n",
       "      <td>1</td>\n",
       "      <td>0</td>\n",
       "      <td>1</td>\n",
       "      <td>1</td>\n",
       "      <td>72</td>\n",
       "      <td>1</td>\n",
       "      <td>1</td>\n",
       "      <td>0</td>\n",
       "      <td>1</td>\n",
       "      <td>1</td>\n",
       "      <td>...</td>\n",
       "      <td>0</td>\n",
       "      <td>1</td>\n",
       "      <td>0</td>\n",
       "      <td>0</td>\n",
       "      <td>1</td>\n",
       "      <td>0</td>\n",
       "      <td>0</td>\n",
       "      <td>1</td>\n",
       "      <td>0</td>\n",
       "      <td>0</td>\n",
       "    </tr>\n",
       "    <tr>\n",
       "      <th>7040</th>\n",
       "      <td>1</td>\n",
       "      <td>0</td>\n",
       "      <td>1</td>\n",
       "      <td>1</td>\n",
       "      <td>11</td>\n",
       "      <td>0</td>\n",
       "      <td>0</td>\n",
       "      <td>1</td>\n",
       "      <td>0</td>\n",
       "      <td>0</td>\n",
       "      <td>...</td>\n",
       "      <td>1</td>\n",
       "      <td>0</td>\n",
       "      <td>0</td>\n",
       "      <td>1</td>\n",
       "      <td>0</td>\n",
       "      <td>0</td>\n",
       "      <td>0</td>\n",
       "      <td>0</td>\n",
       "      <td>1</td>\n",
       "      <td>0</td>\n",
       "    </tr>\n",
       "    <tr>\n",
       "      <th>7041</th>\n",
       "      <td>0</td>\n",
       "      <td>1</td>\n",
       "      <td>1</td>\n",
       "      <td>0</td>\n",
       "      <td>4</td>\n",
       "      <td>1</td>\n",
       "      <td>1</td>\n",
       "      <td>0</td>\n",
       "      <td>0</td>\n",
       "      <td>0</td>\n",
       "      <td>...</td>\n",
       "      <td>0</td>\n",
       "      <td>1</td>\n",
       "      <td>0</td>\n",
       "      <td>1</td>\n",
       "      <td>0</td>\n",
       "      <td>0</td>\n",
       "      <td>0</td>\n",
       "      <td>0</td>\n",
       "      <td>0</td>\n",
       "      <td>1</td>\n",
       "    </tr>\n",
       "    <tr>\n",
       "      <th>7042</th>\n",
       "      <td>0</td>\n",
       "      <td>0</td>\n",
       "      <td>0</td>\n",
       "      <td>0</td>\n",
       "      <td>66</td>\n",
       "      <td>1</td>\n",
       "      <td>0</td>\n",
       "      <td>1</td>\n",
       "      <td>0</td>\n",
       "      <td>1</td>\n",
       "      <td>...</td>\n",
       "      <td>0</td>\n",
       "      <td>1</td>\n",
       "      <td>0</td>\n",
       "      <td>0</td>\n",
       "      <td>0</td>\n",
       "      <td>1</td>\n",
       "      <td>1</td>\n",
       "      <td>0</td>\n",
       "      <td>0</td>\n",
       "      <td>0</td>\n",
       "    </tr>\n",
       "  </tbody>\n",
       "</table>\n",
       "<p>7032 rows × 27 columns</p>\n",
       "</div>"
      ],
      "text/plain": [
       "      gender  SeniorCitizen  Partner  Dependents  tenure  PhoneService  \\\n",
       "0          1              0        1           0       1             0   \n",
       "1          0              0        0           0      34             1   \n",
       "2          0              0        0           0       2             1   \n",
       "3          0              0        0           0      45             0   \n",
       "4          1              0        0           0       2             1   \n",
       "...      ...            ...      ...         ...     ...           ...   \n",
       "7038       0              0        1           1      24             1   \n",
       "7039       1              0        1           1      72             1   \n",
       "7040       1              0        1           1      11             0   \n",
       "7041       0              1        1           0       4             1   \n",
       "7042       0              0        0           0      66             1   \n",
       "\n",
       "      MultipleLines  OnlineSecurity  OnlineBackup  DeviceProtection  ...  \\\n",
       "0                 0               0             1                 0  ...   \n",
       "1                 0               1             0                 1  ...   \n",
       "2                 0               1             1                 0  ...   \n",
       "3                 0               1             0                 1  ...   \n",
       "4                 0               0             0                 0  ...   \n",
       "...             ...             ...           ...               ...  ...   \n",
       "7038              1               1             0                 1  ...   \n",
       "7039              1               0             1                 1  ...   \n",
       "7040              0               1             0                 0  ...   \n",
       "7041              1               0             0                 0  ...   \n",
       "7042              0               1             0                 1  ...   \n",
       "\n",
       "      InternetService_DSL  InternetService_Fiber optic  InternetService_No  \\\n",
       "0                       1                            0                   0   \n",
       "1                       1                            0                   0   \n",
       "2                       1                            0                   0   \n",
       "3                       1                            0                   0   \n",
       "4                       0                            1                   0   \n",
       "...                   ...                          ...                 ...   \n",
       "7038                    1                            0                   0   \n",
       "7039                    0                            1                   0   \n",
       "7040                    1                            0                   0   \n",
       "7041                    0                            1                   0   \n",
       "7042                    0                            1                   0   \n",
       "\n",
       "      Contract_Month-to-month  Contract_One year  Contract_Two year  \\\n",
       "0                           1                  0                  0   \n",
       "1                           0                  1                  0   \n",
       "2                           1                  0                  0   \n",
       "3                           0                  1                  0   \n",
       "4                           1                  0                  0   \n",
       "...                       ...                ...                ...   \n",
       "7038                        0                  1                  0   \n",
       "7039                        0                  1                  0   \n",
       "7040                        1                  0                  0   \n",
       "7041                        1                  0                  0   \n",
       "7042                        0                  0                  1   \n",
       "\n",
       "      PaymentMethod_Bank transfer (automatic)  \\\n",
       "0                                           0   \n",
       "1                                           0   \n",
       "2                                           0   \n",
       "3                                           1   \n",
       "4                                           0   \n",
       "...                                       ...   \n",
       "7038                                        0   \n",
       "7039                                        0   \n",
       "7040                                        0   \n",
       "7041                                        0   \n",
       "7042                                        1   \n",
       "\n",
       "      PaymentMethod_Credit card (automatic)  PaymentMethod_Electronic check  \\\n",
       "0                                         0                               1   \n",
       "1                                         0                               0   \n",
       "2                                         0                               0   \n",
       "3                                         0                               0   \n",
       "4                                         0                               1   \n",
       "...                                     ...                             ...   \n",
       "7038                                      0                               0   \n",
       "7039                                      1                               0   \n",
       "7040                                      0                               1   \n",
       "7041                                      0                               0   \n",
       "7042                                      0                               0   \n",
       "\n",
       "      PaymentMethod_Mailed check  \n",
       "0                              0  \n",
       "1                              1  \n",
       "2                              1  \n",
       "3                              0  \n",
       "4                              0  \n",
       "...                          ...  \n",
       "7038                           1  \n",
       "7039                           0  \n",
       "7040                           0  \n",
       "7041                           1  \n",
       "7042                           0  \n",
       "\n",
       "[7032 rows x 27 columns]"
      ]
     },
     "execution_count": 24,
     "metadata": {},
     "output_type": "execute_result"
    }
   ],
   "source": [
    "#one hot encoding\n",
    "df2=pd.get_dummies(data=df1,columns=['InternetService','Contract','PaymentMethod'])\n",
    "df2"
   ]
  },
  {
   "cell_type": "code",
   "execution_count": 25,
   "metadata": {},
   "outputs": [
    {
     "data": {
      "text/plain": [
       "gender                                       int64\n",
       "SeniorCitizen                                int64\n",
       "Partner                                      int64\n",
       "Dependents                                   int64\n",
       "tenure                                       int64\n",
       "PhoneService                                 int64\n",
       "MultipleLines                                int64\n",
       "OnlineSecurity                               int64\n",
       "OnlineBackup                                 int64\n",
       "DeviceProtection                             int64\n",
       "TechSupport                                  int64\n",
       "StreamingTV                                  int64\n",
       "StreamingMovies                              int64\n",
       "PaperlessBilling                             int64\n",
       "MonthlyCharges                             float64\n",
       "TotalCharges                               float64\n",
       "Churn                                        int64\n",
       "InternetService_DSL                          uint8\n",
       "InternetService_Fiber optic                  uint8\n",
       "InternetService_No                           uint8\n",
       "Contract_Month-to-month                      uint8\n",
       "Contract_One year                            uint8\n",
       "Contract_Two year                            uint8\n",
       "PaymentMethod_Bank transfer (automatic)      uint8\n",
       "PaymentMethod_Credit card (automatic)        uint8\n",
       "PaymentMethod_Electronic check               uint8\n",
       "PaymentMethod_Mailed check                   uint8\n",
       "dtype: object"
      ]
     },
     "execution_count": 25,
     "metadata": {},
     "output_type": "execute_result"
    }
   ],
   "source": [
    "df2.dtypes"
   ]
  },
  {
   "cell_type": "markdown",
   "metadata": {},
   "source": [
    "## Scaling the data "
   ]
  },
  {
   "cell_type": "code",
   "execution_count": 26,
   "metadata": {},
   "outputs": [],
   "source": [
    "cols_to_scale=['tenure','MonthlyCharges','TotalCharges']\n",
    "\n",
    "from sklearn.preprocessing import MinMaxScaler\n",
    "scalar=MinMaxScaler()\n",
    "\n",
    "df2[cols_to_scale]=scalar.fit_transform(df2[cols_to_scale])"
   ]
  },
  {
   "cell_type": "code",
   "execution_count": 27,
   "metadata": {},
   "outputs": [
    {
     "data": {
      "text/html": [
       "<div>\n",
       "<style scoped>\n",
       "    .dataframe tbody tr th:only-of-type {\n",
       "        vertical-align: middle;\n",
       "    }\n",
       "\n",
       "    .dataframe tbody tr th {\n",
       "        vertical-align: top;\n",
       "    }\n",
       "\n",
       "    .dataframe thead th {\n",
       "        text-align: right;\n",
       "    }\n",
       "</style>\n",
       "<table border=\"1\" class=\"dataframe\">\n",
       "  <thead>\n",
       "    <tr style=\"text-align: right;\">\n",
       "      <th></th>\n",
       "      <th>gender</th>\n",
       "      <th>SeniorCitizen</th>\n",
       "      <th>Partner</th>\n",
       "      <th>Dependents</th>\n",
       "      <th>tenure</th>\n",
       "      <th>PhoneService</th>\n",
       "      <th>MultipleLines</th>\n",
       "      <th>OnlineSecurity</th>\n",
       "      <th>OnlineBackup</th>\n",
       "      <th>DeviceProtection</th>\n",
       "      <th>...</th>\n",
       "      <th>InternetService_DSL</th>\n",
       "      <th>InternetService_Fiber optic</th>\n",
       "      <th>InternetService_No</th>\n",
       "      <th>Contract_Month-to-month</th>\n",
       "      <th>Contract_One year</th>\n",
       "      <th>Contract_Two year</th>\n",
       "      <th>PaymentMethod_Bank transfer (automatic)</th>\n",
       "      <th>PaymentMethod_Credit card (automatic)</th>\n",
       "      <th>PaymentMethod_Electronic check</th>\n",
       "      <th>PaymentMethod_Mailed check</th>\n",
       "    </tr>\n",
       "  </thead>\n",
       "  <tbody>\n",
       "    <tr>\n",
       "      <th>1243</th>\n",
       "      <td>0</td>\n",
       "      <td>0</td>\n",
       "      <td>0</td>\n",
       "      <td>0</td>\n",
       "      <td>0.000000</td>\n",
       "      <td>1</td>\n",
       "      <td>0</td>\n",
       "      <td>0</td>\n",
       "      <td>0</td>\n",
       "      <td>0</td>\n",
       "      <td>...</td>\n",
       "      <td>1</td>\n",
       "      <td>0</td>\n",
       "      <td>0</td>\n",
       "      <td>1</td>\n",
       "      <td>0</td>\n",
       "      <td>0</td>\n",
       "      <td>0</td>\n",
       "      <td>0</td>\n",
       "      <td>1</td>\n",
       "      <td>0</td>\n",
       "    </tr>\n",
       "    <tr>\n",
       "      <th>5762</th>\n",
       "      <td>0</td>\n",
       "      <td>1</td>\n",
       "      <td>1</td>\n",
       "      <td>0</td>\n",
       "      <td>0.408451</td>\n",
       "      <td>1</td>\n",
       "      <td>1</td>\n",
       "      <td>1</td>\n",
       "      <td>1</td>\n",
       "      <td>1</td>\n",
       "      <td>...</td>\n",
       "      <td>0</td>\n",
       "      <td>1</td>\n",
       "      <td>0</td>\n",
       "      <td>1</td>\n",
       "      <td>0</td>\n",
       "      <td>0</td>\n",
       "      <td>1</td>\n",
       "      <td>0</td>\n",
       "      <td>0</td>\n",
       "      <td>0</td>\n",
       "    </tr>\n",
       "    <tr>\n",
       "      <th>4217</th>\n",
       "      <td>0</td>\n",
       "      <td>1</td>\n",
       "      <td>1</td>\n",
       "      <td>0</td>\n",
       "      <td>0.183099</td>\n",
       "      <td>1</td>\n",
       "      <td>1</td>\n",
       "      <td>0</td>\n",
       "      <td>0</td>\n",
       "      <td>0</td>\n",
       "      <td>...</td>\n",
       "      <td>0</td>\n",
       "      <td>1</td>\n",
       "      <td>0</td>\n",
       "      <td>1</td>\n",
       "      <td>0</td>\n",
       "      <td>0</td>\n",
       "      <td>0</td>\n",
       "      <td>0</td>\n",
       "      <td>1</td>\n",
       "      <td>0</td>\n",
       "    </tr>\n",
       "  </tbody>\n",
       "</table>\n",
       "<p>3 rows × 27 columns</p>\n",
       "</div>"
      ],
      "text/plain": [
       "      gender  SeniorCitizen  Partner  Dependents    tenure  PhoneService  \\\n",
       "1243       0              0        0           0  0.000000             1   \n",
       "5762       0              1        1           0  0.408451             1   \n",
       "4217       0              1        1           0  0.183099             1   \n",
       "\n",
       "      MultipleLines  OnlineSecurity  OnlineBackup  DeviceProtection  ...  \\\n",
       "1243              0               0             0                 0  ...   \n",
       "5762              1               1             1                 1  ...   \n",
       "4217              1               0             0                 0  ...   \n",
       "\n",
       "      InternetService_DSL  InternetService_Fiber optic  InternetService_No  \\\n",
       "1243                    1                            0                   0   \n",
       "5762                    0                            1                   0   \n",
       "4217                    0                            1                   0   \n",
       "\n",
       "      Contract_Month-to-month  Contract_One year  Contract_Two year  \\\n",
       "1243                        1                  0                  0   \n",
       "5762                        1                  0                  0   \n",
       "4217                        1                  0                  0   \n",
       "\n",
       "      PaymentMethod_Bank transfer (automatic)  \\\n",
       "1243                                        0   \n",
       "5762                                        1   \n",
       "4217                                        0   \n",
       "\n",
       "      PaymentMethod_Credit card (automatic)  PaymentMethod_Electronic check  \\\n",
       "1243                                      0                               1   \n",
       "5762                                      0                               0   \n",
       "4217                                      0                               1   \n",
       "\n",
       "      PaymentMethod_Mailed check  \n",
       "1243                           0  \n",
       "5762                           0  \n",
       "4217                           0  \n",
       "\n",
       "[3 rows x 27 columns]"
      ]
     },
     "execution_count": 27,
     "metadata": {},
     "output_type": "execute_result"
    }
   ],
   "source": [
    "df2.sample(3)"
   ]
  },
  {
   "cell_type": "code",
   "execution_count": 28,
   "metadata": {},
   "outputs": [],
   "source": [
    "x=df2.drop(\"Churn\",axis='columns')\n",
    "y=df2['Churn']"
   ]
  },
  {
   "cell_type": "code",
   "execution_count": 29,
   "metadata": {},
   "outputs": [],
   "source": [
    "from sklearn.model_selection import train_test_split\n",
    "\n",
    "x_train,x_test,y_train,y_test=train_test_split(x,y,test_size=0.2,random_state=5)"
   ]
  },
  {
   "cell_type": "code",
   "execution_count": 30,
   "metadata": {},
   "outputs": [
    {
     "data": {
      "text/plain": [
       "(5625, 26)"
      ]
     },
     "execution_count": 30,
     "metadata": {},
     "output_type": "execute_result"
    }
   ],
   "source": [
    "x_train.shape"
   ]
  },
  {
   "cell_type": "code",
   "execution_count": 31,
   "metadata": {},
   "outputs": [
    {
     "data": {
      "text/plain": [
       "(5625,)"
      ]
     },
     "execution_count": 31,
     "metadata": {},
     "output_type": "execute_result"
    }
   ],
   "source": [
    "y_train.shape"
   ]
  },
  {
   "cell_type": "code",
   "execution_count": 32,
   "metadata": {},
   "outputs": [
    {
     "data": {
      "text/plain": [
       "(1407, 26)"
      ]
     },
     "execution_count": 32,
     "metadata": {},
     "output_type": "execute_result"
    }
   ],
   "source": [
    "x_test.shape"
   ]
  },
  {
   "cell_type": "code",
   "execution_count": 33,
   "metadata": {},
   "outputs": [
    {
     "name": "stdout",
     "output_type": "stream",
     "text": [
      "Epoch 1/100\n",
      "176/176 [==============================] - 0s 693us/step - loss: 0.4730 - accuracy: 0.7668\n",
      "Epoch 2/100\n",
      "176/176 [==============================] - 0s 561us/step - loss: 0.4235 - accuracy: 0.7993\n",
      "Epoch 3/100\n",
      "176/176 [==============================] - 0s 566us/step - loss: 0.4178 - accuracy: 0.8020\n",
      "Epoch 4/100\n",
      "176/176 [==============================] - 0s 546us/step - loss: 0.4142 - accuracy: 0.8023\n",
      "Epoch 5/100\n",
      "176/176 [==============================] - 0s 549us/step - loss: 0.4133 - accuracy: 0.8071\n",
      "Epoch 6/100\n",
      "176/176 [==============================] - 0s 561us/step - loss: 0.4100 - accuracy: 0.8057\n",
      "Epoch 7/100\n",
      "176/176 [==============================] - 0s 510us/step - loss: 0.4085 - accuracy: 0.8060\n",
      "Epoch 8/100\n",
      "176/176 [==============================] - 0s 566us/step - loss: 0.4076 - accuracy: 0.8084\n",
      "Epoch 9/100\n",
      "176/176 [==============================] - 0s 551us/step - loss: 0.4069 - accuracy: 0.8082\n",
      "Epoch 10/100\n",
      "176/176 [==============================] - 0s 541us/step - loss: 0.4057 - accuracy: 0.8087\n",
      "Epoch 11/100\n",
      "176/176 [==============================] - 0s 574us/step - loss: 0.4038 - accuracy: 0.8087\n",
      "Epoch 12/100\n",
      "176/176 [==============================] - 0s 623us/step - loss: 0.4045 - accuracy: 0.8082\n",
      "Epoch 13/100\n",
      "176/176 [==============================] - 0s 524us/step - loss: 0.4017 - accuracy: 0.8116\n",
      "Epoch 14/100\n",
      "176/176 [==============================] - 0s 563us/step - loss: 0.4009 - accuracy: 0.8121\n",
      "Epoch 15/100\n",
      "176/176 [==============================] - 0s 543us/step - loss: 0.3999 - accuracy: 0.8128\n",
      "Epoch 16/100\n",
      "176/176 [==============================] - 0s 580us/step - loss: 0.3984 - accuracy: 0.8110\n",
      "Epoch 17/100\n",
      "176/176 [==============================] - 0s 579us/step - loss: 0.3978 - accuracy: 0.8116\n",
      "Epoch 18/100\n",
      "176/176 [==============================] - 0s 573us/step - loss: 0.3964 - accuracy: 0.8116\n",
      "Epoch 19/100\n",
      "176/176 [==============================] - 0s 595us/step - loss: 0.3961 - accuracy: 0.8133\n",
      "Epoch 20/100\n",
      "176/176 [==============================] - 0s 678us/step - loss: 0.3955 - accuracy: 0.8158\n",
      "Epoch 21/100\n",
      "176/176 [==============================] - 0s 591us/step - loss: 0.3939 - accuracy: 0.8151\n",
      "Epoch 22/100\n",
      "176/176 [==============================] - 0s 583us/step - loss: 0.3941 - accuracy: 0.8146\n",
      "Epoch 23/100\n",
      "176/176 [==============================] - 0s 554us/step - loss: 0.3919 - accuracy: 0.8185\n",
      "Epoch 24/100\n",
      "176/176 [==============================] - 0s 592us/step - loss: 0.3912 - accuracy: 0.8188\n",
      "Epoch 25/100\n",
      "176/176 [==============================] - 0s 570us/step - loss: 0.3907 - accuracy: 0.8148\n",
      "Epoch 26/100\n",
      "176/176 [==============================] - 0s 555us/step - loss: 0.3892 - accuracy: 0.8188\n",
      "Epoch 27/100\n",
      "176/176 [==============================] - 0s 552us/step - loss: 0.3893 - accuracy: 0.8169\n",
      "Epoch 28/100\n",
      "176/176 [==============================] - 0s 543us/step - loss: 0.3876 - accuracy: 0.8174\n",
      "Epoch 29/100\n",
      "176/176 [==============================] - 0s 568us/step - loss: 0.3867 - accuracy: 0.8208\n",
      "Epoch 30/100\n",
      "176/176 [==============================] - 0s 556us/step - loss: 0.3856 - accuracy: 0.8210\n",
      "Epoch 31/100\n",
      "176/176 [==============================] - 0s 567us/step - loss: 0.3862 - accuracy: 0.8199\n",
      "Epoch 32/100\n",
      "176/176 [==============================] - 0s 636us/step - loss: 0.3850 - accuracy: 0.8208\n",
      "Epoch 33/100\n",
      "176/176 [==============================] - 0s 590us/step - loss: 0.3841 - accuracy: 0.8196\n",
      "Epoch 34/100\n",
      "176/176 [==============================] - 0s 556us/step - loss: 0.3834 - accuracy: 0.8206\n",
      "Epoch 35/100\n",
      "176/176 [==============================] - 0s 544us/step - loss: 0.3831 - accuracy: 0.8206\n",
      "Epoch 36/100\n",
      "176/176 [==============================] - 0s 587us/step - loss: 0.3817 - accuracy: 0.8203\n",
      "Epoch 37/100\n",
      "176/176 [==============================] - 0s 551us/step - loss: 0.3813 - accuracy: 0.8206\n",
      "Epoch 38/100\n",
      "176/176 [==============================] - 0s 546us/step - loss: 0.3811 - accuracy: 0.8222\n",
      "Epoch 39/100\n",
      "176/176 [==============================] - 0s 543us/step - loss: 0.3808 - accuracy: 0.8231\n",
      "Epoch 40/100\n",
      "176/176 [==============================] - 0s 551us/step - loss: 0.3791 - accuracy: 0.8231\n",
      "Epoch 41/100\n",
      "176/176 [==============================] - 0s 565us/step - loss: 0.3792 - accuracy: 0.8222\n",
      "Epoch 42/100\n",
      "176/176 [==============================] - 0s 542us/step - loss: 0.3780 - accuracy: 0.8240\n",
      "Epoch 43/100\n",
      "176/176 [==============================] - 0s 502us/step - loss: 0.3789 - accuracy: 0.8212\n",
      "Epoch 44/100\n",
      "176/176 [==============================] - 0s 579us/step - loss: 0.3768 - accuracy: 0.8212\n",
      "Epoch 45/100\n",
      "176/176 [==============================] - 0s 594us/step - loss: 0.3759 - accuracy: 0.8268\n",
      "Epoch 46/100\n",
      "176/176 [==============================] - 0s 573us/step - loss: 0.3759 - accuracy: 0.8247\n",
      "Epoch 47/100\n",
      "176/176 [==============================] - 0s 528us/step - loss: 0.3762 - accuracy: 0.8231\n",
      "Epoch 48/100\n",
      "176/176 [==============================] - 0s 518us/step - loss: 0.3749 - accuracy: 0.8247\n",
      "Epoch 49/100\n",
      "176/176 [==============================] - 0s 591us/step - loss: 0.3744 - accuracy: 0.8235\n",
      "Epoch 50/100\n",
      "176/176 [==============================] - 0s 585us/step - loss: 0.3736 - accuracy: 0.8293\n",
      "Epoch 51/100\n",
      "176/176 [==============================] - 0s 598us/step - loss: 0.3729 - accuracy: 0.8245\n",
      "Epoch 52/100\n",
      "176/176 [==============================] - 0s 603us/step - loss: 0.3730 - accuracy: 0.8244\n",
      "Epoch 53/100\n",
      "176/176 [==============================] - 0s 585us/step - loss: 0.3718 - accuracy: 0.8235\n",
      "Epoch 54/100\n",
      "176/176 [==============================] - 0s 538us/step - loss: 0.3723 - accuracy: 0.8245\n",
      "Epoch 55/100\n",
      "176/176 [==============================] - 0s 557us/step - loss: 0.3707 - accuracy: 0.8297\n",
      "Epoch 56/100\n",
      "176/176 [==============================] - 0s 582us/step - loss: 0.3718 - accuracy: 0.8240\n",
      "Epoch 57/100\n",
      "176/176 [==============================] - 0s 552us/step - loss: 0.3696 - accuracy: 0.8270\n",
      "Epoch 58/100\n",
      "176/176 [==============================] - 0s 550us/step - loss: 0.3695 - accuracy: 0.8265\n",
      "Epoch 59/100\n",
      "176/176 [==============================] - 0s 581us/step - loss: 0.3689 - accuracy: 0.8247\n",
      "Epoch 60/100\n",
      "176/176 [==============================] - 0s 586us/step - loss: 0.3690 - accuracy: 0.8267\n",
      "Epoch 61/100\n",
      "176/176 [==============================] - 0s 611us/step - loss: 0.3677 - accuracy: 0.8288\n",
      "Epoch 62/100\n",
      "176/176 [==============================] - 0s 565us/step - loss: 0.3675 - accuracy: 0.8238\n",
      "Epoch 63/100\n",
      "176/176 [==============================] - 0s 586us/step - loss: 0.3668 - accuracy: 0.8288\n",
      "Epoch 64/100\n",
      "176/176 [==============================] - 0s 602us/step - loss: 0.3658 - accuracy: 0.8299\n",
      "Epoch 65/100\n",
      "176/176 [==============================] - 0s 585us/step - loss: 0.3658 - accuracy: 0.8297\n",
      "Epoch 66/100\n",
      "176/176 [==============================] - 0s 602us/step - loss: 0.3671 - accuracy: 0.8281\n",
      "Epoch 67/100\n",
      "176/176 [==============================] - 0s 561us/step - loss: 0.3657 - accuracy: 0.8302\n",
      "Epoch 68/100\n",
      "176/176 [==============================] - 0s 586us/step - loss: 0.3649 - accuracy: 0.8297\n",
      "Epoch 69/100\n",
      "176/176 [==============================] - 0s 543us/step - loss: 0.3631 - accuracy: 0.8299\n",
      "Epoch 70/100\n",
      "176/176 [==============================] - 0s 602us/step - loss: 0.3641 - accuracy: 0.8300\n",
      "Epoch 71/100\n",
      "176/176 [==============================] - 0s 623us/step - loss: 0.3626 - accuracy: 0.8293\n",
      "Epoch 72/100\n",
      "176/176 [==============================] - 0s 553us/step - loss: 0.3641 - accuracy: 0.8290\n",
      "Epoch 73/100\n",
      "176/176 [==============================] - 0s 569us/step - loss: 0.3635 - accuracy: 0.8288\n",
      "Epoch 74/100\n",
      "176/176 [==============================] - 0s 615us/step - loss: 0.3627 - accuracy: 0.8299\n",
      "Epoch 75/100\n",
      "176/176 [==============================] - 0s 550us/step - loss: 0.3633 - accuracy: 0.8308\n",
      "Epoch 76/100\n",
      "176/176 [==============================] - 0s 543us/step - loss: 0.3624 - accuracy: 0.8338\n",
      "Epoch 77/100\n",
      "176/176 [==============================] - 0s 589us/step - loss: 0.3613 - accuracy: 0.8302\n",
      "Epoch 78/100\n",
      "176/176 [==============================] - 0s 584us/step - loss: 0.3621 - accuracy: 0.8302\n",
      "Epoch 79/100\n"
     ]
    },
    {
     "name": "stdout",
     "output_type": "stream",
     "text": [
      "176/176 [==============================] - 0s 576us/step - loss: 0.3605 - accuracy: 0.8297\n",
      "Epoch 80/100\n",
      "176/176 [==============================] - 0s 542us/step - loss: 0.3600 - accuracy: 0.8320\n",
      "Epoch 81/100\n",
      "176/176 [==============================] - 0s 572us/step - loss: 0.3591 - accuracy: 0.8311\n",
      "Epoch 82/100\n",
      "176/176 [==============================] - 0s 591us/step - loss: 0.3583 - accuracy: 0.8327\n",
      "Epoch 83/100\n",
      "176/176 [==============================] - 0s 553us/step - loss: 0.3582 - accuracy: 0.8338\n",
      "Epoch 84/100\n",
      "176/176 [==============================] - 0s 544us/step - loss: 0.3590 - accuracy: 0.8329\n",
      "Epoch 85/100\n",
      "176/176 [==============================] - 0s 534us/step - loss: 0.3580 - accuracy: 0.8338\n",
      "Epoch 86/100\n",
      "176/176 [==============================] - 0s 572us/step - loss: 0.3581 - accuracy: 0.8322\n",
      "Epoch 87/100\n",
      "176/176 [==============================] - 0s 567us/step - loss: 0.3567 - accuracy: 0.8318\n",
      "Epoch 88/100\n",
      "176/176 [==============================] - 0s 572us/step - loss: 0.3565 - accuracy: 0.8348\n",
      "Epoch 89/100\n",
      "176/176 [==============================] - 0s 567us/step - loss: 0.3576 - accuracy: 0.8366\n",
      "Epoch 90/100\n",
      "176/176 [==============================] - 0s 556us/step - loss: 0.3560 - accuracy: 0.8359\n",
      "Epoch 91/100\n",
      "176/176 [==============================] - 0s 601us/step - loss: 0.3560 - accuracy: 0.8356\n",
      "Epoch 92/100\n",
      "176/176 [==============================] - 0s 595us/step - loss: 0.3550 - accuracy: 0.8322\n",
      "Epoch 93/100\n",
      "176/176 [==============================] - 0s 563us/step - loss: 0.3563 - accuracy: 0.8352\n",
      "Epoch 94/100\n",
      "176/176 [==============================] - 0s 560us/step - loss: 0.3549 - accuracy: 0.8348\n",
      "Epoch 95/100\n",
      "176/176 [==============================] - 0s 585us/step - loss: 0.3543 - accuracy: 0.8329\n",
      "Epoch 96/100\n",
      "176/176 [==============================] - 0s 574us/step - loss: 0.3534 - accuracy: 0.8364\n",
      "Epoch 97/100\n",
      "176/176 [==============================] - 0s 566us/step - loss: 0.3547 - accuracy: 0.8370\n",
      "Epoch 98/100\n",
      "176/176 [==============================] - 0s 550us/step - loss: 0.3519 - accuracy: 0.8375\n",
      "Epoch 99/100\n",
      "176/176 [==============================] - 0s 552us/step - loss: 0.3522 - accuracy: 0.8363\n",
      "Epoch 100/100\n",
      "176/176 [==============================] - 0s 504us/step - loss: 0.3509 - accuracy: 0.8377\n"
     ]
    },
    {
     "data": {
      "text/plain": [
       "<tensorflow.python.keras.callbacks.History at 0x208816e70a0>"
      ]
     },
     "execution_count": 33,
     "metadata": {},
     "output_type": "execute_result"
    }
   ],
   "source": [
    "model = keras.Sequential([\n",
    "    keras.layers.Dense(26, input_shape=(26,), activation='relu'),\n",
    "    keras.layers.Dense(15, activation='relu'),\n",
    "    keras.layers.Dense(1, activation='sigmoid')\n",
    "])\n",
    "\n",
    "# opt = keras.optimizers.Adam(learning_rate=0.01)\n",
    "\n",
    "model.compile(optimizer='adam',\n",
    "              loss='binary_crossentropy',\n",
    "              metrics=['accuracy'])\n",
    "\n",
    "model.fit(x_train, y_train, epochs=100)"
   ]
  },
  {
   "cell_type": "code",
   "execution_count": 34,
   "metadata": {},
   "outputs": [
    {
     "name": "stdout",
     "output_type": "stream",
     "text": [
      "44/44 [==============================] - 0s 542us/step - loss: 0.4852 - accuracy: 0.7825\n"
     ]
    },
    {
     "data": {
      "text/plain": [
       "[0.4852052927017212, 0.7825160026550293]"
      ]
     },
     "execution_count": 34,
     "metadata": {},
     "output_type": "execute_result"
    }
   ],
   "source": [
    "model.evaluate(x_test,y_test)"
   ]
  },
  {
   "cell_type": "code",
   "execution_count": 35,
   "metadata": {},
   "outputs": [
    {
     "data": {
      "text/plain": [
       "array([[0.24576277],\n",
       "       [0.5935232 ],\n",
       "       [0.00206813],\n",
       "       ...,\n",
       "       [0.7555773 ],\n",
       "       [0.6686343 ],\n",
       "       [0.23528054]], dtype=float32)"
      ]
     },
     "execution_count": 35,
     "metadata": {},
     "output_type": "execute_result"
    }
   ],
   "source": [
    "yp=model.predict(x_test)\n",
    "yp"
   ]
  },
  {
   "cell_type": "code",
   "execution_count": 36,
   "metadata": {},
   "outputs": [],
   "source": [
    "#coverting to 0& 1\n",
    "y_pred=[]\n",
    "for element in yp:\n",
    "    if element>0.5:\n",
    "        y_pred.append(1)\n",
    "    else:\n",
    "        y_pred.append(0)\n",
    "        "
   ]
  },
  {
   "cell_type": "code",
   "execution_count": 37,
   "metadata": {},
   "outputs": [
    {
     "data": {
      "text/plain": [
       "2660    0\n",
       "744     0\n",
       "5579    1\n",
       "64      1\n",
       "3287    1\n",
       "Name: Churn, dtype: int64"
      ]
     },
     "execution_count": 37,
     "metadata": {},
     "output_type": "execute_result"
    }
   ],
   "source": [
    "y_test[:5]"
   ]
  },
  {
   "cell_type": "code",
   "execution_count": 38,
   "metadata": {},
   "outputs": [
    {
     "data": {
      "text/plain": [
       "[0, 1, 0, 1, 0]"
      ]
     },
     "execution_count": 38,
     "metadata": {},
     "output_type": "execute_result"
    }
   ],
   "source": [
    "y_pred[:5]"
   ]
  },
  {
   "cell_type": "code",
   "execution_count": 39,
   "metadata": {},
   "outputs": [
    {
     "name": "stdout",
     "output_type": "stream",
     "text": [
      "              precision    recall  f1-score   support\n",
      "\n",
      "           0       0.82      0.89      0.85       999\n",
      "           1       0.66      0.53      0.58       408\n",
      "\n",
      "    accuracy                           0.78      1407\n",
      "   macro avg       0.74      0.71      0.72      1407\n",
      "weighted avg       0.77      0.78      0.77      1407\n",
      "\n"
     ]
    }
   ],
   "source": [
    "from sklearn.metrics import confusion_matrix,classification_report\n",
    "print(classification_report(y_test,y_pred))"
   ]
  },
  {
   "cell_type": "markdown",
   "metadata": {},
   "source": [
    "## Confusion matrix"
   ]
  },
  {
   "cell_type": "code",
   "execution_count": 84,
   "metadata": {},
   "outputs": [
    {
     "data": {
      "image/png": "[encoded data removed]",
      "text/plain": [
       "<Figure size 432x288 with 2 Axes>"
      ]
     },
     "metadata": {
      "needs_background": "light"
     },
     "output_type": "display_data"
    }
   ],
   "source": [
    "import seaborn as sn\n",
    "cm=tf.math.confusion_matrix(labels=y_test, predictions=y_pred)\n",
    "\n",
    "sn.heatmap(cm,annot=True,fmt='d')\n",
    "plt.xlabel('Pred')\n",
    "plt.ylabel('Truth');"
   ]
  },
  {
   "cell_type": "markdown",
   "metadata": {},
   "source": [
    "Diagonal are correct prediction & off-diagonal are error"
   ]
  },
  {
   "cell_type": "markdown",
   "metadata": {},
   "source": [
    "# Imbalnced data"
   ]
  },
  {
   "cell_type": "markdown",
   "metadata": {},
   "source": [
    "## Since we are having f1 scores for both not leaving &  leaving as 0.85 & 0.58 which is not balanced so that's why we can say that our dataset is imbalanced."
   ]
  },
  {
   "cell_type": "markdown",
   "metadata": {},
   "source": [
    "### 1.Undersampling of majority class"
   ]
  },
  {
   "cell_type": "code",
   "execution_count": 43,
   "metadata": {},
   "outputs": [
    {
     "data": {
      "text/plain": [
       "0    999\n",
       "1    408\n",
       "Name: Churn, dtype: int64"
      ]
     },
     "execution_count": 43,
     "metadata": {},
     "output_type": "execute_result"
    }
   ],
   "source": [
    "y_test.value_counts()"
   ]
  },
  {
   "cell_type": "markdown",
   "metadata": {},
   "source": [
    "We are having 999 samples for zeroth class & 408 samples for first class. So, there is an imbalance"
   ]
  },
  {
   "cell_type": "code",
   "execution_count": 45,
   "metadata": {},
   "outputs": [],
   "source": [
    "#class count\n",
    "count_class_0, count_class_1=df1.Churn.value_counts()\n",
    "\n",
    "#divide by class\n",
    "df_class_0=df2[df2['Churn']==0]\n",
    "df_class_1=df2[df2['Churn']==1]"
   ]
  },
  {
   "cell_type": "code",
   "execution_count": 48,
   "metadata": {},
   "outputs": [
    {
     "data": {
      "text/plain": [
       "(5163, 1869)"
      ]
     },
     "execution_count": 48,
     "metadata": {},
     "output_type": "execute_result"
    }
   ],
   "source": [
    "count_class_0,count_class_1"
   ]
  },
  {
   "cell_type": "code",
   "execution_count": 46,
   "metadata": {},
   "outputs": [
    {
     "data": {
      "text/plain": [
       "((5163, 27), (1869, 27))"
      ]
     },
     "execution_count": 46,
     "metadata": {},
     "output_type": "execute_result"
    }
   ],
   "source": [
    "df_class_0.shape,df_class_1.shape"
   ]
  },
  {
   "cell_type": "code",
   "execution_count": 55,
   "metadata": {},
   "outputs": [],
   "source": [
    "#usndersampling 5163 samples to 1869 samples\n",
    "df_class_0_under=df_class_0.sample(count_class_1)\n",
    "\n",
    "df_test_under=pd.concat([df_class_0_under,df_class_1],axis=0)"
   ]
  },
  {
   "cell_type": "code",
   "execution_count": 56,
   "metadata": {},
   "outputs": [
    {
     "data": {
      "text/plain": [
       "(3738, 27)"
      ]
     },
     "execution_count": 56,
     "metadata": {},
     "output_type": "execute_result"
    }
   ],
   "source": [
    "df_test_under.shape"
   ]
  },
  {
   "cell_type": "code",
   "execution_count": 58,
   "metadata": {},
   "outputs": [
    {
     "data": {
      "text/plain": [
       "1    1869\n",
       "0    1869\n",
       "Name: Churn, dtype: int64"
      ]
     },
     "execution_count": 58,
     "metadata": {},
     "output_type": "execute_result"
    }
   ],
   "source": [
    "df_test_under.Churn.value_counts()"
   ]
  },
  {
   "cell_type": "code",
   "execution_count": 62,
   "metadata": {},
   "outputs": [],
   "source": [
    "x=df_test_under.drop('Churn',axis=1)\n",
    "y=df_test_under['Churn']\n",
    "\n",
    "x_train,x_test,y_train,y_test=train_test_split(x,y,random_state=15,test_size=0.2,stratify=y)"
   ]
  },
  {
   "cell_type": "code",
   "execution_count": 66,
   "metadata": {},
   "outputs": [
    {
     "data": {
      "text/plain": [
       "1    1495\n",
       "0    1495\n",
       "Name: Churn, dtype: int64"
      ]
     },
     "execution_count": 66,
     "metadata": {},
     "output_type": "execute_result"
    }
   ],
   "source": [
    "y_train.value_counts()"
   ]
  },
  {
   "cell_type": "markdown",
   "metadata": {},
   "source": [
    "Model fitting"
   ]
  },
  {
   "cell_type": "code",
   "execution_count": 67,
   "metadata": {},
   "outputs": [
    {
     "name": "stdout",
     "output_type": "stream",
     "text": [
      "Epoch 1/100\n",
      "94/94 [==============================] - 0s 606us/step - loss: 0.5763 - accuracy: 0.7241\n",
      "Epoch 2/100\n",
      "94/94 [==============================] - 0s 582us/step - loss: 0.5121 - accuracy: 0.7552\n",
      "Epoch 3/100\n",
      "94/94 [==============================] - 0s 582us/step - loss: 0.5003 - accuracy: 0.7599\n",
      "Epoch 4/100\n",
      "94/94 [==============================] - 0s 610us/step - loss: 0.4921 - accuracy: 0.7602\n",
      "Epoch 5/100\n",
      "94/94 [==============================] - 0s 613us/step - loss: 0.4881 - accuracy: 0.7619\n",
      "Epoch 6/100\n",
      "94/94 [==============================] - 0s 584us/step - loss: 0.4855 - accuracy: 0.7622\n",
      "Epoch 7/100\n",
      "94/94 [==============================] - 0s 604us/step - loss: 0.4824 - accuracy: 0.7629\n",
      "Epoch 8/100\n",
      "94/94 [==============================] - 0s 556us/step - loss: 0.4794 - accuracy: 0.7629\n",
      "Epoch 9/100\n",
      "94/94 [==============================] - 0s 626us/step - loss: 0.4782 - accuracy: 0.7666\n",
      "Epoch 10/100\n",
      "94/94 [==============================] - 0s 633us/step - loss: 0.4755 - accuracy: 0.7692\n",
      "Epoch 11/100\n",
      "94/94 [==============================] - 0s 600us/step - loss: 0.4735 - accuracy: 0.7702\n",
      "Epoch 12/100\n",
      "94/94 [==============================] - 0s 646us/step - loss: 0.4725 - accuracy: 0.7709\n",
      "Epoch 13/100\n",
      "94/94 [==============================] - 0s 644us/step - loss: 0.4705 - accuracy: 0.7696\n",
      "Epoch 14/100\n",
      "94/94 [==============================] - 0s 646us/step - loss: 0.4688 - accuracy: 0.7709\n",
      "Epoch 15/100\n",
      "94/94 [==============================] - 0s 653us/step - loss: 0.4678 - accuracy: 0.7716\n",
      "Epoch 16/100\n",
      "94/94 [==============================] - 0s 621us/step - loss: 0.4662 - accuracy: 0.7699\n",
      "Epoch 17/100\n",
      "94/94 [==============================] - 0s 536us/step - loss: 0.4642 - accuracy: 0.7732\n",
      "Epoch 18/100\n",
      "94/94 [==============================] - 0s 557us/step - loss: 0.4626 - accuracy: 0.7749\n",
      "Epoch 19/100\n",
      "94/94 [==============================] - 0s 554us/step - loss: 0.4615 - accuracy: 0.7732\n",
      "Epoch 20/100\n",
      "94/94 [==============================] - 0s 548us/step - loss: 0.4598 - accuracy: 0.7783\n",
      "Epoch 21/100\n",
      "94/94 [==============================] - 0s 569us/step - loss: 0.4578 - accuracy: 0.7796\n",
      "Epoch 22/100\n",
      "94/94 [==============================] - 0s 535us/step - loss: 0.4572 - accuracy: 0.7789\n",
      "Epoch 23/100\n",
      "94/94 [==============================] - 0s 571us/step - loss: 0.4556 - accuracy: 0.7813\n",
      "Epoch 24/100\n",
      "94/94 [==============================] - 0s 592us/step - loss: 0.4543 - accuracy: 0.7796\n",
      "Epoch 25/100\n",
      "94/94 [==============================] - 0s 531us/step - loss: 0.4529 - accuracy: 0.7826\n",
      "Epoch 26/100\n",
      "94/94 [==============================] - 0s 631us/step - loss: 0.4519 - accuracy: 0.7849\n",
      "Epoch 27/100\n",
      "94/94 [==============================] - 0s 612us/step - loss: 0.4495 - accuracy: 0.7809\n",
      "Epoch 28/100\n",
      "94/94 [==============================] - 0s 524us/step - loss: 0.4492 - accuracy: 0.7870\n",
      "Epoch 29/100\n",
      "94/94 [==============================] - 0s 620us/step - loss: 0.4471 - accuracy: 0.7860\n",
      "Epoch 30/100\n",
      "94/94 [==============================] - 0s 559us/step - loss: 0.4464 - accuracy: 0.7829\n",
      "Epoch 31/100\n",
      "94/94 [==============================] - 0s 594us/step - loss: 0.4465 - accuracy: 0.7833\n",
      "Epoch 32/100\n",
      "94/94 [==============================] - 0s 622us/step - loss: 0.4437 - accuracy: 0.7913\n",
      "Epoch 33/100\n",
      "94/94 [==============================] - 0s 607us/step - loss: 0.4437 - accuracy: 0.7863\n",
      "Epoch 34/100\n",
      "94/94 [==============================] - 0s 624us/step - loss: 0.4423 - accuracy: 0.7890\n",
      "Epoch 35/100\n",
      "94/94 [==============================] - 0s 594us/step - loss: 0.4412 - accuracy: 0.7900\n",
      "Epoch 36/100\n",
      "94/94 [==============================] - 0s 593us/step - loss: 0.4393 - accuracy: 0.7926\n",
      "Epoch 37/100\n",
      "94/94 [==============================] - 0s 555us/step - loss: 0.4386 - accuracy: 0.7936\n",
      "Epoch 38/100\n",
      "94/94 [==============================] - 0s 612us/step - loss: 0.4391 - accuracy: 0.7916\n",
      "Epoch 39/100\n",
      "94/94 [==============================] - 0s 547us/step - loss: 0.4372 - accuracy: 0.7920\n",
      "Epoch 40/100\n",
      "94/94 [==============================] - 0s 617us/step - loss: 0.4346 - accuracy: 0.7920\n",
      "Epoch 41/100\n",
      "94/94 [==============================] - 0s 571us/step - loss: 0.4359 - accuracy: 0.7946\n",
      "Epoch 42/100\n",
      "94/94 [==============================] - 0s 579us/step - loss: 0.4325 - accuracy: 0.7940\n",
      "Epoch 43/100\n",
      "94/94 [==============================] - 0s 629us/step - loss: 0.4334 - accuracy: 0.8000\n",
      "Epoch 44/100\n",
      "94/94 [==============================] - 0s 562us/step - loss: 0.4315 - accuracy: 0.7936\n",
      "Epoch 45/100\n",
      "94/94 [==============================] - 0s 586us/step - loss: 0.4295 - accuracy: 0.7973\n",
      "Epoch 46/100\n",
      "94/94 [==============================] - 0s 619us/step - loss: 0.4290 - accuracy: 0.7963\n",
      "Epoch 47/100\n",
      "94/94 [==============================] - 0s 581us/step - loss: 0.4291 - accuracy: 0.7967\n",
      "Epoch 48/100\n",
      "94/94 [==============================] - 0s 633us/step - loss: 0.4279 - accuracy: 0.7963\n",
      "Epoch 49/100\n",
      "94/94 [==============================] - 0s 564us/step - loss: 0.4251 - accuracy: 0.7990\n",
      "Epoch 50/100\n",
      "94/94 [==============================] - 0s 625us/step - loss: 0.4261 - accuracy: 0.8010\n",
      "Epoch 51/100\n",
      "94/94 [==============================] - 0s 551us/step - loss: 0.4242 - accuracy: 0.8003\n",
      "Epoch 52/100\n",
      "94/94 [==============================] - 0s 679us/step - loss: 0.4223 - accuracy: 0.8007\n",
      "Epoch 53/100\n",
      "94/94 [==============================] - 0s 602us/step - loss: 0.4247 - accuracy: 0.8003\n",
      "Epoch 54/100\n",
      "94/94 [==============================] - 0s 605us/step - loss: 0.4232 - accuracy: 0.8017\n",
      "Epoch 55/100\n",
      "94/94 [==============================] - 0s 565us/step - loss: 0.4214 - accuracy: 0.8057\n",
      "Epoch 56/100\n",
      "94/94 [==============================] - 0s 580us/step - loss: 0.4191 - accuracy: 0.8080\n",
      "Epoch 57/100\n",
      "94/94 [==============================] - 0s 540us/step - loss: 0.4190 - accuracy: 0.8050\n",
      "Epoch 58/100\n",
      "94/94 [==============================] - 0s 534us/step - loss: 0.4181 - accuracy: 0.8020\n",
      "Epoch 59/100\n",
      "94/94 [==============================] - 0s 533us/step - loss: 0.4177 - accuracy: 0.8047\n",
      "Epoch 60/100\n",
      "94/94 [==============================] - 0s 552us/step - loss: 0.4155 - accuracy: 0.8067\n",
      "Epoch 61/100\n",
      "94/94 [==============================] - 0s 591us/step - loss: 0.4155 - accuracy: 0.8070\n",
      "Epoch 62/100\n",
      "94/94 [==============================] - 0s 602us/step - loss: 0.4150 - accuracy: 0.8033\n",
      "Epoch 63/100\n",
      "94/94 [==============================] - 0s 584us/step - loss: 0.4132 - accuracy: 0.8080\n",
      "Epoch 64/100\n",
      "94/94 [==============================] - 0s 572us/step - loss: 0.4128 - accuracy: 0.8067\n",
      "Epoch 65/100\n",
      "94/94 [==============================] - 0s 554us/step - loss: 0.4120 - accuracy: 0.8047\n",
      "Epoch 66/100\n",
      "94/94 [==============================] - 0s 582us/step - loss: 0.4108 - accuracy: 0.8104\n",
      "Epoch 67/100\n",
      "94/94 [==============================] - 0s 623us/step - loss: 0.4100 - accuracy: 0.8100\n",
      "Epoch 68/100\n",
      "94/94 [==============================] - 0s 529us/step - loss: 0.4096 - accuracy: 0.8084\n",
      "Epoch 69/100\n",
      "94/94 [==============================] - 0s 558us/step - loss: 0.4087 - accuracy: 0.8090\n",
      "Epoch 70/100\n",
      "94/94 [==============================] - 0s 580us/step - loss: 0.4070 - accuracy: 0.8097\n",
      "Epoch 71/100\n",
      "94/94 [==============================] - 0s 600us/step - loss: 0.4068 - accuracy: 0.8114\n",
      "Epoch 72/100\n",
      "94/94 [==============================] - 0s 527us/step - loss: 0.4057 - accuracy: 0.8080\n",
      "Epoch 73/100\n",
      "94/94 [==============================] - 0s 620us/step - loss: 0.4056 - accuracy: 0.8107\n",
      "Epoch 74/100\n",
      "94/94 [==============================] - 0s 637us/step - loss: 0.4026 - accuracy: 0.8120\n",
      "Epoch 75/100\n",
      "94/94 [==============================] - 0s 628us/step - loss: 0.4032 - accuracy: 0.8104\n",
      "Epoch 76/100\n",
      "94/94 [==============================] - 0s 604us/step - loss: 0.4031 - accuracy: 0.8100\n",
      "Epoch 77/100\n",
      "94/94 [==============================] - 0s 535us/step - loss: 0.4048 - accuracy: 0.8120\n",
      "Epoch 78/100\n",
      "94/94 [==============================] - 0s 582us/step - loss: 0.3994 - accuracy: 0.8100\n",
      "Epoch 79/100\n",
      "94/94 [==============================] - 0s 597us/step - loss: 0.3988 - accuracy: 0.8134\n",
      "Epoch 80/100\n",
      "94/94 [==============================] - 0s 554us/step - loss: 0.3997 - accuracy: 0.8120\n",
      "Epoch 81/100\n"
     ]
    },
    {
     "name": "stdout",
     "output_type": "stream",
     "text": [
      "94/94 [==============================] - 0s 599us/step - loss: 0.3985 - accuracy: 0.8134\n",
      "Epoch 82/100\n",
      "94/94 [==============================] - 0s 512us/step - loss: 0.3971 - accuracy: 0.8151\n",
      "Epoch 83/100\n",
      "94/94 [==============================] - 0s 556us/step - loss: 0.3971 - accuracy: 0.8134\n",
      "Epoch 84/100\n",
      "94/94 [==============================] - 0s 557us/step - loss: 0.3951 - accuracy: 0.8144\n",
      "Epoch 85/100\n",
      "94/94 [==============================] - 0s 576us/step - loss: 0.3943 - accuracy: 0.8140\n",
      "Epoch 86/100\n",
      "94/94 [==============================] - 0s 546us/step - loss: 0.3958 - accuracy: 0.8147\n",
      "Epoch 87/100\n",
      "94/94 [==============================] - 0s 522us/step - loss: 0.3959 - accuracy: 0.8167\n",
      "Epoch 88/100\n",
      "94/94 [==============================] - 0s 589us/step - loss: 0.3929 - accuracy: 0.8157\n",
      "Epoch 89/100\n",
      "94/94 [==============================] - 0s 590us/step - loss: 0.3924 - accuracy: 0.8184\n",
      "Epoch 90/100\n",
      "94/94 [==============================] - 0s 587us/step - loss: 0.3908 - accuracy: 0.8171\n",
      "Epoch 91/100\n",
      "94/94 [==============================] - 0s 563us/step - loss: 0.3919 - accuracy: 0.8187\n",
      "Epoch 92/100\n",
      "94/94 [==============================] - 0s 727us/step - loss: 0.3904 - accuracy: 0.8167\n",
      "Epoch 93/100\n",
      "94/94 [==============================] - 0s 616us/step - loss: 0.3889 - accuracy: 0.8177\n",
      "Epoch 94/100\n",
      "94/94 [==============================] - 0s 571us/step - loss: 0.3887 - accuracy: 0.8197\n",
      "Epoch 95/100\n",
      "94/94 [==============================] - 0s 646us/step - loss: 0.3911 - accuracy: 0.8197\n",
      "Epoch 96/100\n",
      "94/94 [==============================] - 0s 653us/step - loss: 0.3878 - accuracy: 0.8227\n",
      "Epoch 97/100\n",
      "94/94 [==============================] - 0s 568us/step - loss: 0.3873 - accuracy: 0.8174\n",
      "Epoch 98/100\n",
      "94/94 [==============================] - 0s 593us/step - loss: 0.3853 - accuracy: 0.8217\n",
      "Epoch 99/100\n",
      "94/94 [==============================] - 0s 692us/step - loss: 0.3849 - accuracy: 0.8227\n",
      "Epoch 100/100\n",
      "94/94 [==============================] - 0s 634us/step - loss: 0.3831 - accuracy: 0.8254\n"
     ]
    },
    {
     "data": {
      "text/plain": [
       "<tensorflow.python.keras.callbacks.History at 0x208851d04c0>"
      ]
     },
     "execution_count": 67,
     "metadata": {},
     "output_type": "execute_result"
    }
   ],
   "source": [
    "model=keras.Sequential([\n",
    "    keras.layers.Dense(26, input_shape=(26,), activation='relu'),\n",
    "    keras.layers.Dense(15,activation='relu'),\n",
    "    keras.layers.Dense(1,activation='sigmoid')\n",
    "])\n",
    "\n",
    "model.compile(optimizer='adam',loss='binary_crossentropy',metrics=['accuracy'])\n",
    "\n",
    "model.fit(x_train,y_train,epochs=100)"
   ]
  },
  {
   "cell_type": "code",
   "execution_count": 68,
   "metadata": {},
   "outputs": [
    {
     "data": {
      "text/plain": [
       "array([[6.14707470e-01],\n",
       "       [7.58849978e-01],\n",
       "       [3.15835774e-01],\n",
       "       [6.17320180e-01],\n",
       "       [2.34416902e-01],\n",
       "       [3.87583166e-01],\n",
       "       [2.16895670e-01],\n",
       "       [8.61884415e-01],\n",
       "       [7.99839258e-01],\n",
       "       [7.53868818e-02],\n",
       "       [9.35402572e-01],\n",
       "       [1.40221119e-02],\n",
       "       [9.75701988e-01],\n",
       "       [9.93547797e-01],\n",
       "       [9.75149989e-01],\n",
       "       [9.53519702e-01],\n",
       "       [9.04387236e-01],\n",
       "       [8.35075915e-01],\n",
       "       [9.78761733e-01],\n",
       "       [2.87574410e-01],\n",
       "       [5.07422328e-01],\n",
       "       [8.19135189e-01],\n",
       "       [4.42704141e-01],\n",
       "       [1.19466782e-02],\n",
       "       [1.60398334e-01],\n",
       "       [9.08080697e-01],\n",
       "       [8.25588405e-02],\n",
       "       [7.78651476e-01],\n",
       "       [4.11382347e-01],\n",
       "       [9.15220559e-01],\n",
       "       [9.54957306e-01],\n",
       "       [1.08848602e-01],\n",
       "       [9.64259982e-01],\n",
       "       [9.60722268e-01],\n",
       "       [7.28915274e-01],\n",
       "       [4.91901398e-01],\n",
       "       [9.42701340e-01],\n",
       "       [7.30127871e-01],\n",
       "       [9.36049759e-01],\n",
       "       [7.74715841e-02],\n",
       "       [4.27751750e-01],\n",
       "       [7.03492999e-01],\n",
       "       [5.55670917e-01],\n",
       "       [7.78310895e-01],\n",
       "       [3.09376240e-01],\n",
       "       [5.28476894e-01],\n",
       "       [9.97331977e-01],\n",
       "       [9.70198154e-01],\n",
       "       [5.67627668e-01],\n",
       "       [1.29528940e-01],\n",
       "       [5.45405388e-01],\n",
       "       [6.25762403e-01],\n",
       "       [1.56185776e-01],\n",
       "       [5.51853836e-01],\n",
       "       [9.02722359e-01],\n",
       "       [4.08821702e-02],\n",
       "       [4.30270553e-01],\n",
       "       [9.76890445e-01],\n",
       "       [5.86018860e-01],\n",
       "       [8.85399222e-01],\n",
       "       [2.41158605e-02],\n",
       "       [6.62277639e-02],\n",
       "       [9.73076463e-01],\n",
       "       [8.91898036e-01],\n",
       "       [6.12690151e-01],\n",
       "       [7.61300325e-04],\n",
       "       [4.83401865e-01],\n",
       "       [7.82878041e-01],\n",
       "       [7.43397593e-01],\n",
       "       [1.22277170e-01],\n",
       "       [9.94140744e-01],\n",
       "       [8.61840189e-01],\n",
       "       [7.79162884e-01],\n",
       "       [3.62044573e-02],\n",
       "       [4.80283052e-01],\n",
       "       [5.12832403e-03],\n",
       "       [6.87566042e-01],\n",
       "       [9.47110891e-01],\n",
       "       [7.44127035e-02],\n",
       "       [5.70074260e-01],\n",
       "       [3.73741686e-01],\n",
       "       [2.81339586e-01],\n",
       "       [9.79397178e-01],\n",
       "       [2.55315602e-02],\n",
       "       [2.45144397e-01],\n",
       "       [9.90889549e-01],\n",
       "       [1.52183861e-01],\n",
       "       [4.90410626e-02],\n",
       "       [7.07289875e-01],\n",
       "       [1.18358254e-01],\n",
       "       [1.42066836e-01],\n",
       "       [3.32866073e-01],\n",
       "       [8.72818708e-01],\n",
       "       [9.54192758e-01],\n",
       "       [1.54687315e-01],\n",
       "       [9.81939197e-01],\n",
       "       [8.51853013e-01],\n",
       "       [8.51665378e-01],\n",
       "       [7.20251799e-01],\n",
       "       [8.40004385e-01],\n",
       "       [9.13351655e-01],\n",
       "       [8.25393200e-01],\n",
       "       [5.20091653e-01],\n",
       "       [9.72110450e-01],\n",
       "       [9.12234664e-01],\n",
       "       [1.72965378e-01],\n",
       "       [2.56143034e-01],\n",
       "       [3.87361646e-03],\n",
       "       [6.32689714e-01],\n",
       "       [6.38842285e-02],\n",
       "       [6.63979053e-01],\n",
       "       [9.37257767e-01],\n",
       "       [9.87736583e-02],\n",
       "       [9.01883543e-01],\n",
       "       [8.60812664e-02],\n",
       "       [8.91744185e-06],\n",
       "       [2.53464520e-01],\n",
       "       [5.59986830e-02],\n",
       "       [4.49175656e-01],\n",
       "       [9.00985956e-01],\n",
       "       [9.04016197e-01],\n",
       "       [6.49379253e-01],\n",
       "       [9.59146142e-01],\n",
       "       [1.52041465e-01],\n",
       "       [2.10751206e-01],\n",
       "       [4.20271903e-01],\n",
       "       [9.41359997e-03],\n",
       "       [9.89670515e-01],\n",
       "       [1.19145513e-02],\n",
       "       [3.01445723e-01],\n",
       "       [9.65464950e-01],\n",
       "       [3.26154709e-01],\n",
       "       [9.69207883e-01],\n",
       "       [1.21527284e-01],\n",
       "       [9.26283896e-01],\n",
       "       [7.37326026e-01],\n",
       "       [1.62451148e-01],\n",
       "       [1.41764581e-02],\n",
       "       [4.06672955e-02],\n",
       "       [9.73857343e-01],\n",
       "       [8.50965500e-01],\n",
       "       [9.68856335e-01],\n",
       "       [5.58153749e-01],\n",
       "       [3.20702702e-01],\n",
       "       [7.98258364e-01],\n",
       "       [4.27267879e-01],\n",
       "       [4.83513474e-01],\n",
       "       [2.61074722e-01],\n",
       "       [9.83906686e-01],\n",
       "       [3.18198025e-01],\n",
       "       [5.20980597e-01],\n",
       "       [2.09652185e-01],\n",
       "       [9.42320347e-01],\n",
       "       [5.26762247e-01],\n",
       "       [8.29374909e-01],\n",
       "       [5.12258887e-01],\n",
       "       [1.39510632e-03],\n",
       "       [7.05976427e-01],\n",
       "       [4.28097427e-01],\n",
       "       [9.74851489e-01],\n",
       "       [4.36838508e-01],\n",
       "       [8.58636320e-01],\n",
       "       [3.38054001e-01],\n",
       "       [7.37307072e-02],\n",
       "       [5.31611562e-01],\n",
       "       [9.64149594e-01],\n",
       "       [4.10660625e-01],\n",
       "       [8.98281813e-01],\n",
       "       [9.81722951e-01],\n",
       "       [9.48814869e-01],\n",
       "       [8.28010857e-01],\n",
       "       [7.41944134e-01],\n",
       "       [8.84965539e-01],\n",
       "       [5.14702380e-01],\n",
       "       [7.45406747e-03],\n",
       "       [2.06575543e-01],\n",
       "       [9.56403792e-01],\n",
       "       [8.04443955e-01],\n",
       "       [8.31400514e-01],\n",
       "       [4.18552577e-01],\n",
       "       [8.79376650e-01],\n",
       "       [9.15121973e-01],\n",
       "       [9.62080121e-01],\n",
       "       [1.48862481e-01],\n",
       "       [7.65642285e-01],\n",
       "       [8.42946053e-01],\n",
       "       [9.47767913e-01],\n",
       "       [5.30225039e-01],\n",
       "       [4.44041252e-01],\n",
       "       [7.00265169e-01],\n",
       "       [4.03090358e-01],\n",
       "       [8.23095560e-01],\n",
       "       [6.84275627e-01],\n",
       "       [7.29682028e-01],\n",
       "       [5.33499479e-01],\n",
       "       [8.62069666e-01],\n",
       "       [2.60627449e-01],\n",
       "       [1.94528162e-01],\n",
       "       [5.28560221e-01],\n",
       "       [7.06211090e-01],\n",
       "       [3.21745455e-01],\n",
       "       [8.63158464e-01],\n",
       "       [8.87106061e-01],\n",
       "       [9.56018865e-02],\n",
       "       [3.60518694e-03],\n",
       "       [5.71310520e-03],\n",
       "       [9.83033240e-01],\n",
       "       [7.95209467e-01],\n",
       "       [8.47045898e-01],\n",
       "       [6.79481030e-03],\n",
       "       [8.35275650e-01],\n",
       "       [9.80340540e-02],\n",
       "       [3.03560019e-01],\n",
       "       [1.74879164e-01],\n",
       "       [3.33949327e-02],\n",
       "       [7.67350793e-01],\n",
       "       [1.02864236e-01],\n",
       "       [8.71531606e-01],\n",
       "       [8.43092799e-03],\n",
       "       [2.19973803e-01],\n",
       "       [5.47079206e-01],\n",
       "       [3.17750394e-01],\n",
       "       [5.62562644e-01],\n",
       "       [9.34958339e-01],\n",
       "       [9.83078957e-01],\n",
       "       [6.35721922e-01],\n",
       "       [2.79810905e-01],\n",
       "       [9.45947289e-01],\n",
       "       [1.83069170e-01],\n",
       "       [4.49304134e-01],\n",
       "       [7.89271891e-02],\n",
       "       [3.42108607e-02],\n",
       "       [1.38621122e-01],\n",
       "       [1.70698673e-01],\n",
       "       [7.73614645e-01],\n",
       "       [9.74862814e-01],\n",
       "       [5.28660059e-01],\n",
       "       [4.59548295e-01],\n",
       "       [8.98385406e-01],\n",
       "       [7.30027378e-01],\n",
       "       [9.08982158e-01],\n",
       "       [7.96387732e-01],\n",
       "       [1.01927519e-01],\n",
       "       [3.45802605e-01],\n",
       "       [7.15674043e-01],\n",
       "       [9.78281796e-02],\n",
       "       [1.02943569e-01],\n",
       "       [1.55660093e-01],\n",
       "       [3.62838984e-01],\n",
       "       [9.28147197e-01],\n",
       "       [9.76903319e-01],\n",
       "       [8.60216379e-01],\n",
       "       [1.80476040e-01],\n",
       "       [6.92323208e-01],\n",
       "       [9.61226642e-01],\n",
       "       [3.84295881e-01],\n",
       "       [8.31743360e-01],\n",
       "       [2.28998542e-01],\n",
       "       [4.29765522e-01],\n",
       "       [3.74985337e-01],\n",
       "       [8.72704387e-01],\n",
       "       [6.10410690e-01],\n",
       "       [8.96362066e-01],\n",
       "       [2.10441947e-01],\n",
       "       [1.57052577e-02],\n",
       "       [4.96150702e-01],\n",
       "       [8.26071501e-01],\n",
       "       [9.46857214e-01],\n",
       "       [2.46359348e-01],\n",
       "       [7.21786737e-01],\n",
       "       [2.83792019e-02],\n",
       "       [9.39677596e-01],\n",
       "       [7.03286171e-01],\n",
       "       [3.21665406e-01],\n",
       "       [8.90523791e-01],\n",
       "       [6.59605503e-01],\n",
       "       [5.12406290e-01],\n",
       "       [6.09874725e-03],\n",
       "       [3.08539271e-01],\n",
       "       [3.62080604e-01],\n",
       "       [1.62746906e-02],\n",
       "       [2.17285097e-01],\n",
       "       [3.44461143e-01],\n",
       "       [6.91441894e-02],\n",
       "       [6.18947506e-01],\n",
       "       [6.30968809e-03],\n",
       "       [8.95289063e-01],\n",
       "       [8.40904236e-01],\n",
       "       [9.73661244e-01],\n",
       "       [5.57434261e-01],\n",
       "       [1.73535943e-03],\n",
       "       [5.49695492e-01],\n",
       "       [9.02686357e-01],\n",
       "       [8.36377382e-01],\n",
       "       [8.41049194e-01],\n",
       "       [8.63311291e-01],\n",
       "       [1.53204203e-02],\n",
       "       [1.96517557e-01],\n",
       "       [9.48348284e-01],\n",
       "       [2.04440951e-03],\n",
       "       [6.51688218e-01],\n",
       "       [9.43103313e-01],\n",
       "       [2.60805011e-01],\n",
       "       [2.12063700e-01],\n",
       "       [1.62441075e-01],\n",
       "       [2.71063745e-02],\n",
       "       [7.47762322e-02],\n",
       "       [5.48008621e-01],\n",
       "       [5.01589835e-01],\n",
       "       [4.98653948e-02],\n",
       "       [9.67583537e-01],\n",
       "       [1.67482674e-01],\n",
       "       [2.44468451e-04],\n",
       "       [1.58573687e-02],\n",
       "       [1.28520697e-01],\n",
       "       [5.13554454e-01],\n",
       "       [9.15783167e-01],\n",
       "       [4.31182384e-02],\n",
       "       [1.82813704e-02],\n",
       "       [9.37203407e-01],\n",
       "       [1.20997697e-01],\n",
       "       [9.50071216e-01],\n",
       "       [5.75820744e-01],\n",
       "       [9.88414526e-01],\n",
       "       [6.21989369e-01],\n",
       "       [5.00944316e-01],\n",
       "       [9.27004516e-01],\n",
       "       [9.84992027e-01],\n",
       "       [1.02070540e-01],\n",
       "       [2.23331928e-01],\n",
       "       [9.11865950e-01],\n",
       "       [9.79654729e-01],\n",
       "       [5.39641321e-01],\n",
       "       [9.30269539e-01],\n",
       "       [4.25922513e-01],\n",
       "       [3.40538442e-01],\n",
       "       [9.93206024e-01],\n",
       "       [9.12626684e-01],\n",
       "       [7.91336179e-01],\n",
       "       [2.45616704e-01],\n",
       "       [3.42067748e-01],\n",
       "       [1.35445416e-01],\n",
       "       [2.21498013e-02],\n",
       "       [9.74925816e-01],\n",
       "       [1.27974153e-03],\n",
       "       [8.77046347e-01],\n",
       "       [3.90402198e-01],\n",
       "       [9.37758565e-01],\n",
       "       [4.21101153e-02],\n",
       "       [4.95818257e-03],\n",
       "       [5.79941273e-03],\n",
       "       [9.48105097e-01],\n",
       "       [9.12333846e-01],\n",
       "       [8.22132230e-01],\n",
       "       [4.67966974e-01],\n",
       "       [9.29939926e-01],\n",
       "       [8.11583579e-01],\n",
       "       [9.71671820e-01],\n",
       "       [8.21581662e-01],\n",
       "       [7.91322291e-01],\n",
       "       [3.82415354e-01],\n",
       "       [8.48707914e-01],\n",
       "       [5.36512613e-01],\n",
       "       [1.47843212e-01],\n",
       "       [9.04253423e-01],\n",
       "       [7.58653283e-02],\n",
       "       [9.15736258e-01],\n",
       "       [4.75487679e-01],\n",
       "       [8.50672722e-02],\n",
       "       [7.08788931e-01],\n",
       "       [9.16669130e-01],\n",
       "       [6.08581841e-01],\n",
       "       [7.81033278e-01],\n",
       "       [9.09644008e-01],\n",
       "       [1.37809515e-02],\n",
       "       [7.08104372e-01],\n",
       "       [8.22314143e-01],\n",
       "       [4.27527368e-01],\n",
       "       [3.34500074e-02],\n",
       "       [9.64339972e-01],\n",
       "       [4.35081840e-01],\n",
       "       [2.53798902e-01],\n",
       "       [8.70722175e-01],\n",
       "       [8.70658875e-01],\n",
       "       [5.65208435e-01],\n",
       "       [6.69900715e-01],\n",
       "       [3.25919956e-01],\n",
       "       [5.25671244e-03],\n",
       "       [3.06835085e-01],\n",
       "       [8.95921052e-01],\n",
       "       [2.24356353e-02],\n",
       "       [8.31938803e-01],\n",
       "       [9.53644514e-03],\n",
       "       [9.27388489e-01],\n",
       "       [9.30960774e-01],\n",
       "       [3.04222107e-03],\n",
       "       [8.49215031e-01],\n",
       "       [9.49107647e-01],\n",
       "       [4.29072946e-01],\n",
       "       [9.33830500e-01],\n",
       "       [7.57253289e-01],\n",
       "       [9.69035566e-01],\n",
       "       [8.14823031e-01],\n",
       "       [8.26908767e-01],\n",
       "       [7.82049298e-01],\n",
       "       [4.85587627e-01],\n",
       "       [2.72140265e-01],\n",
       "       [5.87129235e-01],\n",
       "       [5.70721328e-02],\n",
       "       [5.57419837e-01],\n",
       "       [1.11957490e-02],\n",
       "       [3.10224295e-03],\n",
       "       [4.09227669e-01],\n",
       "       [9.96467590e-01],\n",
       "       [1.55684054e-02],\n",
       "       [6.88780069e-01],\n",
       "       [7.12677836e-01],\n",
       "       [8.56158733e-02],\n",
       "       [1.61499470e-01],\n",
       "       [4.12995040e-01],\n",
       "       [8.52439642e-01],\n",
       "       [8.06698084e-01],\n",
       "       [4.28662330e-01],\n",
       "       [5.68603277e-02],\n",
       "       [8.97473037e-01],\n",
       "       [8.39841187e-01],\n",
       "       [7.65978813e-01],\n",
       "       [9.18810487e-01],\n",
       "       [1.20145619e-01],\n",
       "       [4.76442128e-01],\n",
       "       [9.21658874e-01],\n",
       "       [9.47865367e-01],\n",
       "       [9.21758115e-01],\n",
       "       [7.64218509e-01],\n",
       "       [8.71668339e-01],\n",
       "       [6.48453832e-03],\n",
       "       [7.40167439e-01],\n",
       "       [4.21258211e-02],\n",
       "       [2.01651454e-02],\n",
       "       [6.67222261e-01],\n",
       "       [9.62398648e-01],\n",
       "       [4.30246472e-01],\n",
       "       [6.40185654e-01],\n",
       "       [7.76818097e-01],\n",
       "       [8.64975929e-01],\n",
       "       [2.08639145e-01],\n",
       "       [5.10684013e-01],\n",
       "       [8.08817565e-01],\n",
       "       [3.13709557e-01],\n",
       "       [2.11607218e-02],\n",
       "       [8.87098789e-01],\n",
       "       [2.32606590e-01],\n",
       "       [6.12869203e-01],\n",
       "       [4.65130180e-01],\n",
       "       [1.02087051e-01],\n",
       "       [6.06745303e-01],\n",
       "       [3.48564744e-01],\n",
       "       [1.30042732e-02],\n",
       "       [9.17531848e-01],\n",
       "       [5.55433631e-01],\n",
       "       [4.87053782e-01],\n",
       "       [3.03196907e-03],\n",
       "       [3.88221443e-01],\n",
       "       [8.59445453e-01],\n",
       "       [2.90335417e-02],\n",
       "       [8.66332650e-01],\n",
       "       [9.11165476e-01],\n",
       "       [4.82816100e-01],\n",
       "       [9.79999006e-01],\n",
       "       [4.06781733e-01],\n",
       "       [5.33858359e-01],\n",
       "       [2.27775872e-01],\n",
       "       [2.29056329e-01],\n",
       "       [9.48158741e-01],\n",
       "       [9.89993691e-01],\n",
       "       [5.87281585e-02],\n",
       "       [9.65205491e-01],\n",
       "       [9.67423201e-01],\n",
       "       [1.19830281e-01],\n",
       "       [6.95831656e-01],\n",
       "       [6.18345141e-02],\n",
       "       [8.54404092e-01],\n",
       "       [7.79495001e-01],\n",
       "       [9.06020522e-01],\n",
       "       [8.04164886e-01],\n",
       "       [1.04463577e-01],\n",
       "       [8.13096762e-03],\n",
       "       [8.69692087e-01],\n",
       "       [6.32628858e-01],\n",
       "       [7.59388924e-01],\n",
       "       [7.30934143e-01],\n",
       "       [9.89195108e-01],\n",
       "       [5.68444014e-01],\n",
       "       [3.79546642e-01],\n",
       "       [9.04362082e-01],\n",
       "       [1.31322563e-01],\n",
       "       [1.00943744e-01],\n",
       "       [9.83360648e-01],\n",
       "       [4.98727143e-01],\n",
       "       [2.58986354e-02],\n",
       "       [8.04054737e-02],\n",
       "       [9.37663913e-01],\n",
       "       [3.93998146e-01],\n",
       "       [2.14528680e-01],\n",
       "       [7.66608834e-01],\n",
       "       [3.84366751e-01],\n",
       "       [1.23163164e-01],\n",
       "       [3.27689409e-01],\n",
       "       [4.47805554e-01],\n",
       "       [2.50789225e-02],\n",
       "       [6.41915977e-01],\n",
       "       [5.10688841e-01],\n",
       "       [1.46994978e-01],\n",
       "       [2.17903674e-01],\n",
       "       [8.78882229e-01],\n",
       "       [7.65013039e-01],\n",
       "       [2.85717010e-01],\n",
       "       [9.46201444e-01],\n",
       "       [1.47834212e-01],\n",
       "       [9.96711612e-01],\n",
       "       [9.03522968e-01],\n",
       "       [6.29683852e-01],\n",
       "       [1.79942846e-02],\n",
       "       [9.66374278e-01],\n",
       "       [6.43300951e-01],\n",
       "       [2.04704672e-01],\n",
       "       [2.62941420e-02],\n",
       "       [8.71648967e-01],\n",
       "       [9.66872334e-01],\n",
       "       [3.22401196e-01],\n",
       "       [5.14319718e-01],\n",
       "       [9.89766598e-01],\n",
       "       [7.49075294e-01],\n",
       "       [2.13273764e-01],\n",
       "       [9.22540307e-01],\n",
       "       [9.86234903e-01],\n",
       "       [5.73236465e-01],\n",
       "       [7.17243433e-01],\n",
       "       [1.97236300e-01],\n",
       "       [3.05080324e-01],\n",
       "       [6.71735108e-01],\n",
       "       [2.01676220e-01],\n",
       "       [2.10278332e-02],\n",
       "       [8.15491915e-01],\n",
       "       [2.15035677e-03],\n",
       "       [8.98726165e-01],\n",
       "       [9.77097273e-01],\n",
       "       [2.59111941e-01],\n",
       "       [9.33876634e-01],\n",
       "       [2.41861731e-01],\n",
       "       [6.16242111e-01],\n",
       "       [3.75818282e-01],\n",
       "       [5.34277260e-01],\n",
       "       [1.99047923e-02],\n",
       "       [7.73094058e-01],\n",
       "       [9.47641015e-01],\n",
       "       [3.41424346e-02],\n",
       "       [8.96545231e-01],\n",
       "       [6.81217790e-01],\n",
       "       [8.91864359e-01],\n",
       "       [2.58002579e-01],\n",
       "       [4.55079973e-02],\n",
       "       [9.89114404e-01],\n",
       "       [9.47052360e-01],\n",
       "       [5.89428902e-01],\n",
       "       [2.96810895e-01],\n",
       "       [3.62023711e-03],\n",
       "       [8.03313255e-01],\n",
       "       [1.36181414e-02],\n",
       "       [2.33289301e-02],\n",
       "       [7.82164931e-03],\n",
       "       [3.07341516e-02],\n",
       "       [8.81926239e-01],\n",
       "       [1.72353983e-02],\n",
       "       [9.77559268e-01],\n",
       "       [9.08736885e-01],\n",
       "       [2.18609750e-01],\n",
       "       [6.36377931e-03],\n",
       "       [3.01048934e-01],\n",
       "       [8.70911837e-01],\n",
       "       [8.28114629e-01],\n",
       "       [9.58283901e-01],\n",
       "       [7.80813396e-02],\n",
       "       [6.96264803e-01],\n",
       "       [5.51031709e-01],\n",
       "       [4.11867648e-01],\n",
       "       [9.42657709e-01],\n",
       "       [1.93015933e-02],\n",
       "       [8.88050437e-01],\n",
       "       [5.25238574e-01],\n",
       "       [1.97145641e-02],\n",
       "       [1.30094796e-01],\n",
       "       [2.00038165e-01],\n",
       "       [3.22747529e-02],\n",
       "       [7.53809988e-01],\n",
       "       [7.62095332e-01],\n",
       "       [7.06888616e-01],\n",
       "       [1.10207289e-01],\n",
       "       [3.85673851e-01],\n",
       "       [5.95235646e-01],\n",
       "       [5.99691987e-01],\n",
       "       [8.30985069e-01],\n",
       "       [9.76345062e-01],\n",
       "       [9.98978376e-01],\n",
       "       [7.38044441e-01],\n",
       "       [3.01785469e-02],\n",
       "       [8.31993937e-01],\n",
       "       [8.71900916e-01],\n",
       "       [7.52555728e-02],\n",
       "       [2.22138673e-01],\n",
       "       [9.89153624e-01],\n",
       "       [3.91440272e-01],\n",
       "       [8.43069971e-01],\n",
       "       [5.63502967e-01],\n",
       "       [8.07423532e-01],\n",
       "       [3.85319293e-02],\n",
       "       [3.67086500e-01],\n",
       "       [9.68625247e-01],\n",
       "       [8.98559809e-01],\n",
       "       [3.44386339e-01],\n",
       "       [9.73116398e-01],\n",
       "       [1.84819937e-01],\n",
       "       [3.28921378e-02],\n",
       "       [7.29735613e-01],\n",
       "       [7.30141521e-01],\n",
       "       [1.08348042e-01],\n",
       "       [9.84829128e-01],\n",
       "       [9.56799626e-01],\n",
       "       [8.31897259e-02],\n",
       "       [9.94559944e-01],\n",
       "       [7.98110366e-01],\n",
       "       [1.18648708e-02],\n",
       "       [9.36430931e-01],\n",
       "       [7.35861182e-01],\n",
       "       [2.46532559e-02],\n",
       "       [9.14741993e-01],\n",
       "       [9.66580451e-01],\n",
       "       [7.98577070e-03],\n",
       "       [3.27303827e-01],\n",
       "       [2.27776915e-01],\n",
       "       [5.62607646e-02],\n",
       "       [6.56903505e-01],\n",
       "       [8.77829134e-01],\n",
       "       [6.24457061e-01],\n",
       "       [4.38376486e-01],\n",
       "       [8.64704609e-01],\n",
       "       [6.65384889e-01],\n",
       "       [7.91843534e-01],\n",
       "       [2.01573670e-02],\n",
       "       [7.68489420e-01],\n",
       "       [2.45630443e-02],\n",
       "       [6.97116494e-01],\n",
       "       [8.72574568e-01],\n",
       "       [2.44521827e-01],\n",
       "       [8.63121748e-01],\n",
       "       [5.43172061e-01],\n",
       "       [6.32411540e-02],\n",
       "       [1.11175478e-02],\n",
       "       [7.49260187e-03],\n",
       "       [3.07044089e-01],\n",
       "       [3.74267399e-01],\n",
       "       [2.33092904e-03],\n",
       "       [8.70278716e-01],\n",
       "       [2.35783100e-01],\n",
       "       [5.81508577e-01],\n",
       "       [5.07200956e-01],\n",
       "       [8.87749195e-02],\n",
       "       [3.02280486e-01],\n",
       "       [7.01573372e-01],\n",
       "       [5.09764552e-02],\n",
       "       [2.89385170e-01],\n",
       "       [9.03834939e-01],\n",
       "       [5.12023628e-01],\n",
       "       [2.91108698e-01],\n",
       "       [1.74804479e-01],\n",
       "       [2.10070729e-01],\n",
       "       [6.99260831e-03],\n",
       "       [1.26124918e-02],\n",
       "       [9.71347928e-01],\n",
       "       [6.94745839e-01],\n",
       "       [5.30734658e-03],\n",
       "       [3.80556256e-01],\n",
       "       [9.52471137e-01],\n",
       "       [6.60484552e-01],\n",
       "       [8.19310188e-01],\n",
       "       [5.62811136e-01],\n",
       "       [7.10260272e-01],\n",
       "       [7.02311397e-01],\n",
       "       [8.06752145e-01],\n",
       "       [9.66603398e-01],\n",
       "       [4.98992771e-01],\n",
       "       [3.90318871e-01],\n",
       "       [4.63740617e-01],\n",
       "       [7.67751932e-01],\n",
       "       [6.94582164e-01],\n",
       "       [6.37596846e-03],\n",
       "       [2.95767188e-03],\n",
       "       [1.22325122e-01],\n",
       "       [5.12214959e-01],\n",
       "       [9.38350081e-01],\n",
       "       [9.38897133e-01],\n",
       "       [1.63015425e-02],\n",
       "       [9.67586696e-01],\n",
       "       [1.14971668e-01],\n",
       "       [1.14236474e-01],\n",
       "       [2.16971040e-02],\n",
       "       [3.81135941e-03],\n",
       "       [7.54639626e-01],\n",
       "       [6.95947111e-01],\n",
       "       [6.34630919e-02],\n",
       "       [2.90462375e-03],\n",
       "       [9.67693448e-01],\n",
       "       [9.45061445e-01],\n",
       "       [9.43407118e-01],\n",
       "       [9.73566413e-01],\n",
       "       [9.74840164e-01],\n",
       "       [4.49518204e-01],\n",
       "       [9.39516664e-01],\n",
       "       [8.13584208e-01],\n",
       "       [7.77105331e-01],\n",
       "       [7.91536570e-01],\n",
       "       [5.77524006e-02],\n",
       "       [7.21288621e-02],\n",
       "       [7.31599689e-01],\n",
       "       [1.27391905e-01],\n",
       "       [8.52444351e-01],\n",
       "       [8.41781378e-01],\n",
       "       [2.99386144e-01],\n",
       "       [6.51499987e-01],\n",
       "       [8.60045493e-01],\n",
       "       [8.42198014e-01],\n",
       "       [8.91121864e-01],\n",
       "       [9.59056318e-02],\n",
       "       [8.54735613e-01],\n",
       "       [4.77701247e-01],\n",
       "       [8.54899526e-01],\n",
       "       [4.64642942e-02],\n",
       "       [6.50749266e-01],\n",
       "       [9.16424394e-01],\n",
       "       [7.82550335e-01],\n",
       "       [7.64105678e-01],\n",
       "       [8.24629188e-01],\n",
       "       [6.23100996e-03],\n",
       "       [9.91753578e-01],\n",
       "       [6.90120220e-01],\n",
       "       [4.83168364e-02],\n",
       "       [5.71006715e-01],\n",
       "       [1.83072031e-01]], dtype=float32)"
      ]
     },
     "execution_count": 68,
     "metadata": {},
     "output_type": "execute_result"
    }
   ],
   "source": [
    "yp=model.predict(x_test)\n",
    "yp"
   ]
  },
  {
   "cell_type": "code",
   "execution_count": 69,
   "metadata": {},
   "outputs": [],
   "source": [
    "y_pred=[]\n",
    "for element in yp:\n",
    "    if element>0.5:\n",
    "        y_pred.append(1)\n",
    "    else:\n",
    "        y_pred.append(0)"
   ]
  },
  {
   "cell_type": "code",
   "execution_count": 70,
   "metadata": {},
   "outputs": [
    {
     "name": "stdout",
     "output_type": "stream",
     "text": [
      "              precision    recall  f1-score   support\n",
      "\n",
      "           0       0.79      0.70      0.74       374\n",
      "           1       0.73      0.81      0.77       374\n",
      "\n",
      "    accuracy                           0.75       748\n",
      "   macro avg       0.76      0.75      0.75       748\n",
      "weighted avg       0.76      0.75      0.75       748\n",
      "\n"
     ]
    }
   ],
   "source": [
    "from sklearn.metrics import confusion_matrix,classification_report\n",
    "print(classification_report(y_test,y_pred))"
   ]
  },
  {
   "cell_type": "markdown",
   "metadata": {},
   "source": [
    "We can see our f1 score is now almost same 0.74 & 0.77. So, our data & model is almost balanced."
   ]
  },
  {
   "cell_type": "markdown",
   "metadata": {},
   "source": [
    "## 2. Oversampling minority class"
   ]
  },
  {
   "cell_type": "code",
   "execution_count": 72,
   "metadata": {},
   "outputs": [
    {
     "data": {
      "text/plain": [
       "(5163, 1869)"
      ]
     },
     "execution_count": 72,
     "metadata": {},
     "output_type": "execute_result"
    }
   ],
   "source": [
    "count_class_0, count_class_1"
   ]
  },
  {
   "cell_type": "code",
   "execution_count": 81,
   "metadata": {},
   "outputs": [
    {
     "data": {
      "text/plain": [
       "(5163, 27)"
      ]
     },
     "execution_count": 81,
     "metadata": {},
     "output_type": "execute_result"
    }
   ],
   "source": [
    "#Oversampling 1869 to 5163 samples by using argument replace=True in sample function\n",
    "df_class_1_over=df_class_1.sample(count_class_0,replace=True)\n",
    "df_class_1_over.shape"
   ]
  },
  {
   "cell_type": "code",
   "execution_count": 85,
   "metadata": {},
   "outputs": [
    {
     "data": {
      "text/plain": [
       "(10326, 27)"
      ]
     },
     "execution_count": 85,
     "metadata": {},
     "output_type": "execute_result"
    }
   ],
   "source": [
    "df_test_over=pd.concat([df_class_0,df_class_1_over],axis=0)\n",
    "df_test_over.shape"
   ]
  },
  {
   "cell_type": "code",
   "execution_count": 86,
   "metadata": {},
   "outputs": [
    {
     "data": {
      "text/plain": [
       "1    5163\n",
       "0    5163\n",
       "Name: Churn, dtype: int64"
      ]
     },
     "execution_count": 86,
     "metadata": {},
     "output_type": "execute_result"
    }
   ],
   "source": [
    "df_test_over.Churn.value_counts()"
   ]
  },
  {
   "cell_type": "code",
   "execution_count": 89,
   "metadata": {},
   "outputs": [],
   "source": [
    "x=df_test_over.drop('Churn',axis=1)\n",
    "y=df_test_over['Churn']\n",
    "\n",
    "\n",
    "x_train,x_test,y_train,y_test=train_test_split(x,y,random_state=15,test_size=0.2,stratify=y)"
   ]
  },
  {
   "cell_type": "code",
   "execution_count": 91,
   "metadata": {},
   "outputs": [
    {
     "name": "stdout",
     "output_type": "stream",
     "text": [
      "Epoch 1/100\n",
      "259/259 [==============================] - 0s 605us/step - loss: 0.5496 - accuracy: 0.7264\n",
      "Epoch 2/100\n",
      "259/259 [==============================] - 0s 584us/step - loss: 0.4890 - accuracy: 0.7651\n",
      "Epoch 3/100\n",
      "259/259 [==============================] - 0s 532us/step - loss: 0.4799 - accuracy: 0.7689\n",
      "Epoch 4/100\n",
      "259/259 [==============================] - 0s 592us/step - loss: 0.4749 - accuracy: 0.7713\n",
      "Epoch 5/100\n",
      "259/259 [==============================] - 0s 602us/step - loss: 0.4724 - accuracy: 0.7763\n",
      "Epoch 6/100\n",
      "259/259 [==============================] - 0s 582us/step - loss: 0.4681 - accuracy: 0.7776\n",
      "Epoch 7/100\n",
      "259/259 [==============================] - 0s 644us/step - loss: 0.4653 - accuracy: 0.7810\n",
      "Epoch 8/100\n",
      "259/259 [==============================] - 0s 568us/step - loss: 0.4625 - accuracy: 0.7809\n",
      "Epoch 9/100\n",
      "259/259 [==============================] - 0s 509us/step - loss: 0.4602 - accuracy: 0.7822\n",
      "Epoch 10/100\n",
      "259/259 [==============================] - 0s 529us/step - loss: 0.4571 - accuracy: 0.7821\n",
      "Epoch 11/100\n",
      "259/259 [==============================] - 0s 544us/step - loss: 0.4543 - accuracy: 0.7857\n",
      "Epoch 12/100\n",
      "259/259 [==============================] - 0s 562us/step - loss: 0.4532 - accuracy: 0.7851\n",
      "Epoch 13/100\n",
      "259/259 [==============================] - 0s 557us/step - loss: 0.4498 - accuracy: 0.7901\n",
      "Epoch 14/100\n",
      "259/259 [==============================] - 0s 548us/step - loss: 0.4469 - accuracy: 0.7927\n",
      "Epoch 15/100\n",
      "259/259 [==============================] - 0s 578us/step - loss: 0.4437 - accuracy: 0.7906\n",
      "Epoch 16/100\n",
      "259/259 [==============================] - 0s 576us/step - loss: 0.4423 - accuracy: 0.7946\n",
      "Epoch 17/100\n",
      "259/259 [==============================] - 0s 556us/step - loss: 0.4389 - accuracy: 0.7954\n",
      "Epoch 18/100\n",
      "259/259 [==============================] - 0s 542us/step - loss: 0.4379 - accuracy: 0.7976\n",
      "Epoch 19/100\n",
      "259/259 [==============================] - 0s 549us/step - loss: 0.4362 - accuracy: 0.7978\n",
      "Epoch 20/100\n",
      "259/259 [==============================] - 0s 525us/step - loss: 0.4327 - accuracy: 0.7996\n",
      "Epoch 21/100\n",
      "259/259 [==============================] - 0s 535us/step - loss: 0.4308 - accuracy: 0.8019\n",
      "Epoch 22/100\n",
      "259/259 [==============================] - 0s 614us/step - loss: 0.4296 - accuracy: 0.8008\n",
      "Epoch 23/100\n",
      "259/259 [==============================] - 0s 613us/step - loss: 0.4277 - accuracy: 0.8000\n",
      "Epoch 24/100\n",
      "259/259 [==============================] - 0s 559us/step - loss: 0.4264 - accuracy: 0.8008\n",
      "Epoch 25/100\n",
      "259/259 [==============================] - 0s 606us/step - loss: 0.4246 - accuracy: 0.8062\n",
      "Epoch 26/100\n",
      "259/259 [==============================] - 0s 579us/step - loss: 0.4236 - accuracy: 0.8045\n",
      "Epoch 27/100\n",
      "259/259 [==============================] - 0s 595us/step - loss: 0.4212 - accuracy: 0.8056\n",
      "Epoch 28/100\n",
      "259/259 [==============================] - 0s 576us/step - loss: 0.4200 - accuracy: 0.8079\n",
      "Epoch 29/100\n",
      "259/259 [==============================] - 0s 577us/step - loss: 0.4172 - accuracy: 0.8075\n",
      "Epoch 30/100\n",
      "259/259 [==============================] - 0s 646us/step - loss: 0.4157 - accuracy: 0.8070\n",
      "Epoch 31/100\n",
      "259/259 [==============================] - 0s 600us/step - loss: 0.4136 - accuracy: 0.8080\n",
      "Epoch 32/100\n",
      "259/259 [==============================] - 0s 580us/step - loss: 0.4138 - accuracy: 0.8084\n",
      "Epoch 33/100\n",
      "259/259 [==============================] - 0s 606us/step - loss: 0.4123 - accuracy: 0.8127\n",
      "Epoch 34/100\n",
      "259/259 [==============================] - 0s 551us/step - loss: 0.4108 - accuracy: 0.8108\n",
      "Epoch 35/100\n",
      "259/259 [==============================] - 0s 563us/step - loss: 0.4093 - accuracy: 0.8102\n",
      "Epoch 36/100\n",
      "259/259 [==============================] - 0s 508us/step - loss: 0.4081 - accuracy: 0.8132\n",
      "Epoch 37/100\n",
      "259/259 [==============================] - 0s 551us/step - loss: 0.4081 - accuracy: 0.8093\n",
      "Epoch 38/100\n",
      "259/259 [==============================] - 0s 608us/step - loss: 0.4054 - accuracy: 0.8136\n",
      "Epoch 39/100\n",
      "259/259 [==============================] - 0s 565us/step - loss: 0.4059 - accuracy: 0.8126\n",
      "Epoch 40/100\n",
      "259/259 [==============================] - 0s 552us/step - loss: 0.4027 - accuracy: 0.8166\n",
      "Epoch 41/100\n",
      "259/259 [==============================] - 0s 570us/step - loss: 0.4019 - accuracy: 0.8136\n",
      "Epoch 42/100\n",
      "259/259 [==============================] - 0s 557us/step - loss: 0.4015 - accuracy: 0.8165\n",
      "Epoch 43/100\n",
      "259/259 [==============================] - 0s 541us/step - loss: 0.4004 - accuracy: 0.8165\n",
      "Epoch 44/100\n",
      "259/259 [==============================] - 0s 527us/step - loss: 0.3997 - accuracy: 0.8178\n",
      "Epoch 45/100\n",
      "259/259 [==============================] - 0s 532us/step - loss: 0.3976 - accuracy: 0.8211\n",
      "Epoch 46/100\n",
      "259/259 [==============================] - 0s 537us/step - loss: 0.3958 - accuracy: 0.8205\n",
      "Epoch 47/100\n",
      "259/259 [==============================] - 0s 551us/step - loss: 0.3960 - accuracy: 0.8223\n",
      "Epoch 48/100\n",
      "259/259 [==============================] - 0s 566us/step - loss: 0.3963 - accuracy: 0.8188\n",
      "Epoch 49/100\n",
      "259/259 [==============================] - 0s 576us/step - loss: 0.3952 - accuracy: 0.8224\n",
      "Epoch 50/100\n",
      "259/259 [==============================] - 0s 550us/step - loss: 0.3951 - accuracy: 0.8177\n",
      "Epoch 51/100\n",
      "259/259 [==============================] - 0s 605us/step - loss: 0.3921 - accuracy: 0.8228\n",
      "Epoch 52/100\n",
      "259/259 [==============================] - 0s 597us/step - loss: 0.3917 - accuracy: 0.8214\n",
      "Epoch 53/100\n",
      "259/259 [==============================] - 0s 577us/step - loss: 0.3915 - accuracy: 0.8231\n",
      "Epoch 54/100\n",
      "259/259 [==============================] - 0s 575us/step - loss: 0.3908 - accuracy: 0.8234\n",
      "Epoch 55/100\n",
      "259/259 [==============================] - 0s 593us/step - loss: 0.3901 - accuracy: 0.8223\n",
      "Epoch 56/100\n",
      "259/259 [==============================] - 0s 612us/step - loss: 0.3875 - accuracy: 0.8272\n",
      "Epoch 57/100\n",
      "259/259 [==============================] - 0s 603us/step - loss: 0.3901 - accuracy: 0.8218\n",
      "Epoch 58/100\n",
      "259/259 [==============================] - 0s 634us/step - loss: 0.3870 - accuracy: 0.8245\n",
      "Epoch 59/100\n",
      "259/259 [==============================] - 0s 617us/step - loss: 0.3873 - accuracy: 0.8258\n",
      "Epoch 60/100\n",
      "259/259 [==============================] - 0s 581us/step - loss: 0.3856 - accuracy: 0.8240\n",
      "Epoch 61/100\n",
      "259/259 [==============================] - 0s 623us/step - loss: 0.3843 - accuracy: 0.8268\n",
      "Epoch 62/100\n",
      "259/259 [==============================] - 0s 586us/step - loss: 0.3841 - accuracy: 0.8285\n",
      "Epoch 63/100\n",
      "259/259 [==============================] - 0s 577us/step - loss: 0.3821 - accuracy: 0.8288\n",
      "Epoch 64/100\n",
      "259/259 [==============================] - 0s 562us/step - loss: 0.3833 - accuracy: 0.8280\n",
      "Epoch 65/100\n",
      "259/259 [==============================] - 0s 557us/step - loss: 0.3810 - accuracy: 0.8305\n",
      "Epoch 66/100\n",
      "259/259 [==============================] - 0s 547us/step - loss: 0.3826 - accuracy: 0.8240\n",
      "Epoch 67/100\n",
      "259/259 [==============================] - 0s 567us/step - loss: 0.3806 - accuracy: 0.8303\n",
      "Epoch 68/100\n",
      "259/259 [==============================] - 0s 539us/step - loss: 0.3794 - accuracy: 0.8278\n",
      "Epoch 69/100\n",
      "259/259 [==============================] - 0s 546us/step - loss: 0.3797 - accuracy: 0.8275\n",
      "Epoch 70/100\n",
      "259/259 [==============================] - 0s 561us/step - loss: 0.3781 - accuracy: 0.8287\n",
      "Epoch 71/100\n",
      "259/259 [==============================] - 0s 558us/step - loss: 0.3777 - accuracy: 0.8292\n",
      "Epoch 72/100\n",
      "259/259 [==============================] - 0s 579us/step - loss: 0.3784 - accuracy: 0.8300\n",
      "Epoch 73/100\n",
      "259/259 [==============================] - 0s 563us/step - loss: 0.3764 - accuracy: 0.8312\n",
      "Epoch 74/100\n",
      "259/259 [==============================] - 0s 563us/step - loss: 0.3767 - accuracy: 0.8311\n",
      "Epoch 75/100\n",
      "259/259 [==============================] - 0s 546us/step - loss: 0.3746 - accuracy: 0.8309\n",
      "Epoch 76/100\n",
      "259/259 [==============================] - 0s 542us/step - loss: 0.3739 - accuracy: 0.8335\n",
      "Epoch 77/100\n",
      "259/259 [==============================] - 0s 584us/step - loss: 0.3751 - accuracy: 0.8329\n",
      "Epoch 78/100\n",
      "259/259 [==============================] - 0s 551us/step - loss: 0.3718 - accuracy: 0.8349\n",
      "Epoch 79/100\n"
     ]
    },
    {
     "name": "stdout",
     "output_type": "stream",
     "text": [
      "259/259 [==============================] - 0s 572us/step - loss: 0.3727 - accuracy: 0.8316\n",
      "Epoch 80/100\n",
      "259/259 [==============================] - 0s 594us/step - loss: 0.3735 - accuracy: 0.8323\n",
      "Epoch 81/100\n",
      "259/259 [==============================] - 0s 547us/step - loss: 0.3719 - accuracy: 0.8345\n",
      "Epoch 82/100\n",
      "259/259 [==============================] - 0s 575us/step - loss: 0.3717 - accuracy: 0.8324\n",
      "Epoch 83/100\n",
      "259/259 [==============================] - 0s 541us/step - loss: 0.3695 - accuracy: 0.8321\n",
      "Epoch 84/100\n",
      "259/259 [==============================] - 0s 562us/step - loss: 0.3688 - accuracy: 0.8349\n",
      "Epoch 85/100\n",
      "259/259 [==============================] - 0s 532us/step - loss: 0.3691 - accuracy: 0.8350\n",
      "Epoch 86/100\n",
      "259/259 [==============================] - 0s 539us/step - loss: 0.3682 - accuracy: 0.8356\n",
      "Epoch 87/100\n",
      "259/259 [==============================] - 0s 555us/step - loss: 0.3672 - accuracy: 0.8350\n",
      "Epoch 88/100\n",
      "259/259 [==============================] - 0s 530us/step - loss: 0.3685 - accuracy: 0.8356\n",
      "Epoch 89/100\n",
      "259/259 [==============================] - 0s 649us/step - loss: 0.3670 - accuracy: 0.8343\n",
      "Epoch 90/100\n",
      "259/259 [==============================] - 0s 568us/step - loss: 0.3654 - accuracy: 0.8367\n",
      "Epoch 91/100\n",
      "259/259 [==============================] - 0s 513us/step - loss: 0.3652 - accuracy: 0.8369\n",
      "Epoch 92/100\n",
      "259/259 [==============================] - 0s 572us/step - loss: 0.3667 - accuracy: 0.8386\n",
      "Epoch 93/100\n",
      "259/259 [==============================] - 0s 559us/step - loss: 0.3652 - accuracy: 0.8380\n",
      "Epoch 94/100\n",
      "259/259 [==============================] - 0s 510us/step - loss: 0.3631 - accuracy: 0.8403\n",
      "Epoch 95/100\n",
      "259/259 [==============================] - 0s 552us/step - loss: 0.3634 - accuracy: 0.8383\n",
      "Epoch 96/100\n",
      "259/259 [==============================] - 0s 525us/step - loss: 0.3639 - accuracy: 0.8397\n",
      "Epoch 97/100\n",
      "259/259 [==============================] - 0s 528us/step - loss: 0.3652 - accuracy: 0.8366\n",
      "Epoch 98/100\n",
      "259/259 [==============================] - 0s 554us/step - loss: 0.3629 - accuracy: 0.8370\n",
      "Epoch 99/100\n",
      "259/259 [==============================] - 0s 573us/step - loss: 0.3618 - accuracy: 0.8407\n",
      "Epoch 100/100\n",
      "259/259 [==============================] - 0s 574us/step - loss: 0.3626 - accuracy: 0.8426\n"
     ]
    },
    {
     "data": {
      "text/plain": [
       "<tensorflow.python.keras.callbacks.History at 0x20885a44070>"
      ]
     },
     "execution_count": 91,
     "metadata": {},
     "output_type": "execute_result"
    }
   ],
   "source": [
    "model=keras.Sequential([\n",
    "    keras.layers.Dense(26,input_shape=(26,),activation='relu'),\n",
    "    keras.layers.Dense(15,activation='relu'),\n",
    "    keras.layers.Dense(1,activation='sigmoid')\n",
    "])\n",
    "\n",
    "model.compile(optimizer='adam',loss='binary_crossentropy',metrics=['accuracy'])\n",
    "\n",
    "model.fit(x_train,y_train,epochs=100)"
   ]
  },
  {
   "cell_type": "code",
   "execution_count": 95,
   "metadata": {},
   "outputs": [],
   "source": [
    "yp=model.predict(x_test)"
   ]
  },
  {
   "cell_type": "code",
   "execution_count": 96,
   "metadata": {},
   "outputs": [],
   "source": [
    "y_pred=[]\n",
    "for element in yp:\n",
    "    if element>0.5:\n",
    "        y_pred.append(1)\n",
    "    else:\n",
    "        y_pred.append(0)"
   ]
  },
  {
   "cell_type": "code",
   "execution_count": 97,
   "metadata": {},
   "outputs": [
    {
     "name": "stdout",
     "output_type": "stream",
     "text": [
      "              precision    recall  f1-score   support\n",
      "\n",
      "           0       0.82      0.71      0.76      1033\n",
      "           1       0.75      0.85      0.79      1033\n",
      "\n",
      "    accuracy                           0.78      2066\n",
      "   macro avg       0.79      0.78      0.78      2066\n",
      "weighted avg       0.79      0.78      0.78      2066\n",
      "\n"
     ]
    }
   ],
   "source": [
    "from sklearn.metrics import confusion_matrix,classification_report\n",
    "print(classification_report(y_test,y_pred))"
   ]
  },
  {
   "cell_type": "markdown",
   "metadata": {},
   "source": [
    "We can see our f1 score is now almost same 0.76 & 0.79. So, our data & model is almost balanced."
   ]
  },
  {
   "cell_type": "markdown",
   "metadata": {},
   "source": [
    "## 3.SMOTE"
   ]
  },
  {
   "cell_type": "code",
   "execution_count": 107,
   "metadata": {},
   "outputs": [],
   "source": [
    "from imblearn.over_sampling import SMOTE\n"
   ]
  },
  {
   "cell_type": "code",
   "execution_count": 108,
   "metadata": {},
   "outputs": [
    {
     "data": {
      "text/plain": [
       "0    5163\n",
       "1    1869\n",
       "Name: Churn, dtype: int64"
      ]
     },
     "execution_count": 108,
     "metadata": {},
     "output_type": "execute_result"
    }
   ],
   "source": [
    "x=df2.drop('Churn',axis=1)\n",
    "y=df2['Churn']\n",
    "\n",
    "y.value_counts()"
   ]
  },
  {
   "cell_type": "code",
   "execution_count": 115,
   "metadata": {},
   "outputs": [
    {
     "data": {
      "text/plain": [
       "(10326, 26)"
      ]
     },
     "execution_count": 115,
     "metadata": {},
     "output_type": "execute_result"
    }
   ],
   "source": [
    "smote = SMOTE(sampling_strategy='minority')\n",
    "x_sm, y_sm = smote.fit_resample(x, y)\n",
    "\n",
    "y_sm.value_counts()"
   ]
  },
  {
   "cell_type": "code",
   "execution_count": 116,
   "metadata": {},
   "outputs": [],
   "source": [
    "x_train,x_test,y_train,y_test=train_test_split(x_sm,y_sm,random_state=15,test_size=0.2,stratify=y_sm)"
   ]
  },
  {
   "cell_type": "code",
   "execution_count": 117,
   "metadata": {},
   "outputs": [
    {
     "name": "stdout",
     "output_type": "stream",
     "text": [
      "Epoch 1/100\n",
      "259/259 [==============================] - 0s 580us/step - loss: 0.5527 - accuracy: 0.7167\n",
      "Epoch 2/100\n",
      "259/259 [==============================] - 0s 515us/step - loss: 0.4662 - accuracy: 0.7794\n",
      "Epoch 3/100\n",
      "259/259 [==============================] - 0s 539us/step - loss: 0.4562 - accuracy: 0.7855\n",
      "Epoch 4/100\n",
      "259/259 [==============================] - 0s 591us/step - loss: 0.4501 - accuracy: 0.7885\n",
      "Epoch 5/100\n",
      "259/259 [==============================] - 0s 591us/step - loss: 0.4457 - accuracy: 0.7926\n",
      "Epoch 6/100\n",
      "259/259 [==============================] - 0s 551us/step - loss: 0.4413 - accuracy: 0.7931\n",
      "Epoch 7/100\n",
      "259/259 [==============================] - 0s 548us/step - loss: 0.4368 - accuracy: 0.7977\n",
      "Epoch 8/100\n",
      "259/259 [==============================] - 0s 528us/step - loss: 0.4346 - accuracy: 0.7996\n",
      "Epoch 9/100\n",
      "259/259 [==============================] - 0s 569us/step - loss: 0.4304 - accuracy: 0.8006\n",
      "Epoch 10/100\n",
      "259/259 [==============================] - 0s 523us/step - loss: 0.4289 - accuracy: 0.8019\n",
      "Epoch 11/100\n",
      "259/259 [==============================] - 0s 598us/step - loss: 0.4246 - accuracy: 0.8085\n",
      "Epoch 12/100\n",
      "259/259 [==============================] - 0s 537us/step - loss: 0.4215 - accuracy: 0.8096\n",
      "Epoch 13/100\n",
      "259/259 [==============================] - 0s 524us/step - loss: 0.4192 - accuracy: 0.8119\n",
      "Epoch 14/100\n",
      "259/259 [==============================] - 0s 535us/step - loss: 0.4168 - accuracy: 0.8123\n",
      "Epoch 15/100\n",
      "259/259 [==============================] - 0s 548us/step - loss: 0.4143 - accuracy: 0.8130\n",
      "Epoch 16/100\n",
      "259/259 [==============================] - 0s 564us/step - loss: 0.4126 - accuracy: 0.8143\n",
      "Epoch 17/100\n",
      "259/259 [==============================] - 0s 654us/step - loss: 0.4094 - accuracy: 0.8173\n",
      "Epoch 18/100\n",
      "259/259 [==============================] - 0s 561us/step - loss: 0.4088 - accuracy: 0.8173\n",
      "Epoch 19/100\n",
      "259/259 [==============================] - 0s 602us/step - loss: 0.4055 - accuracy: 0.8213\n",
      "Epoch 20/100\n",
      "259/259 [==============================] - 0s 609us/step - loss: 0.4055 - accuracy: 0.8173\n",
      "Epoch 21/100\n",
      "259/259 [==============================] - 0s 536us/step - loss: 0.4018 - accuracy: 0.8180\n",
      "Epoch 22/100\n",
      "259/259 [==============================] - 0s 610us/step - loss: 0.3999 - accuracy: 0.8213\n",
      "Epoch 23/100\n",
      "259/259 [==============================] - 0s 584us/step - loss: 0.3991 - accuracy: 0.8208\n",
      "Epoch 24/100\n",
      "259/259 [==============================] - 0s 568us/step - loss: 0.3987 - accuracy: 0.8211\n",
      "Epoch 25/100\n",
      "259/259 [==============================] - 0s 539us/step - loss: 0.3952 - accuracy: 0.8258\n",
      "Epoch 26/100\n",
      "259/259 [==============================] - 0s 545us/step - loss: 0.3936 - accuracy: 0.8230\n",
      "Epoch 27/100\n",
      "259/259 [==============================] - 0s 547us/step - loss: 0.3913 - accuracy: 0.8263\n",
      "Epoch 28/100\n",
      "259/259 [==============================] - 0s 543us/step - loss: 0.3915 - accuracy: 0.8242\n",
      "Epoch 29/100\n",
      "259/259 [==============================] - 0s 546us/step - loss: 0.3895 - accuracy: 0.8270\n",
      "Epoch 30/100\n",
      "259/259 [==============================] - 0s 553us/step - loss: 0.3867 - accuracy: 0.8264\n",
      "Epoch 31/100\n",
      "259/259 [==============================] - 0s 554us/step - loss: 0.3854 - accuracy: 0.8301\n",
      "Epoch 32/100\n",
      "259/259 [==============================] - 0s 520us/step - loss: 0.3848 - accuracy: 0.8293\n",
      "Epoch 33/100\n",
      "259/259 [==============================] - 0s 560us/step - loss: 0.3841 - accuracy: 0.8280\n",
      "Epoch 34/100\n",
      "259/259 [==============================] - 0s 561us/step - loss: 0.3820 - accuracy: 0.8299\n",
      "Epoch 35/100\n",
      "259/259 [==============================] - 0s 493us/step - loss: 0.3806 - accuracy: 0.8322\n",
      "Epoch 36/100\n",
      "259/259 [==============================] - 0s 580us/step - loss: 0.3799 - accuracy: 0.8352\n",
      "Epoch 37/100\n",
      "259/259 [==============================] - 0s 556us/step - loss: 0.3790 - accuracy: 0.8310\n",
      "Epoch 38/100\n",
      "259/259 [==============================] - 0s 547us/step - loss: 0.3798 - accuracy: 0.8317\n",
      "Epoch 39/100\n",
      "259/259 [==============================] - 0s 571us/step - loss: 0.3773 - accuracy: 0.8314\n",
      "Epoch 40/100\n",
      "259/259 [==============================] - 0s 543us/step - loss: 0.3758 - accuracy: 0.8337\n",
      "Epoch 41/100\n",
      "259/259 [==============================] - 0s 508us/step - loss: 0.3734 - accuracy: 0.8345\n",
      "Epoch 42/100\n",
      "259/259 [==============================] - 0s 522us/step - loss: 0.3722 - accuracy: 0.8368\n",
      "Epoch 43/100\n",
      "259/259 [==============================] - 0s 534us/step - loss: 0.3718 - accuracy: 0.8356\n",
      "Epoch 44/100\n",
      "259/259 [==============================] - 0s 563us/step - loss: 0.3721 - accuracy: 0.8354\n",
      "Epoch 45/100\n",
      "259/259 [==============================] - 0s 531us/step - loss: 0.3714 - accuracy: 0.8358\n",
      "Epoch 46/100\n",
      "259/259 [==============================] - 0s 531us/step - loss: 0.3708 - accuracy: 0.8362\n",
      "Epoch 47/100\n",
      "259/259 [==============================] - 0s 546us/step - loss: 0.3691 - accuracy: 0.8380\n",
      "Epoch 48/100\n",
      "259/259 [==============================] - 0s 545us/step - loss: 0.3680 - accuracy: 0.8381\n",
      "Epoch 49/100\n",
      "259/259 [==============================] - 0s 547us/step - loss: 0.3679 - accuracy: 0.8379\n",
      "Epoch 50/100\n",
      "259/259 [==============================] - 0s 545us/step - loss: 0.3664 - accuracy: 0.8412\n",
      "Epoch 51/100\n",
      "259/259 [==============================] - 0s 552us/step - loss: 0.3651 - accuracy: 0.8378\n",
      "Epoch 52/100\n",
      "259/259 [==============================] - 0s 548us/step - loss: 0.3662 - accuracy: 0.8352\n",
      "Epoch 53/100\n",
      "259/259 [==============================] - 0s 511us/step - loss: 0.3647 - accuracy: 0.8393\n",
      "Epoch 54/100\n",
      "259/259 [==============================] - 0s 536us/step - loss: 0.3652 - accuracy: 0.8383\n",
      "Epoch 55/100\n",
      "259/259 [==============================] - 0s 535us/step - loss: 0.3641 - accuracy: 0.8357\n",
      "Epoch 56/100\n",
      "259/259 [==============================] - 0s 562us/step - loss: 0.3620 - accuracy: 0.8424\n",
      "Epoch 57/100\n",
      "259/259 [==============================] - 0s 539us/step - loss: 0.3611 - accuracy: 0.8419\n",
      "Epoch 58/100\n",
      "259/259 [==============================] - 0s 572us/step - loss: 0.3636 - accuracy: 0.8407\n",
      "Epoch 59/100\n",
      "259/259 [==============================] - 0s 488us/step - loss: 0.3628 - accuracy: 0.8403\n",
      "Epoch 60/100\n",
      "259/259 [==============================] - 0s 542us/step - loss: 0.3611 - accuracy: 0.8416\n",
      "Epoch 61/100\n",
      "259/259 [==============================] - 0s 544us/step - loss: 0.3612 - accuracy: 0.8410\n",
      "Epoch 62/100\n",
      "259/259 [==============================] - 0s 541us/step - loss: 0.3591 - accuracy: 0.8436\n",
      "Epoch 63/100\n",
      "259/259 [==============================] - 0s 533us/step - loss: 0.3584 - accuracy: 0.8392\n",
      "Epoch 64/100\n",
      "259/259 [==============================] - 0s 555us/step - loss: 0.3557 - accuracy: 0.8435\n",
      "Epoch 65/100\n",
      "259/259 [==============================] - 0s 516us/step - loss: 0.3579 - accuracy: 0.8437\n",
      "Epoch 66/100\n",
      "259/259 [==============================] - 0s 547us/step - loss: 0.3564 - accuracy: 0.8421\n",
      "Epoch 67/100\n",
      "259/259 [==============================] - 0s 525us/step - loss: 0.3545 - accuracy: 0.8432\n",
      "Epoch 68/100\n",
      "259/259 [==============================] - 0s 537us/step - loss: 0.3559 - accuracy: 0.8424\n",
      "Epoch 69/100\n",
      "259/259 [==============================] - 0s 553us/step - loss: 0.3545 - accuracy: 0.8442\n",
      "Epoch 70/100\n",
      "259/259 [==============================] - 0s 522us/step - loss: 0.3548 - accuracy: 0.8466\n",
      "Epoch 71/100\n",
      "259/259 [==============================] - 0s 541us/step - loss: 0.3525 - accuracy: 0.8454\n",
      "Epoch 72/100\n",
      "259/259 [==============================] - 0s 551us/step - loss: 0.3533 - accuracy: 0.8447\n",
      "Epoch 73/100\n",
      "259/259 [==============================] - 0s 518us/step - loss: 0.3518 - accuracy: 0.8453\n",
      "Epoch 74/100\n",
      "259/259 [==============================] - 0s 532us/step - loss: 0.3504 - accuracy: 0.8476\n",
      "Epoch 75/100\n",
      "259/259 [==============================] - 0s 547us/step - loss: 0.3502 - accuracy: 0.8464\n",
      "Epoch 76/100\n",
      "259/259 [==============================] - 0s 563us/step - loss: 0.3505 - accuracy: 0.8455\n",
      "Epoch 77/100\n",
      "259/259 [==============================] - 0s 492us/step - loss: 0.3491 - accuracy: 0.8461\n",
      "Epoch 78/100\n",
      "259/259 [==============================] - 0s 548us/step - loss: 0.3498 - accuracy: 0.8462\n",
      "Epoch 79/100\n"
     ]
    },
    {
     "name": "stdout",
     "output_type": "stream",
     "text": [
      "259/259 [==============================] - 0s 538us/step - loss: 0.3471 - accuracy: 0.8462\n",
      "Epoch 80/100\n",
      "259/259 [==============================] - 0s 538us/step - loss: 0.3484 - accuracy: 0.8450\n",
      "Epoch 81/100\n",
      "259/259 [==============================] - 0s 513us/step - loss: 0.3485 - accuracy: 0.8471\n",
      "Epoch 82/100\n",
      "259/259 [==============================] - 0s 528us/step - loss: 0.3454 - accuracy: 0.8483\n",
      "Epoch 83/100\n",
      "259/259 [==============================] - 0s 529us/step - loss: 0.3461 - accuracy: 0.8492\n",
      "Epoch 84/100\n",
      "259/259 [==============================] - 0s 534us/step - loss: 0.3460 - accuracy: 0.8481\n",
      "Epoch 85/100\n",
      "259/259 [==============================] - 0s 522us/step - loss: 0.3456 - accuracy: 0.8499\n",
      "Epoch 86/100\n",
      "259/259 [==============================] - 0s 552us/step - loss: 0.3424 - accuracy: 0.8496\n",
      "Epoch 87/100\n",
      "259/259 [==============================] - 0s 535us/step - loss: 0.3430 - accuracy: 0.8515\n",
      "Epoch 88/100\n",
      "259/259 [==============================] - 0s 530us/step - loss: 0.3429 - accuracy: 0.8492\n",
      "Epoch 89/100\n",
      "259/259 [==============================] - 0s 548us/step - loss: 0.3426 - accuracy: 0.8496\n",
      "Epoch 90/100\n",
      "259/259 [==============================] - 0s 502us/step - loss: 0.3424 - accuracy: 0.8487\n",
      "Epoch 91/100\n",
      "259/259 [==============================] - 0s 529us/step - loss: 0.3411 - accuracy: 0.8484\n",
      "Epoch 92/100\n",
      "259/259 [==============================] - 0s 547us/step - loss: 0.3413 - accuracy: 0.8508\n",
      "Epoch 93/100\n",
      "259/259 [==============================] - 0s 513us/step - loss: 0.3393 - accuracy: 0.8531\n",
      "Epoch 94/100\n",
      "259/259 [==============================] - 0s 502us/step - loss: 0.3407 - accuracy: 0.8478\n",
      "Epoch 95/100\n",
      "259/259 [==============================] - 0s 570us/step - loss: 0.3374 - accuracy: 0.8517\n",
      "Epoch 96/100\n",
      "259/259 [==============================] - 0s 491us/step - loss: 0.3402 - accuracy: 0.8513\n",
      "Epoch 97/100\n",
      "259/259 [==============================] - 0s 572us/step - loss: 0.3392 - accuracy: 0.8487\n",
      "Epoch 98/100\n",
      "259/259 [==============================] - 0s 526us/step - loss: 0.3385 - accuracy: 0.8535\n",
      "Epoch 99/100\n",
      "259/259 [==============================] - 0s 526us/step - loss: 0.3387 - accuracy: 0.8530\n",
      "Epoch 100/100\n",
      "259/259 [==============================] - 0s 527us/step - loss: 0.3348 - accuracy: 0.8553\n"
     ]
    },
    {
     "data": {
      "text/plain": [
       "<tensorflow.python.keras.callbacks.History at 0x20887fc5580>"
      ]
     },
     "execution_count": 117,
     "metadata": {},
     "output_type": "execute_result"
    }
   ],
   "source": [
    "model=keras.Sequential([\n",
    "    keras.layers.Dense(26,input_shape=(26,),activation='relu'),\n",
    "    keras.layers.Dense(15,activation='relu'),\n",
    "    keras.layers.Dense(1,activation='sigmoid')\n",
    "])\n",
    "\n",
    "model.compile(optimizer='adam',loss='binary_crossentropy',metrics=['accuracy'])\n",
    "\n",
    "model.fit(x_train,y_train,epochs=100)"
   ]
  },
  {
   "cell_type": "code",
   "execution_count": 118,
   "metadata": {},
   "outputs": [],
   "source": [
    "yp=model.predict(x_test)\n",
    "\n",
    "y_pred=[]\n",
    "for element in yp:\n",
    "    if element>0.5:\n",
    "        y_pred.append(1)\n",
    "    else:\n",
    "        y_pred.append(0)"
   ]
  },
  {
   "cell_type": "code",
   "execution_count": 119,
   "metadata": {},
   "outputs": [
    {
     "name": "stdout",
     "output_type": "stream",
     "text": [
      "              precision    recall  f1-score   support\n",
      "\n",
      "           0       0.81      0.77      0.79      1033\n",
      "           1       0.78      0.82      0.80      1033\n",
      "\n",
      "    accuracy                           0.80      2066\n",
      "   macro avg       0.80      0.80      0.80      2066\n",
      "weighted avg       0.80      0.80      0.80      2066\n",
      "\n"
     ]
    }
   ],
   "source": [
    "from sklearn.metrics import confusion_matrix,classification_report\n",
    "print(classification_report(y_test,y_pred))"
   ]
  },
  {
   "cell_type": "markdown",
   "metadata": {},
   "source": [
    "We can see our f1 score is now almost same 0.79 & 0.80. So, our data & model is almost balanced."
   ]
  },
  {
   "cell_type": "markdown",
   "metadata": {},
   "source": [
    "## 4.Ensemble"
   ]
  },
  {
   "cell_type": "code",
   "execution_count": 120,
   "metadata": {},
   "outputs": [
    {
     "data": {
      "text/plain": [
       "0    5163\n",
       "1    1869\n",
       "Name: Churn, dtype: int64"
      ]
     },
     "execution_count": 120,
     "metadata": {},
     "output_type": "execute_result"
    }
   ],
   "source": [
    "x=df2.drop('Churn',axis=1)\n",
    "y=df2['Churn']\n",
    "\n",
    "y.value_counts()"
   ]
  },
  {
   "cell_type": "code",
   "execution_count": 122,
   "metadata": {},
   "outputs": [
    {
     "data": {
      "text/plain": [
       "0    4130\n",
       "1    1495\n",
       "Name: Churn, dtype: int64"
      ]
     },
     "execution_count": 122,
     "metadata": {},
     "output_type": "execute_result"
    }
   ],
   "source": [
    "x_train,x_test,y_train,y_test=train_test_split(x,y,random_state=15,test_size=0.2,stratify=y)\n",
    "\n",
    "y_train.value_counts()"
   ]
  },
  {
   "cell_type": "code",
   "execution_count": 123,
   "metadata": {},
   "outputs": [
    {
     "data": {
      "text/plain": [
       "1376.6666666666667"
      ]
     },
     "execution_count": 123,
     "metadata": {},
     "output_type": "execute_result"
    }
   ],
   "source": [
    "4130/3"
   ]
  },
  {
   "cell_type": "code",
   "execution_count": 126,
   "metadata": {},
   "outputs": [],
   "source": [
    "df3=x_train.copy()\n",
    "df3['Churn']=y_train"
   ]
  },
  {
   "cell_type": "code",
   "execution_count": 127,
   "metadata": {},
   "outputs": [],
   "source": [
    "df3_class_0=df3[df3.Churn==0]\n",
    "df3_class_1=df3[df3.Churn==1]"
   ]
  },
  {
   "cell_type": "code",
   "execution_count": 129,
   "metadata": {},
   "outputs": [
    {
     "data": {
      "text/plain": [
       "((4130, 27), (1495, 27))"
      ]
     },
     "execution_count": 129,
     "metadata": {},
     "output_type": "execute_result"
    }
   ],
   "source": [
    "df3_class_0.shape,df3_class_1.shape"
   ]
  },
  {
   "cell_type": "code",
   "execution_count": 142,
   "metadata": {},
   "outputs": [],
   "source": [
    "def get_train_batch(start,end,df_majority,df_minority):\n",
    "    df_train=pd.concat([df_majority[start:end],df_minority],axis=0)\n",
    "    \n",
    "    x_train=df_train.drop('Churn',axis=1)\n",
    "    y_train=df_train['Churn']\n",
    "    \n",
    "    return x_train,y_train"
   ]
  },
  {
   "cell_type": "code",
   "execution_count": 143,
   "metadata": {},
   "outputs": [],
   "source": [
    "x_train,y_train=get_train_batch(0,1495,df3_class_0,df3_class_1)"
   ]
  },
  {
   "cell_type": "code",
   "execution_count": 144,
   "metadata": {},
   "outputs": [
    {
     "data": {
      "text/plain": [
       "(2990, 26)"
      ]
     },
     "execution_count": 144,
     "metadata": {},
     "output_type": "execute_result"
    }
   ],
   "source": [
    "x_train.shape"
   ]
  },
  {
   "cell_type": "markdown",
   "metadata": {},
   "source": [
    "### Model 1"
   ]
  },
  {
   "cell_type": "code",
   "execution_count": 145,
   "metadata": {},
   "outputs": [
    {
     "name": "stdout",
     "output_type": "stream",
     "text": [
      "Epoch 1/100\n",
      "94/94 [==============================] - 0s 642us/step - loss: 0.6175 - accuracy: 0.6632\n",
      "Epoch 2/100\n",
      "94/94 [==============================] - 0s 656us/step - loss: 0.5136 - accuracy: 0.7572\n",
      "Epoch 3/100\n",
      "94/94 [==============================] - 0s 545us/step - loss: 0.4983 - accuracy: 0.7652\n",
      "Epoch 4/100\n",
      "94/94 [==============================] - 0s 515us/step - loss: 0.4911 - accuracy: 0.7686\n",
      "Epoch 5/100\n",
      "94/94 [==============================] - 0s 506us/step - loss: 0.4875 - accuracy: 0.7729\n",
      "Epoch 6/100\n",
      "94/94 [==============================] - 0s 605us/step - loss: 0.4844 - accuracy: 0.7753\n",
      "Epoch 7/100\n",
      "94/94 [==============================] - 0s 574us/step - loss: 0.4842 - accuracy: 0.7706\n",
      "Epoch 8/100\n",
      "94/94 [==============================] - 0s 592us/step - loss: 0.4818 - accuracy: 0.7763\n",
      "Epoch 9/100\n",
      "94/94 [==============================] - 0s 575us/step - loss: 0.4780 - accuracy: 0.7766\n",
      "Epoch 10/100\n",
      "94/94 [==============================] - 0s 575us/step - loss: 0.4767 - accuracy: 0.7799\n",
      "Epoch 11/100\n",
      "94/94 [==============================] - 0s 674us/step - loss: 0.4751 - accuracy: 0.7773\n",
      "Epoch 12/100\n",
      "94/94 [==============================] - 0s 641us/step - loss: 0.4756 - accuracy: 0.7813\n",
      "Epoch 13/100\n",
      "94/94 [==============================] - 0s 647us/step - loss: 0.4732 - accuracy: 0.7776\n",
      "Epoch 14/100\n",
      "94/94 [==============================] - 0s 661us/step - loss: 0.4720 - accuracy: 0.7806\n",
      "Epoch 15/100\n",
      "94/94 [==============================] - 0s 644us/step - loss: 0.4679 - accuracy: 0.7843\n",
      "Epoch 16/100\n",
      "94/94 [==============================] - 0s 664us/step - loss: 0.4686 - accuracy: 0.7813\n",
      "Epoch 17/100\n",
      "94/94 [==============================] - 0s 656us/step - loss: 0.4652 - accuracy: 0.7816\n",
      "Epoch 18/100\n",
      "94/94 [==============================] - 0s 648us/step - loss: 0.4641 - accuracy: 0.7829\n",
      "Epoch 19/100\n",
      "94/94 [==============================] - 0s 647us/step - loss: 0.4621 - accuracy: 0.7839\n",
      "Epoch 20/100\n",
      "94/94 [==============================] - 0s 687us/step - loss: 0.4619 - accuracy: 0.7843\n",
      "Epoch 21/100\n",
      "94/94 [==============================] - 0s 614us/step - loss: 0.4598 - accuracy: 0.7846\n",
      "Epoch 22/100\n",
      "94/94 [==============================] - 0s 636us/step - loss: 0.4589 - accuracy: 0.7856\n",
      "Epoch 23/100\n",
      "94/94 [==============================] - 0s 525us/step - loss: 0.4573 - accuracy: 0.7846\n",
      "Epoch 24/100\n",
      "94/94 [==============================] - 0s 496us/step - loss: 0.4555 - accuracy: 0.7846\n",
      "Epoch 25/100\n",
      "94/94 [==============================] - 0s 613us/step - loss: 0.4542 - accuracy: 0.7876\n",
      "Epoch 26/100\n",
      "94/94 [==============================] - 0s 599us/step - loss: 0.4528 - accuracy: 0.7920\n",
      "Epoch 27/100\n",
      "94/94 [==============================] - 0s 606us/step - loss: 0.4523 - accuracy: 0.7886\n",
      "Epoch 28/100\n",
      "94/94 [==============================] - 0s 598us/step - loss: 0.4520 - accuracy: 0.7836\n",
      "Epoch 29/100\n",
      "94/94 [==============================] - 0s 577us/step - loss: 0.4498 - accuracy: 0.7906\n",
      "Epoch 30/100\n",
      "94/94 [==============================] - 0s 625us/step - loss: 0.4482 - accuracy: 0.7930\n",
      "Epoch 31/100\n",
      "94/94 [==============================] - 0s 678us/step - loss: 0.4475 - accuracy: 0.7903\n",
      "Epoch 32/100\n",
      "94/94 [==============================] - 0s 611us/step - loss: 0.4478 - accuracy: 0.7957\n",
      "Epoch 33/100\n",
      "94/94 [==============================] - 0s 622us/step - loss: 0.4463 - accuracy: 0.7873\n",
      "Epoch 34/100\n",
      "94/94 [==============================] - 0s 680us/step - loss: 0.4444 - accuracy: 0.7906\n",
      "Epoch 35/100\n",
      "94/94 [==============================] - 0s 678us/step - loss: 0.4417 - accuracy: 0.7950\n",
      "Epoch 36/100\n",
      "94/94 [==============================] - 0s 638us/step - loss: 0.4408 - accuracy: 0.7933\n",
      "Epoch 37/100\n",
      "94/94 [==============================] - 0s 685us/step - loss: 0.4402 - accuracy: 0.7957\n",
      "Epoch 38/100\n",
      "94/94 [==============================] - 0s 675us/step - loss: 0.4380 - accuracy: 0.7997\n",
      "Epoch 39/100\n",
      "94/94 [==============================] - 0s 645us/step - loss: 0.4373 - accuracy: 0.7960\n",
      "Epoch 40/100\n",
      "94/94 [==============================] - 0s 674us/step - loss: 0.4366 - accuracy: 0.7946\n",
      "Epoch 41/100\n",
      "94/94 [==============================] - 0s 738us/step - loss: 0.4342 - accuracy: 0.7987\n",
      "Epoch 42/100\n",
      "94/94 [==============================] - 0s 657us/step - loss: 0.4333 - accuracy: 0.8010\n",
      "Epoch 43/100\n",
      "94/94 [==============================] - 0s 671us/step - loss: 0.4358 - accuracy: 0.7997\n",
      "Epoch 44/100\n",
      "94/94 [==============================] - 0s 660us/step - loss: 0.4320 - accuracy: 0.8000\n",
      "Epoch 45/100\n",
      "94/94 [==============================] - 0s 665us/step - loss: 0.4298 - accuracy: 0.7990\n",
      "Epoch 46/100\n",
      "94/94 [==============================] - 0s 703us/step - loss: 0.4289 - accuracy: 0.8000\n",
      "Epoch 47/100\n",
      "94/94 [==============================] - 0s 686us/step - loss: 0.4291 - accuracy: 0.8003\n",
      "Epoch 48/100\n",
      "94/94 [==============================] - 0s 696us/step - loss: 0.4285 - accuracy: 0.8047\n",
      "Epoch 49/100\n",
      "94/94 [==============================] - 0s 627us/step - loss: 0.4273 - accuracy: 0.8000\n",
      "Epoch 50/100\n",
      "94/94 [==============================] - 0s 633us/step - loss: 0.4247 - accuracy: 0.8027\n",
      "Epoch 51/100\n",
      "94/94 [==============================] - 0s 634us/step - loss: 0.4263 - accuracy: 0.8043\n",
      "Epoch 52/100\n",
      "94/94 [==============================] - 0s 605us/step - loss: 0.4240 - accuracy: 0.8030\n",
      "Epoch 53/100\n",
      "94/94 [==============================] - 0s 606us/step - loss: 0.4236 - accuracy: 0.8030\n",
      "Epoch 54/100\n",
      "94/94 [==============================] - 0s 536us/step - loss: 0.4215 - accuracy: 0.8037\n",
      "Epoch 55/100\n",
      "94/94 [==============================] - 0s 525us/step - loss: 0.4221 - accuracy: 0.8057\n",
      "Epoch 56/100\n",
      "94/94 [==============================] - 0s 532us/step - loss: 0.4202 - accuracy: 0.8084\n",
      "Epoch 57/100\n",
      "94/94 [==============================] - 0s 552us/step - loss: 0.4211 - accuracy: 0.8050\n",
      "Epoch 58/100\n",
      "94/94 [==============================] - 0s 558us/step - loss: 0.4182 - accuracy: 0.8057\n",
      "Epoch 59/100\n",
      "94/94 [==============================] - 0s 568us/step - loss: 0.4164 - accuracy: 0.8074\n",
      "Epoch 60/100\n",
      "94/94 [==============================] - 0s 526us/step - loss: 0.4171 - accuracy: 0.8080\n",
      "Epoch 61/100\n",
      "94/94 [==============================] - 0s 543us/step - loss: 0.4156 - accuracy: 0.8084\n",
      "Epoch 62/100\n",
      "94/94 [==============================] - 0s 604us/step - loss: 0.4149 - accuracy: 0.8114\n",
      "Epoch 63/100\n",
      "94/94 [==============================] - 0s 626us/step - loss: 0.4136 - accuracy: 0.8114\n",
      "Epoch 64/100\n",
      "94/94 [==============================] - 0s 571us/step - loss: 0.4121 - accuracy: 0.8127\n",
      "Epoch 65/100\n",
      "94/94 [==============================] - 0s 584us/step - loss: 0.4111 - accuracy: 0.8097\n",
      "Epoch 66/100\n",
      "94/94 [==============================] - 0s 547us/step - loss: 0.4113 - accuracy: 0.8104\n",
      "Epoch 67/100\n",
      "94/94 [==============================] - 0s 526us/step - loss: 0.4106 - accuracy: 0.8090\n",
      "Epoch 68/100\n",
      "94/94 [==============================] - 0s 558us/step - loss: 0.4095 - accuracy: 0.8114\n",
      "Epoch 69/100\n",
      "94/94 [==============================] - 0s 580us/step - loss: 0.4079 - accuracy: 0.8151\n",
      "Epoch 70/100\n",
      "94/94 [==============================] - 0s 602us/step - loss: 0.4081 - accuracy: 0.8147\n",
      "Epoch 71/100\n",
      "94/94 [==============================] - 0s 576us/step - loss: 0.4063 - accuracy: 0.8174\n",
      "Epoch 72/100\n",
      "94/94 [==============================] - 0s 654us/step - loss: 0.4054 - accuracy: 0.8164\n",
      "Epoch 73/100\n",
      "94/94 [==============================] - 0s 574us/step - loss: 0.4063 - accuracy: 0.8154\n",
      "Epoch 74/100\n",
      "94/94 [==============================] - 0s 624us/step - loss: 0.4045 - accuracy: 0.8171\n",
      "Epoch 75/100\n",
      "94/94 [==============================] - 0s 605us/step - loss: 0.4051 - accuracy: 0.8154\n",
      "Epoch 76/100\n",
      "94/94 [==============================] - 0s 620us/step - loss: 0.4026 - accuracy: 0.8201\n",
      "Epoch 77/100\n",
      "94/94 [==============================] - 0s 571us/step - loss: 0.4032 - accuracy: 0.8161\n",
      "Epoch 78/100\n",
      "94/94 [==============================] - 0s 515us/step - loss: 0.4005 - accuracy: 0.8194\n",
      "Epoch 79/100\n",
      "94/94 [==============================] - 0s 498us/step - loss: 0.4002 - accuracy: 0.8184\n",
      "Epoch 80/100\n",
      "94/94 [==============================] - 0s 568us/step - loss: 0.4012 - accuracy: 0.8157\n",
      "Epoch 81/100\n"
     ]
    },
    {
     "name": "stdout",
     "output_type": "stream",
     "text": [
      "94/94 [==============================] - 0s 533us/step - loss: 0.3980 - accuracy: 0.8207\n",
      "Epoch 82/100\n",
      "94/94 [==============================] - 0s 529us/step - loss: 0.3974 - accuracy: 0.8214\n",
      "Epoch 83/100\n",
      "94/94 [==============================] - 0s 552us/step - loss: 0.3985 - accuracy: 0.8154\n",
      "Epoch 84/100\n",
      "94/94 [==============================] - 0s 558us/step - loss: 0.3975 - accuracy: 0.8197\n",
      "Epoch 85/100\n",
      "94/94 [==============================] - 0s 537us/step - loss: 0.3959 - accuracy: 0.8167\n",
      "Epoch 86/100\n",
      "94/94 [==============================] - 0s 493us/step - loss: 0.3970 - accuracy: 0.8204\n",
      "Epoch 87/100\n",
      "94/94 [==============================] - 0s 533us/step - loss: 0.3938 - accuracy: 0.8217\n",
      "Epoch 88/100\n",
      "94/94 [==============================] - 0s 448us/step - loss: 0.3921 - accuracy: 0.8224\n",
      "Epoch 89/100\n",
      "94/94 [==============================] - 0s 570us/step - loss: 0.3961 - accuracy: 0.8224\n",
      "Epoch 90/100\n",
      "94/94 [==============================] - 0s 532us/step - loss: 0.3937 - accuracy: 0.8197\n",
      "Epoch 91/100\n",
      "94/94 [==============================] - 0s 501us/step - loss: 0.3914 - accuracy: 0.8258\n",
      "Epoch 92/100\n",
      "94/94 [==============================] - 0s 537us/step - loss: 0.3940 - accuracy: 0.8231\n",
      "Epoch 93/100\n",
      "94/94 [==============================] - 0s 583us/step - loss: 0.3916 - accuracy: 0.8184\n",
      "Epoch 94/100\n",
      "94/94 [==============================] - 0s 593us/step - loss: 0.3889 - accuracy: 0.8268\n",
      "Epoch 95/100\n",
      "94/94 [==============================] - 0s 537us/step - loss: 0.3892 - accuracy: 0.8221\n",
      "Epoch 96/100\n",
      "94/94 [==============================] - 0s 551us/step - loss: 0.3863 - accuracy: 0.8237\n",
      "Epoch 97/100\n",
      "94/94 [==============================] - 0s 505us/step - loss: 0.3863 - accuracy: 0.8217\n",
      "Epoch 98/100\n",
      "94/94 [==============================] - 0s 517us/step - loss: 0.3865 - accuracy: 0.8268\n",
      "Epoch 99/100\n",
      "94/94 [==============================] - 0s 472us/step - loss: 0.3851 - accuracy: 0.8207\n",
      "Epoch 100/100\n",
      "94/94 [==============================] - 0s 450us/step - loss: 0.3855 - accuracy: 0.8288\n"
     ]
    },
    {
     "data": {
      "text/plain": [
       "<tensorflow.python.keras.callbacks.History at 0x20889527c40>"
      ]
     },
     "execution_count": 145,
     "metadata": {},
     "output_type": "execute_result"
    }
   ],
   "source": [
    "model1=model=keras.Sequential([\n",
    "    keras.layers.Dense(26,input_shape=(26,),activation='relu'),\n",
    "    keras.layers.Dense(15,activation='relu'),\n",
    "    keras.layers.Dense(1,activation='sigmoid')\n",
    "])\n",
    "\n",
    "model.compile(optimizer='adam',loss='binary_crossentropy',metrics=['accuracy'])\n",
    "\n",
    "model.fit(x_train,y_train,epochs=100)"
   ]
  },
  {
   "cell_type": "code",
   "execution_count": 151,
   "metadata": {},
   "outputs": [],
   "source": [
    "yp=model1.predict(x_test)\n",
    "\n",
    "y_pred1=[]\n",
    "for element in yp:\n",
    "    if element>0.5:\n",
    "        y_pred1.append(1)\n",
    "    else:\n",
    "        y_pred1.append(0)"
   ]
  },
  {
   "cell_type": "code",
   "execution_count": 152,
   "metadata": {},
   "outputs": [
    {
     "name": "stdout",
     "output_type": "stream",
     "text": [
      "              precision    recall  f1-score   support\n",
      "\n",
      "           0       0.89      0.72      0.80      1033\n",
      "           1       0.49      0.75      0.60       374\n",
      "\n",
      "    accuracy                           0.73      1407\n",
      "   macro avg       0.69      0.74      0.70      1407\n",
      "weighted avg       0.78      0.73      0.74      1407\n",
      "\n"
     ]
    }
   ],
   "source": [
    "from sklearn.metrics import confusion_matrix,classification_report\n",
    "print(classification_report(y_test,y_pred1))"
   ]
  },
  {
   "cell_type": "markdown",
   "metadata": {},
   "source": [
    "### Model 2"
   ]
  },
  {
   "cell_type": "code",
   "execution_count": 153,
   "metadata": {},
   "outputs": [],
   "source": [
    "x_train,y_train=get_train_batch(1495,2990,df3_class_0,df3_class_1)"
   ]
  },
  {
   "cell_type": "code",
   "execution_count": 154,
   "metadata": {},
   "outputs": [
    {
     "data": {
      "text/plain": [
       "(2990, 26)"
      ]
     },
     "execution_count": 154,
     "metadata": {},
     "output_type": "execute_result"
    }
   ],
   "source": [
    "x_train.shape"
   ]
  },
  {
   "cell_type": "code",
   "execution_count": 159,
   "metadata": {},
   "outputs": [
    {
     "name": "stdout",
     "output_type": "stream",
     "text": [
      "Epoch 1/100\n",
      "83/83 [==============================] - 0s 657us/step - loss: 0.4593 - accuracy: 0.7970\n",
      "Epoch 2/100\n",
      "83/83 [==============================] - 0s 591us/step - loss: 0.4399 - accuracy: 0.8068\n",
      "Epoch 3/100\n",
      "83/83 [==============================] - 0s 567us/step - loss: 0.4344 - accuracy: 0.8027\n",
      "Epoch 4/100\n",
      "83/83 [==============================] - 0s 567us/step - loss: 0.4293 - accuracy: 0.8023\n",
      "Epoch 5/100\n",
      "83/83 [==============================] - 0s 526us/step - loss: 0.4246 - accuracy: 0.8080\n",
      "Epoch 6/100\n",
      "83/83 [==============================] - 0s 643us/step - loss: 0.4212 - accuracy: 0.8095\n",
      "Epoch 7/100\n",
      "83/83 [==============================] - 0s 635us/step - loss: 0.4197 - accuracy: 0.8087\n",
      "Epoch 8/100\n",
      "83/83 [==============================] - 0s 571us/step - loss: 0.4191 - accuracy: 0.8046\n",
      "Epoch 9/100\n",
      "83/83 [==============================] - 0s 577us/step - loss: 0.4125 - accuracy: 0.8095\n",
      "Epoch 10/100\n",
      "83/83 [==============================] - 0s 576us/step - loss: 0.4121 - accuracy: 0.8129\n",
      "Epoch 11/100\n",
      "83/83 [==============================] - 0s 585us/step - loss: 0.4078 - accuracy: 0.8118\n",
      "Epoch 12/100\n",
      "83/83 [==============================] - 0s 697us/step - loss: 0.4066 - accuracy: 0.8114\n",
      "Epoch 13/100\n",
      "83/83 [==============================] - 0s 681us/step - loss: 0.4103 - accuracy: 0.8106\n",
      "Epoch 14/100\n",
      "83/83 [==============================] - 0s 641us/step - loss: 0.4035 - accuracy: 0.8159\n",
      "Epoch 15/100\n",
      "83/83 [==============================] - 0s 699us/step - loss: 0.4060 - accuracy: 0.8148\n",
      "Epoch 16/100\n",
      "83/83 [==============================] - 0s 606us/step - loss: 0.4012 - accuracy: 0.8178\n",
      "Epoch 17/100\n",
      "83/83 [==============================] - 0s 581us/step - loss: 0.4004 - accuracy: 0.8159\n",
      "Epoch 18/100\n",
      "83/83 [==============================] - 0s 679us/step - loss: 0.3998 - accuracy: 0.8197\n",
      "Epoch 19/100\n",
      "83/83 [==============================] - 0s 640us/step - loss: 0.3975 - accuracy: 0.8239\n",
      "Epoch 20/100\n",
      "83/83 [==============================] - 0s 577us/step - loss: 0.4019 - accuracy: 0.8201\n",
      "Epoch 21/100\n",
      "83/83 [==============================] - 0s 596us/step - loss: 0.3937 - accuracy: 0.8171\n",
      "Epoch 22/100\n",
      "83/83 [==============================] - 0s 600us/step - loss: 0.3928 - accuracy: 0.8243\n",
      "Epoch 23/100\n",
      "83/83 [==============================] - 0s 562us/step - loss: 0.3918 - accuracy: 0.8216\n",
      "Epoch 24/100\n",
      "83/83 [==============================] - 0s 572us/step - loss: 0.3905 - accuracy: 0.8231\n",
      "Epoch 25/100\n",
      "83/83 [==============================] - 0s 565us/step - loss: 0.3921 - accuracy: 0.8235\n",
      "Epoch 26/100\n",
      "83/83 [==============================] - 0s 499us/step - loss: 0.3891 - accuracy: 0.8224\n",
      "Epoch 27/100\n",
      "83/83 [==============================] - 0s 568us/step - loss: 0.3883 - accuracy: 0.8224\n",
      "Epoch 28/100\n",
      "83/83 [==============================] - 0s 575us/step - loss: 0.3850 - accuracy: 0.8220\n",
      "Epoch 29/100\n",
      "83/83 [==============================] - 0s 515us/step - loss: 0.3837 - accuracy: 0.8231\n",
      "Epoch 30/100\n",
      "83/83 [==============================] - 0s 542us/step - loss: 0.3856 - accuracy: 0.8205\n",
      "Epoch 31/100\n",
      "83/83 [==============================] - 0s 557us/step - loss: 0.3837 - accuracy: 0.8231\n",
      "Epoch 32/100\n",
      "83/83 [==============================] - 0s 540us/step - loss: 0.3821 - accuracy: 0.8296\n",
      "Epoch 33/100\n",
      "83/83 [==============================] - 0s 541us/step - loss: 0.3806 - accuracy: 0.8277\n",
      "Epoch 34/100\n",
      "83/83 [==============================] - 0s 547us/step - loss: 0.3797 - accuracy: 0.8254\n",
      "Epoch 35/100\n",
      "83/83 [==============================] - 0s 531us/step - loss: 0.3793 - accuracy: 0.8288\n",
      "Epoch 36/100\n",
      "83/83 [==============================] - 0s 671us/step - loss: 0.3800 - accuracy: 0.8258\n",
      "Epoch 37/100\n",
      "83/83 [==============================] - 0s 626us/step - loss: 0.3775 - accuracy: 0.8307\n",
      "Epoch 38/100\n",
      "83/83 [==============================] - 0s 578us/step - loss: 0.3752 - accuracy: 0.8353\n",
      "Epoch 39/100\n",
      "83/83 [==============================] - 0s 539us/step - loss: 0.3757 - accuracy: 0.8281\n",
      "Epoch 40/100\n",
      "83/83 [==============================] - 0s 531us/step - loss: 0.3747 - accuracy: 0.8334\n",
      "Epoch 41/100\n",
      "83/83 [==============================] - 0s 516us/step - loss: 0.3752 - accuracy: 0.8334\n",
      "Epoch 42/100\n",
      "83/83 [==============================] - 0s 535us/step - loss: 0.3731 - accuracy: 0.8345\n",
      "Epoch 43/100\n",
      "83/83 [==============================] - 0s 572us/step - loss: 0.3735 - accuracy: 0.8307\n",
      "Epoch 44/100\n",
      "83/83 [==============================] - 0s 572us/step - loss: 0.3688 - accuracy: 0.8319\n",
      "Epoch 45/100\n",
      "83/83 [==============================] - 0s 551us/step - loss: 0.3721 - accuracy: 0.8323\n",
      "Epoch 46/100\n",
      "83/83 [==============================] - 0s 542us/step - loss: 0.3691 - accuracy: 0.8364\n",
      "Epoch 47/100\n",
      "83/83 [==============================] - 0s 553us/step - loss: 0.3664 - accuracy: 0.8402\n",
      "Epoch 48/100\n",
      "83/83 [==============================] - 0s 556us/step - loss: 0.3678 - accuracy: 0.8345\n",
      "Epoch 49/100\n",
      "83/83 [==============================] - 0s 552us/step - loss: 0.3664 - accuracy: 0.8372\n",
      "Epoch 50/100\n",
      "83/83 [==============================] - 0s 553us/step - loss: 0.3656 - accuracy: 0.8391\n",
      "Epoch 51/100\n",
      "83/83 [==============================] - 0s 681us/step - loss: 0.3655 - accuracy: 0.8448\n",
      "Epoch 52/100\n",
      "83/83 [==============================] - 0s 653us/step - loss: 0.3641 - accuracy: 0.8406\n",
      "Epoch 53/100\n",
      "83/83 [==============================] - 0s 595us/step - loss: 0.3673 - accuracy: 0.8338\n",
      "Epoch 54/100\n",
      "83/83 [==============================] - 0s 523us/step - loss: 0.3637 - accuracy: 0.8376\n",
      "Epoch 55/100\n",
      "83/83 [==============================] - 0s 554us/step - loss: 0.3636 - accuracy: 0.8448\n",
      "Epoch 56/100\n",
      "83/83 [==============================] - 0s 543us/step - loss: 0.3621 - accuracy: 0.8410\n",
      "Epoch 57/100\n",
      "83/83 [==============================] - 0s 590us/step - loss: 0.3601 - accuracy: 0.8398\n",
      "Epoch 58/100\n",
      "83/83 [==============================] - 0s 573us/step - loss: 0.3591 - accuracy: 0.8433\n",
      "Epoch 59/100\n",
      "83/83 [==============================] - 0s 547us/step - loss: 0.3605 - accuracy: 0.8395\n",
      "Epoch 60/100\n",
      "83/83 [==============================] - 0s 505us/step - loss: 0.3583 - accuracy: 0.8425\n",
      "Epoch 61/100\n",
      "83/83 [==============================] - 0s 553us/step - loss: 0.3576 - accuracy: 0.8429\n",
      "Epoch 62/100\n",
      "83/83 [==============================] - 0s 553us/step - loss: 0.3588 - accuracy: 0.8421\n",
      "Epoch 63/100\n",
      "83/83 [==============================] - 0s 588us/step - loss: 0.3579 - accuracy: 0.8421\n",
      "Epoch 64/100\n",
      "83/83 [==============================] - 0s 584us/step - loss: 0.3547 - accuracy: 0.8478\n",
      "Epoch 65/100\n",
      "83/83 [==============================] - 0s 543us/step - loss: 0.3550 - accuracy: 0.8444\n",
      "Epoch 66/100\n",
      "83/83 [==============================] - 0s 570us/step - loss: 0.3534 - accuracy: 0.8501\n",
      "Epoch 67/100\n",
      "83/83 [==============================] - 0s 557us/step - loss: 0.3528 - accuracy: 0.8440\n",
      "Epoch 68/100\n",
      "83/83 [==============================] - 0s 523us/step - loss: 0.3518 - accuracy: 0.8486\n",
      "Epoch 69/100\n",
      "83/83 [==============================] - 0s 576us/step - loss: 0.3515 - accuracy: 0.8463\n",
      "Epoch 70/100\n",
      "83/83 [==============================] - 0s 557us/step - loss: 0.3529 - accuracy: 0.8455\n",
      "Epoch 71/100\n",
      "83/83 [==============================] - 0s 540us/step - loss: 0.3502 - accuracy: 0.8455\n",
      "Epoch 72/100\n",
      "83/83 [==============================] - 0s 545us/step - loss: 0.3538 - accuracy: 0.8429\n",
      "Epoch 73/100\n",
      "83/83 [==============================] - 0s 553us/step - loss: 0.3500 - accuracy: 0.8478\n",
      "Epoch 74/100\n",
      "83/83 [==============================] - 0s 561us/step - loss: 0.3467 - accuracy: 0.8543\n",
      "Epoch 75/100\n",
      "83/83 [==============================] - 0s 540us/step - loss: 0.3486 - accuracy: 0.8486\n",
      "Epoch 76/100\n",
      "83/83 [==============================] - 0s 587us/step - loss: 0.3457 - accuracy: 0.8562\n",
      "Epoch 77/100\n",
      "83/83 [==============================] - 0s 517us/step - loss: 0.3459 - accuracy: 0.8524\n",
      "Epoch 78/100\n",
      "83/83 [==============================] - 0s 606us/step - loss: 0.3463 - accuracy: 0.8448\n",
      "Epoch 79/100\n",
      "83/83 [==============================] - 0s 572us/step - loss: 0.3467 - accuracy: 0.8463\n",
      "Epoch 80/100\n",
      "83/83 [==============================] - 0s 643us/step - loss: 0.3407 - accuracy: 0.8516\n",
      "Epoch 81/100\n"
     ]
    },
    {
     "name": "stdout",
     "output_type": "stream",
     "text": [
      "83/83 [==============================] - 0s 660us/step - loss: 0.3430 - accuracy: 0.8493\n",
      "Epoch 82/100\n",
      "83/83 [==============================] - 0s 569us/step - loss: 0.3450 - accuracy: 0.8497\n",
      "Epoch 83/100\n",
      "83/83 [==============================] - 0s 579us/step - loss: 0.3446 - accuracy: 0.8509\n",
      "Epoch 84/100\n",
      "83/83 [==============================] - 0s 567us/step - loss: 0.3434 - accuracy: 0.8512\n",
      "Epoch 85/100\n",
      "83/83 [==============================] - 0s 533us/step - loss: 0.3396 - accuracy: 0.8524\n",
      "Epoch 86/100\n",
      "83/83 [==============================] - 0s 538us/step - loss: 0.3405 - accuracy: 0.8520\n",
      "Epoch 87/100\n",
      "83/83 [==============================] - 0s 576us/step - loss: 0.3410 - accuracy: 0.8512\n",
      "Epoch 88/100\n",
      "83/83 [==============================] - 0s 565us/step - loss: 0.3390 - accuracy: 0.8501\n",
      "Epoch 89/100\n",
      "83/83 [==============================] - 0s 559us/step - loss: 0.3392 - accuracy: 0.8546\n",
      "Epoch 90/100\n",
      "83/83 [==============================] - 0s 575us/step - loss: 0.3366 - accuracy: 0.8528\n",
      "Epoch 91/100\n",
      "83/83 [==============================] - 0s 513us/step - loss: 0.3403 - accuracy: 0.8524\n",
      "Epoch 92/100\n",
      "83/83 [==============================] - 0s 569us/step - loss: 0.3424 - accuracy: 0.8528\n",
      "Epoch 93/100\n",
      "83/83 [==============================] - 0s 536us/step - loss: 0.3406 - accuracy: 0.8543\n",
      "Epoch 94/100\n",
      "83/83 [==============================] - 0s 523us/step - loss: 0.3346 - accuracy: 0.8539\n",
      "Epoch 95/100\n",
      "83/83 [==============================] - 0s 562us/step - loss: 0.3364 - accuracy: 0.8509\n",
      "Epoch 96/100\n",
      "83/83 [==============================] - 0s 569us/step - loss: 0.3316 - accuracy: 0.8524\n",
      "Epoch 97/100\n",
      "83/83 [==============================] - 0s 498us/step - loss: 0.3330 - accuracy: 0.8528\n",
      "Epoch 98/100\n",
      "83/83 [==============================] - 0s 513us/step - loss: 0.3335 - accuracy: 0.8546\n",
      "Epoch 99/100\n",
      "83/83 [==============================] - 0s 537us/step - loss: 0.3325 - accuracy: 0.8573\n",
      "Epoch 100/100\n",
      "83/83 [==============================] - 0s 545us/step - loss: 0.3308 - accuracy: 0.8550\n"
     ]
    },
    {
     "data": {
      "text/plain": [
       "<tensorflow.python.keras.callbacks.History at 0x2088bb3f4f0>"
      ]
     },
     "execution_count": 159,
     "metadata": {},
     "output_type": "execute_result"
    }
   ],
   "source": [
    "model2=keras.Sequential([\n",
    "    keras.layers.Dense(26,input_shape=(26,),activation='relu'),\n",
    "    keras.layers.Dense(15,activation='relu'),\n",
    "    keras.layers.Dense(1,activation='sigmoid')\n",
    "])\n",
    "\n",
    "model.compile(optimizer='adam',loss='binary_crossentropy',metrics=['accuracy'])\n",
    "\n",
    "model.fit(x_train,y_train,epochs=100)"
   ]
  },
  {
   "cell_type": "code",
   "execution_count": 160,
   "metadata": {},
   "outputs": [],
   "source": [
    "yp=model2.predict(x_test)\n",
    "\n",
    "y_pred2=[]\n",
    "for element in yp:\n",
    "    if element>0.5:\n",
    "        y_pred2.append(1)\n",
    "    else:\n",
    "        y_pred2.append(0)"
   ]
  },
  {
   "cell_type": "code",
   "execution_count": 161,
   "metadata": {},
   "outputs": [
    {
     "name": "stdout",
     "output_type": "stream",
     "text": [
      "              precision    recall  f1-score   support\n",
      "\n",
      "           0       0.85      0.56      0.68      1033\n",
      "           1       0.37      0.72      0.49       374\n",
      "\n",
      "    accuracy                           0.60      1407\n",
      "   macro avg       0.61      0.64      0.58      1407\n",
      "weighted avg       0.72      0.60      0.63      1407\n",
      "\n"
     ]
    }
   ],
   "source": [
    "from sklearn.metrics import confusion_matrix,classification_report\n",
    "print(classification_report(y_test,y_pred2))"
   ]
  },
  {
   "cell_type": "markdown",
   "metadata": {},
   "source": [
    "### Model 3"
   ]
  },
  {
   "cell_type": "code",
   "execution_count": 158,
   "metadata": {},
   "outputs": [
    {
     "data": {
      "text/plain": [
       "(2635, 26)"
      ]
     },
     "execution_count": 158,
     "metadata": {},
     "output_type": "execute_result"
    }
   ],
   "source": [
    "x_train,y_train=get_train_batch(2990,4130,df3_class_0,df3_class_1)\n",
    "x_train.shape"
   ]
  },
  {
   "cell_type": "code",
   "execution_count": 162,
   "metadata": {},
   "outputs": [
    {
     "name": "stdout",
     "output_type": "stream",
     "text": [
      "Epoch 1/100\n",
      "83/83 [==============================] - 0s 574us/step - loss: 0.3363 - accuracy: 0.8528\n",
      "Epoch 2/100\n",
      "83/83 [==============================] - 0s 656us/step - loss: 0.3287 - accuracy: 0.8543\n",
      "Epoch 3/100\n",
      "83/83 [==============================] - 0s 597us/step - loss: 0.3294 - accuracy: 0.8622\n",
      "Epoch 4/100\n",
      "83/83 [==============================] - 0s 548us/step - loss: 0.3294 - accuracy: 0.8562\n",
      "Epoch 5/100\n",
      "83/83 [==============================] - 0s 490us/step - loss: 0.3303 - accuracy: 0.8520\n",
      "Epoch 6/100\n",
      "83/83 [==============================] - 0s 609us/step - loss: 0.3285 - accuracy: 0.8569\n",
      "Epoch 7/100\n",
      "83/83 [==============================] - 0s 699us/step - loss: 0.3298 - accuracy: 0.8603\n",
      "Epoch 8/100\n",
      "83/83 [==============================] - 0s 608us/step - loss: 0.3280 - accuracy: 0.8626\n",
      "Epoch 9/100\n",
      "83/83 [==============================] - 0s 594us/step - loss: 0.3305 - accuracy: 0.8554\n",
      "Epoch 10/100\n",
      "83/83 [==============================] - 0s 560us/step - loss: 0.3249 - accuracy: 0.8562\n",
      "Epoch 11/100\n",
      "83/83 [==============================] - 0s 579us/step - loss: 0.3308 - accuracy: 0.8607\n",
      "Epoch 12/100\n",
      "83/83 [==============================] - 0s 480us/step - loss: 0.3249 - accuracy: 0.8588\n",
      "Epoch 13/100\n",
      "83/83 [==============================] - 0s 570us/step - loss: 0.3280 - accuracy: 0.8520\n",
      "Epoch 14/100\n",
      "83/83 [==============================] - 0s 583us/step - loss: 0.3223 - accuracy: 0.8638\n",
      "Epoch 15/100\n",
      "83/83 [==============================] - 0s 486us/step - loss: 0.3228 - accuracy: 0.8607\n",
      "Epoch 16/100\n",
      "83/83 [==============================] - 0s 499us/step - loss: 0.3224 - accuracy: 0.8573\n",
      "Epoch 17/100\n",
      "83/83 [==============================] - 0s 539us/step - loss: 0.3222 - accuracy: 0.8584\n",
      "Epoch 18/100\n",
      "83/83 [==============================] - 0s 544us/step - loss: 0.3209 - accuracy: 0.8619\n",
      "Epoch 19/100\n",
      "83/83 [==============================] - 0s 536us/step - loss: 0.3229 - accuracy: 0.8600\n",
      "Epoch 20/100\n",
      "83/83 [==============================] - 0s 523us/step - loss: 0.3220 - accuracy: 0.8607\n",
      "Epoch 21/100\n",
      "83/83 [==============================] - 0s 595us/step - loss: 0.3194 - accuracy: 0.8600\n",
      "Epoch 22/100\n",
      "83/83 [==============================] - 0s 571us/step - loss: 0.3203 - accuracy: 0.8619\n",
      "Epoch 23/100\n",
      "83/83 [==============================] - 0s 560us/step - loss: 0.3218 - accuracy: 0.8626\n",
      "Epoch 24/100\n",
      "83/83 [==============================] - 0s 566us/step - loss: 0.3210 - accuracy: 0.8611\n",
      "Epoch 25/100\n",
      "83/83 [==============================] - 0s 570us/step - loss: 0.3181 - accuracy: 0.8653\n",
      "Epoch 26/100\n",
      "83/83 [==============================] - 0s 579us/step - loss: 0.3177 - accuracy: 0.8638\n",
      "Epoch 27/100\n",
      "83/83 [==============================] - 0s 571us/step - loss: 0.3191 - accuracy: 0.8569\n",
      "Epoch 28/100\n",
      "83/83 [==============================] - 0s 584us/step - loss: 0.3187 - accuracy: 0.8641\n",
      "Epoch 29/100\n",
      "83/83 [==============================] - 0s 711us/step - loss: 0.3174 - accuracy: 0.8592\n",
      "Epoch 30/100\n",
      "83/83 [==============================] - 0s 583us/step - loss: 0.3155 - accuracy: 0.8657\n",
      "Epoch 31/100\n",
      "83/83 [==============================] - 0s 570us/step - loss: 0.3157 - accuracy: 0.8657\n",
      "Epoch 32/100\n",
      "83/83 [==============================] - 0s 561us/step - loss: 0.3145 - accuracy: 0.8641\n",
      "Epoch 33/100\n",
      "83/83 [==============================] - 0s 626us/step - loss: 0.3145 - accuracy: 0.8630\n",
      "Epoch 34/100\n",
      "83/83 [==============================] - 0s 584us/step - loss: 0.3140 - accuracy: 0.8630\n",
      "Epoch 35/100\n",
      "83/83 [==============================] - 0s 571us/step - loss: 0.3155 - accuracy: 0.8603\n",
      "Epoch 36/100\n",
      "83/83 [==============================] - 0s 572us/step - loss: 0.3131 - accuracy: 0.8653\n",
      "Epoch 37/100\n",
      "83/83 [==============================] - 0s 558us/step - loss: 0.3105 - accuracy: 0.8698\n",
      "Epoch 38/100\n",
      "83/83 [==============================] - 0s 562us/step - loss: 0.3134 - accuracy: 0.8634\n",
      "Epoch 39/100\n",
      "83/83 [==============================] - 0s 583us/step - loss: 0.3124 - accuracy: 0.8592\n",
      "Epoch 40/100\n",
      "83/83 [==============================] - 0s 547us/step - loss: 0.3153 - accuracy: 0.8634\n",
      "Epoch 41/100\n",
      "83/83 [==============================] - 0s 547us/step - loss: 0.3123 - accuracy: 0.8638\n",
      "Epoch 42/100\n",
      "83/83 [==============================] - 0s 658us/step - loss: 0.3138 - accuracy: 0.8626\n",
      "Epoch 43/100\n",
      "83/83 [==============================] - 0s 596us/step - loss: 0.3166 - accuracy: 0.8615\n",
      "Epoch 44/100\n",
      "83/83 [==============================] - 0s 597us/step - loss: 0.3074 - accuracy: 0.8691\n",
      "Epoch 45/100\n",
      "83/83 [==============================] - 0s 559us/step - loss: 0.3154 - accuracy: 0.8630\n",
      "Epoch 46/100\n",
      "83/83 [==============================] - 0s 624us/step - loss: 0.3120 - accuracy: 0.8592\n",
      "Epoch 47/100\n",
      "83/83 [==============================] - 0s 599us/step - loss: 0.3092 - accuracy: 0.8630\n",
      "Epoch 48/100\n",
      "83/83 [==============================] - 0s 596us/step - loss: 0.3079 - accuracy: 0.8679\n",
      "Epoch 49/100\n",
      "83/83 [==============================] - 0s 572us/step - loss: 0.3107 - accuracy: 0.8660\n",
      "Epoch 50/100\n",
      "83/83 [==============================] - 0s 572us/step - loss: 0.3065 - accuracy: 0.8626\n",
      "Epoch 51/100\n",
      "83/83 [==============================] - 0s 591us/step - loss: 0.3055 - accuracy: 0.8672\n",
      "Epoch 52/100\n",
      "83/83 [==============================] - 0s 605us/step - loss: 0.3116 - accuracy: 0.8619\n",
      "Epoch 53/100\n",
      "83/83 [==============================] - 0s 647us/step - loss: 0.3060 - accuracy: 0.8713\n",
      "Epoch 54/100\n",
      "83/83 [==============================] - 0s 653us/step - loss: 0.3072 - accuracy: 0.8645\n",
      "Epoch 55/100\n",
      "83/83 [==============================] - 0s 668us/step - loss: 0.3116 - accuracy: 0.8603\n",
      "Epoch 56/100\n",
      "83/83 [==============================] - 0s 602us/step - loss: 0.3063 - accuracy: 0.8649\n",
      "Epoch 57/100\n",
      "83/83 [==============================] - 0s 559us/step - loss: 0.3034 - accuracy: 0.8691\n",
      "Epoch 58/100\n",
      "83/83 [==============================] - 0s 552us/step - loss: 0.3044 - accuracy: 0.8679\n",
      "Epoch 59/100\n",
      "83/83 [==============================] - 0s 584us/step - loss: 0.3033 - accuracy: 0.8638\n",
      "Epoch 60/100\n",
      "83/83 [==============================] - 0s 567us/step - loss: 0.3016 - accuracy: 0.8660\n",
      "Epoch 61/100\n",
      "83/83 [==============================] - 0s 593us/step - loss: 0.3060 - accuracy: 0.8645\n",
      "Epoch 62/100\n",
      "83/83 [==============================] - 0s 541us/step - loss: 0.3017 - accuracy: 0.8725\n",
      "Epoch 63/100\n",
      "83/83 [==============================] - 0s 593us/step - loss: 0.3016 - accuracy: 0.8732\n",
      "Epoch 64/100\n",
      "83/83 [==============================] - 0s 623us/step - loss: 0.3027 - accuracy: 0.8676\n",
      "Epoch 65/100\n",
      "83/83 [==============================] - 0s 573us/step - loss: 0.3003 - accuracy: 0.8706\n",
      "Epoch 66/100\n",
      "83/83 [==============================] - 0s 523us/step - loss: 0.3044 - accuracy: 0.8622\n",
      "Epoch 67/100\n",
      "83/83 [==============================] - 0s 534us/step - loss: 0.3006 - accuracy: 0.8641\n",
      "Epoch 68/100\n",
      "83/83 [==============================] - 0s 580us/step - loss: 0.3013 - accuracy: 0.8679\n",
      "Epoch 69/100\n",
      "83/83 [==============================] - 0s 582us/step - loss: 0.2983 - accuracy: 0.8706\n",
      "Epoch 70/100\n",
      "83/83 [==============================] - 0s 570us/step - loss: 0.2987 - accuracy: 0.8721\n",
      "Epoch 71/100\n",
      "83/83 [==============================] - 0s 547us/step - loss: 0.2988 - accuracy: 0.8679\n",
      "Epoch 72/100\n",
      "83/83 [==============================] - 0s 529us/step - loss: 0.2999 - accuracy: 0.8668\n",
      "Epoch 73/100\n",
      "83/83 [==============================] - 0s 543us/step - loss: 0.2980 - accuracy: 0.8676\n",
      "Epoch 74/100\n",
      "83/83 [==============================] - 0s 510us/step - loss: 0.3008 - accuracy: 0.8668\n",
      "Epoch 75/100\n",
      "83/83 [==============================] - 0s 496us/step - loss: 0.2981 - accuracy: 0.8691\n",
      "Epoch 76/100\n",
      "83/83 [==============================] - 0s 556us/step - loss: 0.2976 - accuracy: 0.8725\n",
      "Epoch 77/100\n",
      "83/83 [==============================] - 0s 590us/step - loss: 0.2956 - accuracy: 0.8683\n",
      "Epoch 78/100\n",
      "83/83 [==============================] - 0s 531us/step - loss: 0.2949 - accuracy: 0.8687\n",
      "Epoch 79/100\n",
      "83/83 [==============================] - 0s 560us/step - loss: 0.2958 - accuracy: 0.8732\n",
      "Epoch 80/100\n",
      "83/83 [==============================] - 0s 548us/step - loss: 0.2949 - accuracy: 0.8698\n",
      "Epoch 81/100\n"
     ]
    },
    {
     "name": "stdout",
     "output_type": "stream",
     "text": [
      "83/83 [==============================] - 0s 505us/step - loss: 0.2933 - accuracy: 0.8706\n",
      "Epoch 82/100\n",
      "83/83 [==============================] - 0s 567us/step - loss: 0.2923 - accuracy: 0.8702\n",
      "Epoch 83/100\n",
      "83/83 [==============================] - 0s 582us/step - loss: 0.2960 - accuracy: 0.8748\n",
      "Epoch 84/100\n",
      "83/83 [==============================] - 0s 579us/step - loss: 0.2926 - accuracy: 0.8721\n",
      "Epoch 85/100\n",
      "83/83 [==============================] - 0s 578us/step - loss: 0.2960 - accuracy: 0.8702\n",
      "Epoch 86/100\n",
      "83/83 [==============================] - 0s 535us/step - loss: 0.2969 - accuracy: 0.8683\n",
      "Epoch 87/100\n",
      "83/83 [==============================] - 0s 554us/step - loss: 0.2926 - accuracy: 0.8672\n",
      "Epoch 88/100\n",
      "83/83 [==============================] - 0s 598us/step - loss: 0.2933 - accuracy: 0.8710\n",
      "Epoch 89/100\n",
      "83/83 [==============================] - 0s 584us/step - loss: 0.2906 - accuracy: 0.8702\n",
      "Epoch 90/100\n",
      "83/83 [==============================] - 0s 596us/step - loss: 0.2886 - accuracy: 0.8740\n",
      "Epoch 91/100\n",
      "83/83 [==============================] - 0s 523us/step - loss: 0.2919 - accuracy: 0.8710\n",
      "Epoch 92/100\n",
      "83/83 [==============================] - 0s 534us/step - loss: 0.2902 - accuracy: 0.8729\n",
      "Epoch 93/100\n",
      "83/83 [==============================] - 0s 578us/step - loss: 0.2902 - accuracy: 0.8725\n",
      "Epoch 94/100\n",
      "83/83 [==============================] - 0s 579us/step - loss: 0.2903 - accuracy: 0.8736\n",
      "Epoch 95/100\n",
      "83/83 [==============================] - 0s 613us/step - loss: 0.2894 - accuracy: 0.8729\n",
      "Epoch 96/100\n",
      "83/83 [==============================] - 0s 627us/step - loss: 0.2869 - accuracy: 0.8736\n",
      "Epoch 97/100\n",
      "83/83 [==============================] - 0s 543us/step - loss: 0.2886 - accuracy: 0.8755\n",
      "Epoch 98/100\n",
      "83/83 [==============================] - 0s 589us/step - loss: 0.2884 - accuracy: 0.8759\n",
      "Epoch 99/100\n",
      "83/83 [==============================] - 0s 557us/step - loss: 0.2882 - accuracy: 0.8755\n",
      "Epoch 100/100\n",
      "83/83 [==============================] - 0s 573us/step - loss: 0.2871 - accuracy: 0.8759\n"
     ]
    },
    {
     "data": {
      "text/plain": [
       "<tensorflow.python.keras.callbacks.History at 0x2088bc589d0>"
      ]
     },
     "execution_count": 162,
     "metadata": {},
     "output_type": "execute_result"
    }
   ],
   "source": [
    "model3=keras.Sequential([\n",
    "    keras.layers.Dense(26,input_shape=(26,),activation='relu'),\n",
    "    keras.layers.Dense(15,activation='relu'),\n",
    "    keras.layers.Dense(1,activation='sigmoid')\n",
    "])\n",
    "\n",
    "model.compile(optimizer='adam',loss='binary_crossentropy',metrics=['accuracy'])\n",
    "\n",
    "model.fit(x_train,y_train,epochs=100)"
   ]
  },
  {
   "cell_type": "code",
   "execution_count": 163,
   "metadata": {},
   "outputs": [],
   "source": [
    "yp=model3.predict(x_test)\n",
    "\n",
    "y_pred3=[]\n",
    "for element in yp:\n",
    "    if element>0.5:\n",
    "        y_pred3.append(1)\n",
    "    else:\n",
    "        y_pred3.append(0)"
   ]
  },
  {
   "cell_type": "code",
   "execution_count": 164,
   "metadata": {},
   "outputs": [
    {
     "name": "stdout",
     "output_type": "stream",
     "text": [
      "              precision    recall  f1-score   support\n",
      "\n",
      "           0       0.68      0.27      0.39      1033\n",
      "           1       0.24      0.64      0.35       374\n",
      "\n",
      "    accuracy                           0.37      1407\n",
      "   macro avg       0.46      0.46      0.37      1407\n",
      "weighted avg       0.56      0.37      0.38      1407\n",
      "\n"
     ]
    }
   ],
   "source": [
    "from sklearn.metrics import confusion_matrix,classification_report\n",
    "print(classification_report(y_test,y_pred3))"
   ]
  },
  {
   "cell_type": "markdown",
   "metadata": {},
   "source": [
    "### When you get 2 or 3 your majority vote is 1 & when you get 0&1 your majority vote is zero\n",
    "#### Vote1+vote2+vote3=0 or 1 or 2 or 3\n",
    "#### where vote can take value 0 or 1"
   ]
  },
  {
   "cell_type": "code",
   "execution_count": 167,
   "metadata": {},
   "outputs": [
    {
     "data": {
      "text/plain": [
       "1407"
      ]
     },
     "execution_count": 167,
     "metadata": {},
     "output_type": "execute_result"
    }
   ],
   "source": [
    "len(y_pred3)"
   ]
  },
  {
   "cell_type": "code",
   "execution_count": 172,
   "metadata": {},
   "outputs": [],
   "source": [
    "y_pred_final=y_pred1.copy()\n",
    "\n",
    "for i in range(len(y_pred1)):\n",
    "    n_ones=y_pred1[i]+y_pred2[i]+y_pred3[i]\n",
    "    if n_ones>1:\n",
    "        y_pred_final[i]=1\n",
    "    else:\n",
    "        y_pred_final[i]=0"
   ]
  },
  {
   "cell_type": "code",
   "execution_count": 174,
   "metadata": {},
   "outputs": [
    {
     "name": "stdout",
     "output_type": "stream",
     "text": [
      "              precision    recall  f1-score   support\n",
      "\n",
      "           0       0.88      0.55      0.68      1033\n",
      "           1       0.39      0.80      0.52       374\n",
      "\n",
      "    accuracy                           0.61      1407\n",
      "   macro avg       0.64      0.67      0.60      1407\n",
      "weighted avg       0.75      0.61      0.64      1407\n",
      "\n"
     ]
    }
   ],
   "source": [
    "print(classification_report(y_test,y_pred_final))"
   ]
  }
 ],
 "metadata": {
  "kernelspec": {
   "display_name": "Python 3",
   "language": "python",
   "name": "python3"
  },
  "language_info": {
   "codemirror_mode": {
    "name": "ipython",
    "version": 3
   },
   "file_extension": ".py",
   "mimetype": "text/x-python",
   "name": "python",
   "nbconvert_exporter": "python",
   "pygments_lexer": "ipython3",
   "version": "3.8.3"
  }
 },
 "nbformat": 4,
 "nbformat_minor": 4
}
